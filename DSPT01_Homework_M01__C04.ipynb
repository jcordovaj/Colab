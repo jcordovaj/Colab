{
  "cells": [
    {
      "cell_type": "markdown",
      "metadata": {
        "id": "view-in-github",
        "colab_type": "text"
      },
      "source": [
        "<a href=\"https://colab.research.google.com/github/jcordovaj/ColabEjercicios/blob/main/DSPT01_Homework_M01__C04.ipynb\" target=\"_parent\"><img src=\"https://colab.research.google.com/assets/colab-badge.svg\" alt=\"Open In Colab\"/></a>"
      ]
    },
    {
      "cell_type": "markdown",
      "metadata": {
        "id": "1jbf4RZ4WgZs"
      },
      "source": [
        "# Práctica Clase 4"
      ]
    },
    {
      "cell_type": "markdown",
      "metadata": {
        "id": "aXJ-u0IQWgZ0"
      },
      "source": [
        "## Biblioteca Pandas\n"
      ]
    },
    {
      "cell_type": "markdown",
      "metadata": {
        "id": "wWCgp6jqWgZ1"
      },
      "source": [
        "## Introducción"
      ]
    },
    {
      "cell_type": "markdown",
      "metadata": {
        "id": "nvO9oXW9WgZ3"
      },
      "source": [
        "* Las filas y columnas están identificados con etiquetas, además de simples índices enteros\n",
        "* Es importante entender un poco de las estructuras de Pandas\n",
        "* Tres estructuras importantes:\n",
        "    + `Series`\n",
        "    + `DataFrame`\n",
        "    + `Index`"
      ]
    },
    {
      "cell_type": "code",
      "execution_count": null,
      "metadata": {
        "id": "HXLNRWFKWgZ4"
      },
      "outputs": [],
      "source": [
        "import numpy as np\n",
        "import pandas as pd"
      ]
    },
    {
      "cell_type": "markdown",
      "metadata": {
        "id": "1_QF7BNiWgZ6"
      },
      "source": [
        "## Objetos `Series` en Pandas\n",
        "\n",
        "* Puede pensarse como una array de una sola dimensión indexado. \n",
        "* Puede ser creado desde una lista:"
      ]
    },
    {
      "cell_type": "code",
      "execution_count": null,
      "metadata": {
        "id": "LPRjU9YrWgZ8",
        "outputId": "67c01402-533d-4bd1-9197-8d57a6138335"
      },
      "outputs": [
        {
          "data": {
            "text/plain": [
              "0    0.25\n",
              "1    0.50\n",
              "2    0.75\n",
              "3    1.00\n",
              "4    1.30\n",
              "dtype: float64"
            ]
          },
          "execution_count": 2,
          "metadata": {},
          "output_type": "execute_result"
        }
      ],
      "source": [
        "data = pd.Series([0.25, 0.5, 0.75, 1.0, 1.3])\n",
        "data"
      ]
    },
    {
      "cell_type": "markdown",
      "metadata": {
        "id": "ZaN1vXntWgZ-"
      },
      "source": [
        "* Una ``Series`` encapsula tanto una secuencia de valores como una de índices.\n",
        "* Podemos acceder a ellos con los atributos `values` e `index`"
      ]
    },
    {
      "cell_type": "code",
      "execution_count": null,
      "metadata": {
        "id": "VzYtZW1NWgZ_",
        "outputId": "9c5eb74c-2fa5-46de-a863-043f6cedea56"
      },
      "outputs": [
        {
          "data": {
            "text/plain": [
              "array([0.25, 0.5 , 0.75, 1.  , 1.3 ])"
            ]
          },
          "execution_count": 3,
          "metadata": {},
          "output_type": "execute_result"
        }
      ],
      "source": [
        "data.values"
      ]
    },
    {
      "cell_type": "markdown",
      "metadata": {
        "id": "Io903JM5WgaA"
      },
      "source": [
        "* Un `index` es un objeto similar a un array."
      ]
    },
    {
      "cell_type": "code",
      "execution_count": null,
      "metadata": {
        "id": "4tslNMV6WgaB",
        "outputId": "cd214a75-d467-4ea4-d786-b3a11f5ac94a"
      },
      "outputs": [
        {
          "data": {
            "text/plain": [
              "RangeIndex(start=0, stop=5, step=1)"
            ]
          },
          "execution_count": 4,
          "metadata": {},
          "output_type": "execute_result"
        }
      ],
      "source": [
        "data.index"
      ]
    },
    {
      "cell_type": "markdown",
      "metadata": {
        "id": "oWtfuzpBWgaC"
      },
      "source": [
        "* Podemos acceder a una `Series` a través del índice asociado de forma similar a los arrays de Numpy: con los `[]` \n"
      ]
    },
    {
      "cell_type": "code",
      "execution_count": null,
      "metadata": {
        "id": "Kp6mliCgWgaC",
        "outputId": "6d1e28b5-79c8-4537-ea9a-8da2d88fd369"
      },
      "outputs": [
        {
          "data": {
            "text/plain": [
              "0.5"
            ]
          },
          "execution_count": 69,
          "metadata": {},
          "output_type": "execute_result"
        }
      ],
      "source": [
        "data[1]"
      ]
    },
    {
      "cell_type": "code",
      "execution_count": null,
      "metadata": {
        "id": "w4VBCK0QWgaD",
        "outputId": "7bb3ddbe-1213-4340-e358-c64e47a5b8bb"
      },
      "outputs": [
        {
          "data": {
            "text/plain": [
              "2    0.75\n",
              "3    1.00\n",
              "4    1.30\n",
              "dtype: float64"
            ]
          },
          "execution_count": 5,
          "metadata": {},
          "output_type": "execute_result"
        }
      ],
      "source": [
        "data[2:]"
      ]
    },
    {
      "cell_type": "markdown",
      "metadata": {
        "id": "jQRWWe45WgaE"
      },
      "source": [
        "### ``Series`` como generalización de un array de  NumPy "
      ]
    },
    {
      "cell_type": "markdown",
      "metadata": {
        "id": "6vW_vGiXWgaE"
      },
      "source": [
        "* La diferencia esencial con un array de Numpy es que mientras que el array tiene un índice entero *\"implícitamente definido\"*, una `Series` de Pandas tiene un índice asociado a los valores *que está definido de forma explícita*\n",
        "* Este índice explícito le da a una `Series` capacidades adicionales.\n",
        "* El índice explícito no tiene por qué ser un entero y tampoco todos sus valores tienen que ser necesariamente únicos."
      ]
    },
    {
      "cell_type": "markdown",
      "metadata": {
        "id": "roBwZILtWgaF"
      },
      "source": [
        "* Pueden ser `strings` "
      ]
    },
    {
      "cell_type": "code",
      "execution_count": null,
      "metadata": {
        "id": "Nh4WeLy5WgaF",
        "outputId": "ec6dbaad-7835-48e1-eeb7-3cb476045d0e"
      },
      "outputs": [
        {
          "data": {
            "text/plain": [
              "a    0.25\n",
              "b    0.50\n",
              "c    0.75\n",
              "d    1.00\n",
              "dtype: float64"
            ]
          },
          "execution_count": 10,
          "metadata": {},
          "output_type": "execute_result"
        }
      ],
      "source": [
        "data = pd.Series([0.25, 0.5, 0.75, 1.0],\n",
        "                 index=['a', 'b', 'c', 'd'])\n",
        "data"
      ]
    },
    {
      "cell_type": "code",
      "execution_count": null,
      "metadata": {
        "id": "Ee0M5dDoWgaG",
        "outputId": "02c82971-7623-4415-b033-cf093e1db986"
      },
      "outputs": [
        {
          "data": {
            "text/plain": [
              "Index(['a', 'b', 'c', 'd'], dtype='object')"
            ]
          },
          "execution_count": 11,
          "metadata": {},
          "output_type": "execute_result"
        }
      ],
      "source": [
        "data.index"
      ]
    },
    {
      "cell_type": "markdown",
      "metadata": {
        "id": "FJI27a71WgaH"
      },
      "source": [
        "* Y podemos acceder simplemente:"
      ]
    },
    {
      "cell_type": "code",
      "execution_count": null,
      "metadata": {
        "id": "V-idT00hWgaI",
        "outputId": "16c50db2-8338-4dd6-f6b9-722564827f37"
      },
      "outputs": [
        {
          "data": {
            "text/plain": [
              "0.5"
            ]
          },
          "execution_count": 7,
          "metadata": {},
          "output_type": "execute_result"
        }
      ],
      "source": [
        "data['b']"
      ]
    },
    {
      "cell_type": "markdown",
      "metadata": {
        "id": "RWcBWNdSWgaJ"
      },
      "source": [
        "* O puede ser una secuencia no contigua de `int`s"
      ]
    },
    {
      "cell_type": "code",
      "execution_count": null,
      "metadata": {
        "id": "k6910VOjWgaJ",
        "outputId": "38c9a9ea-3e8d-45bd-bb0f-7c113c4befd9"
      },
      "outputs": [
        {
          "data": {
            "text/plain": [
              "2    0.25\n",
              "5    0.50\n",
              "3    0.75\n",
              "1    1.00\n",
              "dtype: float64"
            ]
          },
          "execution_count": 8,
          "metadata": {},
          "output_type": "execute_result"
        }
      ],
      "source": [
        "data = pd.Series([0.25, 0.5, 0.75, 1.0],\n",
        "                 index=[2, 5, 3, 1])\n",
        "data"
      ]
    },
    {
      "cell_type": "code",
      "execution_count": null,
      "metadata": {
        "id": "mzBeX0R7WgaK",
        "outputId": "b4cd0e4d-0eaf-46b7-d364-374a6e666fa8"
      },
      "outputs": [
        {
          "data": {
            "text/plain": [
              "0.5"
            ]
          },
          "execution_count": 9,
          "metadata": {},
          "output_type": "execute_result"
        }
      ],
      "source": [
        "data[5]"
      ]
    },
    {
      "cell_type": "markdown",
      "metadata": {
        "id": "uDwCb7uEWgaL"
      },
      "source": [
        "### ``Series`` como un `dict` especializado"
      ]
    },
    {
      "cell_type": "markdown",
      "metadata": {
        "id": "8cy10x9nWgaL"
      },
      "source": [
        "* Un `dict` es una estructura que mapea un set de keys arbitrarias a un set de valores de un tipo.\n",
        "* Puede hacerse, entonces, una analogía entre una `Series` y un `dict`"
      ]
    },
    {
      "cell_type": "code",
      "execution_count": null,
      "metadata": {
        "id": "oKx11dNkWgaM",
        "outputId": "1edca94a-0f4d-47ee-b958-2c7d7026bb78"
      },
      "outputs": [
        {
          "data": {
            "text/plain": [
              "California    38332521\n",
              "Texas         26448193\n",
              "New York      19651127\n",
              "Florida       19552860\n",
              "Illinois      12882135\n",
              "dtype: int64"
            ]
          },
          "execution_count": 12,
          "metadata": {},
          "output_type": "execute_result"
        }
      ],
      "source": [
        "population_dict = {'California': 38332521,\n",
        "                   'Texas': 26448193,\n",
        "                   'New York': 19651127,\n",
        "                   'Florida': 19552860,\n",
        "                   'Illinois': 12882135}\n",
        "\n",
        "population = pd.Series(population_dict)\n",
        "population"
      ]
    },
    {
      "cell_type": "code",
      "execution_count": null,
      "metadata": {
        "id": "Cs061BiYWgaN",
        "outputId": "49062cbc-f28f-4759-cb5c-cfc222d81577"
      },
      "outputs": [
        {
          "data": {
            "text/plain": [
              "array([38332521, 26448193, 19651127, 19552860, 12882135], dtype=int64)"
            ]
          },
          "execution_count": 13,
          "metadata": {},
          "output_type": "execute_result"
        }
      ],
      "source": [
        "population.values"
      ]
    },
    {
      "cell_type": "code",
      "execution_count": null,
      "metadata": {
        "id": "W84EAIt3WgaN",
        "outputId": "44914ef2-d144-442e-8232-d40ca92eb878"
      },
      "outputs": [
        {
          "data": {
            "text/plain": [
              "Index(['California', 'Texas', 'New York', 'Florida', 'Illinois'], dtype='object')"
            ]
          },
          "execution_count": 14,
          "metadata": {},
          "output_type": "execute_result"
        }
      ],
      "source": [
        "population.index"
      ]
    },
    {
      "cell_type": "markdown",
      "metadata": {
        "id": "26FkPsd0WgaO"
      },
      "source": [
        "* Puede crearse una `Series` a partir de un `dict`: el índice se toma de las keys.\n",
        "* Así, puede accederse de forma análoga a un `dict`."
      ]
    },
    {
      "cell_type": "code",
      "execution_count": null,
      "metadata": {
        "id": "yLO0TwDZWgaO",
        "outputId": "f1d138f1-b16a-48a4-ea40-d45022da2bdb"
      },
      "outputs": [
        {
          "data": {
            "text/plain": [
              "38332521"
            ]
          },
          "execution_count": 15,
          "metadata": {},
          "output_type": "execute_result"
        }
      ],
      "source": [
        "population['California']"
      ]
    },
    {
      "cell_type": "markdown",
      "metadata": {
        "id": "kwhFk83ZWgaP"
      },
      "source": [
        "* A diferencia de un `dict` una `Series` soporta algunas operaciones del estilo de un array, como por ejemplo, slicing:"
      ]
    },
    {
      "cell_type": "code",
      "execution_count": null,
      "metadata": {
        "id": "Uud6xdXFWgaQ",
        "outputId": "933eadb7-72e6-4a67-a6ec-4672aa0a238a"
      },
      "outputs": [
        {
          "data": {
            "text/plain": [
              "California    38332521\n",
              "Texas         26448193\n",
              "New York      19651127\n",
              "dtype: int64"
            ]
          },
          "execution_count": 16,
          "metadata": {},
          "output_type": "execute_result"
        }
      ],
      "source": [
        "population['California':'New York']"
      ]
    },
    {
      "cell_type": "markdown",
      "metadata": {
        "id": "-U_Ss4yuWgaQ"
      },
      "source": [
        "* Si creamos una `Series` con una lista de strings se respeta el orden de las columnas, mientras que las claves de los `dicts` se ordenan alfabéticamente al crearse la `Series`"
      ]
    },
    {
      "cell_type": "code",
      "execution_count": null,
      "metadata": {
        "id": "hJayr8Y6WgaQ"
      },
      "outputs": [],
      "source": [
        "states_list = ['Illinois','Texas','New York', 'Florida', 'California']\n",
        "states_pop = [12882135, 26448193, 19651127, 19552860, 38332521]\n",
        "states = pd.Series(states_pop, index= states_list)"
      ]
    },
    {
      "cell_type": "code",
      "execution_count": null,
      "metadata": {
        "id": "HEKVspgCWgaR",
        "outputId": "78d098a9-5cf6-472c-95c8-a3936a0428bb"
      },
      "outputs": [
        {
          "data": {
            "text/plain": [
              "Illinois    12882135\n",
              "Texas       26448193\n",
              "New York    19651127\n",
              "dtype: int64"
            ]
          },
          "execution_count": 18,
          "metadata": {},
          "output_type": "execute_result"
        }
      ],
      "source": [
        "states['Illinois':'New York']"
      ]
    },
    {
      "cell_type": "markdown",
      "metadata": {
        "id": "g7TMYE3yWgaR"
      },
      "source": [
        "### Construyendo objetos Series"
      ]
    },
    {
      "cell_type": "markdown",
      "metadata": {
        "id": "iVyEqo2ZWgaS"
      },
      "source": [
        "* Podemos construir `Series` desde cero. La forma general de hacerlo es la siguiente:\n",
        "\n",
        "```python\n",
        ">>> pd.Series(data, index=index)\n",
        "```\n",
        "* `index` es un argumento opcional y `data` puede ser varias cosas"
      ]
    },
    {
      "cell_type": "code",
      "execution_count": null,
      "metadata": {
        "scrolled": true,
        "id": "sqTLVmwdWgaS",
        "outputId": "fec18ad4-59af-4742-efa7-df360f02f0cc"
      },
      "outputs": [
        {
          "data": {
            "text/plain": [
              "0    2\n",
              "1    4\n",
              "2    6\n",
              "dtype: int64"
            ]
          },
          "execution_count": 82,
          "metadata": {},
          "output_type": "execute_result"
        }
      ],
      "source": [
        "# Una lista o un array de Numpy\n",
        "pd.Series([2, 4, 6])"
      ]
    },
    {
      "cell_type": "code",
      "execution_count": null,
      "metadata": {
        "id": "zPpcZDd_WgaT",
        "outputId": "2c7e4d9c-586e-4cb8-b3fb-e486a655ae25"
      },
      "outputs": [
        {
          "data": {
            "text/plain": [
              "100    5\n",
              "200    5\n",
              "300    5\n",
              "dtype: int64"
            ]
          },
          "execution_count": 83,
          "metadata": {},
          "output_type": "execute_result"
        }
      ],
      "source": [
        "# Un escalar repetido a lo largo de un índice\n",
        "pd.Series(5, index = [100, 200, 300])"
      ]
    },
    {
      "cell_type": "code",
      "execution_count": null,
      "metadata": {
        "id": "erixeZqSWgaT",
        "outputId": "245be82a-5362-4174-b0e3-534db0ac312c"
      },
      "outputs": [
        {
          "data": {
            "text/plain": [
              "2    a\n",
              "1    b\n",
              "3    c\n",
              "dtype: object"
            ]
          },
          "execution_count": 84,
          "metadata": {},
          "output_type": "execute_result"
        }
      ],
      "source": [
        "# Un diccionario\n",
        "pd.Series({2:'a', 1:'b', 3:'c'}) "
      ]
    },
    {
      "cell_type": "code",
      "execution_count": null,
      "metadata": {
        "id": "yNwavH3hWgaT",
        "outputId": "714a30d3-152e-47c5-e11a-4b1c770736cd"
      },
      "outputs": [
        {
          "data": {
            "text/plain": [
              "3    c\n",
              "2    a\n",
              "dtype: object"
            ]
          },
          "execution_count": 19,
          "metadata": {},
          "output_type": "execute_result"
        }
      ],
      "source": [
        "# En cada caso, podría usarse el índice explícitamente si lo que se busca es otro resultado\n",
        "pd.Series({2:'a', 1:'b', 3:'c'}, index=[3, 2]) "
      ]
    },
    {
      "cell_type": "markdown",
      "metadata": {
        "id": "ThSz0b-GWgaU"
      },
      "source": [
        "## Objeto `DataFrame`"
      ]
    },
    {
      "cell_type": "markdown",
      "metadata": {
        "id": "0kzxg4fVWgaU"
      },
      "source": [
        "* Otra estructura fundamental. \n",
        "* También puede ser pensada como una generalización de un array de NumPy o como un tipo especial de diccionario."
      ]
    },
    {
      "cell_type": "markdown",
      "metadata": {
        "id": "eNOVADtAWgaU"
      },
      "source": [
        "### `DataFrame` como un array de Numpy"
      ]
    },
    {
      "cell_type": "markdown",
      "metadata": {
        "id": "yIaCXiakWgaV"
      },
      "source": [
        "* Un `DataFrame` es un tipo análogo a una `Series` en dos dimensiones y, por lo tanto, puede ser una pensado tanto como una generalización de un array de Numpy o como un conjunto de `Series` alineados. Es decir, que tienen el mismo índice.\n",
        "\n",
        "* Para demostrar esto generemos una `Serie` con el área de algunos estados:"
      ]
    },
    {
      "cell_type": "code",
      "execution_count": null,
      "metadata": {
        "id": "0vOm7CrDWgaV",
        "outputId": "153334a1-4e86-45a0-cf28-a193989c976c"
      },
      "outputs": [
        {
          "data": {
            "text/plain": [
              "California    423967.0\n",
              "Texas         695662.0\n",
              "New York      141297.0\n",
              "Florida       170312.0\n",
              "Illinois           NaN\n",
              "dtype: float64"
            ]
          },
          "execution_count": 20,
          "metadata": {},
          "output_type": "execute_result"
        }
      ],
      "source": [
        "area_dict = {'California': 423967, 'Texas': 695662, 'New York': 141297,\n",
        "             'Florida': 170312, 'Illinois': np.nan}\n",
        "area = pd.Series(area_dict)\n",
        "area"
      ]
    },
    {
      "cell_type": "code",
      "execution_count": null,
      "metadata": {
        "id": "0R0dpWc2WgaW",
        "outputId": "2c2bdf80-208d-402a-f07e-4f89a3bcc4e8"
      },
      "outputs": [
        {
          "data": {
            "text/plain": [
              "California    38332521\n",
              "Texas         26448193\n",
              "New York      19651127\n",
              "Florida       19552860\n",
              "Illinois      12882135\n",
              "dtype: int64"
            ]
          },
          "execution_count": 21,
          "metadata": {},
          "output_type": "execute_result"
        }
      ],
      "source": [
        "population"
      ]
    },
    {
      "cell_type": "markdown",
      "metadata": {
        "id": "H_-mr1ioWgaX"
      },
      "source": [
        "* Ahora, podemos usar un diccionario para construir un objeto bidimensional conteniendo toda la información."
      ]
    },
    {
      "cell_type": "code",
      "execution_count": null,
      "metadata": {
        "id": "LVgodajdWgaX",
        "outputId": "a8df8e99-09d3-4979-8a3f-fc3dbb83b608"
      },
      "outputs": [
        {
          "data": {
            "text/html": [
              "<div>\n",
              "<style scoped>\n",
              "    .dataframe tbody tr th:only-of-type {\n",
              "        vertical-align: middle;\n",
              "    }\n",
              "\n",
              "    .dataframe tbody tr th {\n",
              "        vertical-align: top;\n",
              "    }\n",
              "\n",
              "    .dataframe thead th {\n",
              "        text-align: right;\n",
              "    }\n",
              "</style>\n",
              "<table border=\"1\" class=\"dataframe\">\n",
              "  <thead>\n",
              "    <tr style=\"text-align: right;\">\n",
              "      <th></th>\n",
              "      <th>population</th>\n",
              "      <th>area</th>\n",
              "    </tr>\n",
              "  </thead>\n",
              "  <tbody>\n",
              "    <tr>\n",
              "      <th>California</th>\n",
              "      <td>38332521</td>\n",
              "      <td>423967.0</td>\n",
              "    </tr>\n",
              "    <tr>\n",
              "      <th>Texas</th>\n",
              "      <td>26448193</td>\n",
              "      <td>695662.0</td>\n",
              "    </tr>\n",
              "    <tr>\n",
              "      <th>New York</th>\n",
              "      <td>19651127</td>\n",
              "      <td>141297.0</td>\n",
              "    </tr>\n",
              "    <tr>\n",
              "      <th>Florida</th>\n",
              "      <td>19552860</td>\n",
              "      <td>170312.0</td>\n",
              "    </tr>\n",
              "    <tr>\n",
              "      <th>Illinois</th>\n",
              "      <td>12882135</td>\n",
              "      <td>NaN</td>\n",
              "    </tr>\n",
              "  </tbody>\n",
              "</table>\n",
              "</div>"
            ],
            "text/plain": [
              "            population      area\n",
              "California    38332521  423967.0\n",
              "Texas         26448193  695662.0\n",
              "New York      19651127  141297.0\n",
              "Florida       19552860  170312.0\n",
              "Illinois      12882135       NaN"
            ]
          },
          "execution_count": 23,
          "metadata": {},
          "output_type": "execute_result"
        }
      ],
      "source": [
        "states = pd.DataFrame({'population': population,\n",
        "                       'area': area})\n",
        "states"
      ]
    },
    {
      "cell_type": "markdown",
      "metadata": {
        "id": "6PRFHDobWgaY"
      },
      "source": [
        "Al igual que las ``Series``, un ``DataFrame`` posee un atributo ``index``:"
      ]
    },
    {
      "cell_type": "code",
      "execution_count": null,
      "metadata": {
        "id": "7hBDObsGWgaY",
        "outputId": "c7a91dfc-4975-4db5-a329-593fc9916c8d"
      },
      "outputs": [
        {
          "data": {
            "text/plain": [
              "Index(['California', 'Texas', 'New York', 'Florida', 'Illinois'], dtype='object')"
            ]
          },
          "execution_count": 24,
          "metadata": {},
          "output_type": "execute_result"
        }
      ],
      "source": [
        "states.index"
      ]
    },
    {
      "cell_type": "markdown",
      "metadata": {
        "id": "y4I5ThfiWgaZ"
      },
      "source": [
        "Además, tiene un atributo ``columns``, que es un objeto ``Index`` conteniendo las etiquetas de columnas:"
      ]
    },
    {
      "cell_type": "code",
      "execution_count": null,
      "metadata": {
        "id": "mA2NIfyPWgaZ",
        "outputId": "d7a9eeae-b83b-4bbf-a9fb-959d3826bf1a"
      },
      "outputs": [
        {
          "data": {
            "text/plain": [
              "Index(['population', 'area'], dtype='object')"
            ]
          },
          "execution_count": 25,
          "metadata": {},
          "output_type": "execute_result"
        }
      ],
      "source": [
        "states.columns"
      ]
    },
    {
      "cell_type": "code",
      "execution_count": null,
      "metadata": {
        "id": "E-9_w4RAWgaa",
        "outputId": "df0e2a84-59bf-45ed-86d2-a594f41ce834"
      },
      "outputs": [
        {
          "data": {
            "text/plain": [
              "California    38332521\n",
              "Texas         26448193\n",
              "New York      19651127\n",
              "Florida       19552860\n",
              "Illinois      12882135\n",
              "Name: population, dtype: int64"
            ]
          },
          "execution_count": 26,
          "metadata": {},
          "output_type": "execute_result"
        }
      ],
      "source": [
        "states['population']"
      ]
    },
    {
      "cell_type": "code",
      "execution_count": null,
      "metadata": {
        "id": "6-OYKTfbWgaa",
        "outputId": "6d22ccc9-f5c1-4b1e-a2d0-9e8b68d74cb2"
      },
      "outputs": [
        {
          "data": {
            "text/html": [
              "<div>\n",
              "<style scoped>\n",
              "    .dataframe tbody tr th:only-of-type {\n",
              "        vertical-align: middle;\n",
              "    }\n",
              "\n",
              "    .dataframe tbody tr th {\n",
              "        vertical-align: top;\n",
              "    }\n",
              "\n",
              "    .dataframe thead th {\n",
              "        text-align: right;\n",
              "    }\n",
              "</style>\n",
              "<table border=\"1\" class=\"dataframe\">\n",
              "  <thead>\n",
              "    <tr style=\"text-align: right;\">\n",
              "      <th></th>\n",
              "      <th>population</th>\n",
              "      <th>area</th>\n",
              "    </tr>\n",
              "  </thead>\n",
              "  <tbody>\n",
              "    <tr>\n",
              "      <th>California</th>\n",
              "      <td>38332521</td>\n",
              "      <td>423967.0</td>\n",
              "    </tr>\n",
              "    <tr>\n",
              "      <th>Texas</th>\n",
              "      <td>26448193</td>\n",
              "      <td>695662.0</td>\n",
              "    </tr>\n",
              "    <tr>\n",
              "      <th>New York</th>\n",
              "      <td>19651127</td>\n",
              "      <td>141297.0</td>\n",
              "    </tr>\n",
              "    <tr>\n",
              "      <th>Florida</th>\n",
              "      <td>19552860</td>\n",
              "      <td>170312.0</td>\n",
              "    </tr>\n",
              "    <tr>\n",
              "      <th>Illinois</th>\n",
              "      <td>12882135</td>\n",
              "      <td>NaN</td>\n",
              "    </tr>\n",
              "  </tbody>\n",
              "</table>\n",
              "</div>"
            ],
            "text/plain": [
              "            population      area\n",
              "California    38332521  423967.0\n",
              "Texas         26448193  695662.0\n",
              "New York      19651127  141297.0\n",
              "Florida       19552860  170312.0\n",
              "Illinois      12882135       NaN"
            ]
          },
          "execution_count": 27,
          "metadata": {},
          "output_type": "execute_result"
        }
      ],
      "source": [
        "states"
      ]
    },
    {
      "cell_type": "code",
      "execution_count": null,
      "metadata": {
        "id": "iUFVPbERWgaa",
        "outputId": "bde6ebdb-d21b-4030-8d5c-2d5e94b093d6"
      },
      "outputs": [
        {
          "data": {
            "text/html": [
              "<div>\n",
              "<style scoped>\n",
              "    .dataframe tbody tr th:only-of-type {\n",
              "        vertical-align: middle;\n",
              "    }\n",
              "\n",
              "    .dataframe tbody tr th {\n",
              "        vertical-align: top;\n",
              "    }\n",
              "\n",
              "    .dataframe thead th {\n",
              "        text-align: right;\n",
              "    }\n",
              "</style>\n",
              "<table border=\"1\" class=\"dataframe\">\n",
              "  <thead>\n",
              "    <tr style=\"text-align: right;\">\n",
              "      <th></th>\n",
              "      <th>population</th>\n",
              "      <th>area</th>\n",
              "      <th>density</th>\n",
              "    </tr>\n",
              "  </thead>\n",
              "  <tbody>\n",
              "    <tr>\n",
              "      <th>California</th>\n",
              "      <td>38332521</td>\n",
              "      <td>423967.0</td>\n",
              "      <td>90.413926</td>\n",
              "    </tr>\n",
              "    <tr>\n",
              "      <th>Texas</th>\n",
              "      <td>26448193</td>\n",
              "      <td>695662.0</td>\n",
              "      <td>38.018740</td>\n",
              "    </tr>\n",
              "    <tr>\n",
              "      <th>New York</th>\n",
              "      <td>19651127</td>\n",
              "      <td>141297.0</td>\n",
              "      <td>139.076746</td>\n",
              "    </tr>\n",
              "    <tr>\n",
              "      <th>Florida</th>\n",
              "      <td>19552860</td>\n",
              "      <td>170312.0</td>\n",
              "      <td>114.806121</td>\n",
              "    </tr>\n",
              "    <tr>\n",
              "      <th>Illinois</th>\n",
              "      <td>12882135</td>\n",
              "      <td>NaN</td>\n",
              "      <td>NaN</td>\n",
              "    </tr>\n",
              "  </tbody>\n",
              "</table>\n",
              "</div>"
            ],
            "text/plain": [
              "            population      area     density\n",
              "California    38332521  423967.0   90.413926\n",
              "Texas         26448193  695662.0   38.018740\n",
              "New York      19651127  141297.0  139.076746\n",
              "Florida       19552860  170312.0  114.806121\n",
              "Illinois      12882135       NaN         NaN"
            ]
          },
          "execution_count": 28,
          "metadata": {},
          "output_type": "execute_result"
        }
      ],
      "source": [
        "states['density'] = states['population'] / states['area']\n",
        "states"
      ]
    },
    {
      "cell_type": "markdown",
      "metadata": {
        "id": "a7tkhCbCWgab"
      },
      "source": [
        "### DataFrame como un diccionario especializado"
      ]
    },
    {
      "cell_type": "markdown",
      "metadata": {
        "id": "XTbmEXgyWgac"
      },
      "source": [
        "* De forma similar, podemos pensar al `DataFrame` como un diccionario: \n",
        "    \n",
        "    - Un diccionario mapea una key con un valor\n",
        "    - Un `DataFrame` mapea un nombre de columna con una `Series` de datos.\n",
        "    \n",
        "    \n",
        "* Por ejemplo, pedir el atributo `area` del `DataFrame` `states` devuelve una `Series`. "
      ]
    },
    {
      "cell_type": "code",
      "execution_count": null,
      "metadata": {
        "id": "Dy0Z1-6pWgad",
        "outputId": "8fd14048-0f0f-462d-b753-78b02539ef8f"
      },
      "outputs": [
        {
          "data": {
            "text/plain": [
              "California    423967.0\n",
              "Texas         695662.0\n",
              "New York      141297.0\n",
              "Florida       170312.0\n",
              "Illinois           NaN\n",
              "Name: area, dtype: float64"
            ]
          },
          "execution_count": 29,
          "metadata": {},
          "output_type": "execute_result"
        }
      ],
      "source": [
        "states['area']"
      ]
    },
    {
      "cell_type": "markdown",
      "metadata": {
        "id": "OCVvmvWlWgad"
      },
      "source": [
        "### Construyendo objetos `DataFrame`"
      ]
    },
    {
      "cell_type": "markdown",
      "metadata": {
        "id": "Oyh0ykXAWgad"
      },
      "source": [
        "#### Desde una `Series` simple:"
      ]
    },
    {
      "cell_type": "code",
      "execution_count": null,
      "metadata": {
        "id": "DSfJdbeAWgae",
        "outputId": "eb81359a-ddec-4b17-ff52-a918163b4cb6"
      },
      "outputs": [
        {
          "data": {
            "text/html": [
              "<div>\n",
              "<style scoped>\n",
              "    .dataframe tbody tr th:only-of-type {\n",
              "        vertical-align: middle;\n",
              "    }\n",
              "\n",
              "    .dataframe tbody tr th {\n",
              "        vertical-align: top;\n",
              "    }\n",
              "\n",
              "    .dataframe thead th {\n",
              "        text-align: right;\n",
              "    }\n",
              "</style>\n",
              "<table border=\"1\" class=\"dataframe\">\n",
              "  <thead>\n",
              "    <tr style=\"text-align: right;\">\n",
              "      <th></th>\n",
              "      <th>population</th>\n",
              "    </tr>\n",
              "  </thead>\n",
              "  <tbody>\n",
              "    <tr>\n",
              "      <th>California</th>\n",
              "      <td>38332521</td>\n",
              "    </tr>\n",
              "    <tr>\n",
              "      <th>Texas</th>\n",
              "      <td>26448193</td>\n",
              "    </tr>\n",
              "    <tr>\n",
              "      <th>New York</th>\n",
              "      <td>19651127</td>\n",
              "    </tr>\n",
              "    <tr>\n",
              "      <th>Florida</th>\n",
              "      <td>19552860</td>\n",
              "    </tr>\n",
              "    <tr>\n",
              "      <th>Illinois</th>\n",
              "      <td>12882135</td>\n",
              "    </tr>\n",
              "  </tbody>\n",
              "</table>\n",
              "</div>"
            ],
            "text/plain": [
              "            population\n",
              "California    38332521\n",
              "Texas         26448193\n",
              "New York      19651127\n",
              "Florida       19552860\n",
              "Illinois      12882135"
            ]
          },
          "execution_count": 30,
          "metadata": {},
          "output_type": "execute_result"
        }
      ],
      "source": [
        "pd.DataFrame(population, columns=['population'])"
      ]
    },
    {
      "cell_type": "markdown",
      "metadata": {
        "id": "6fsmnlAeWgae"
      },
      "source": [
        "#### Desde una lista de dicts"
      ]
    },
    {
      "cell_type": "code",
      "execution_count": null,
      "metadata": {
        "id": "DzqrD6b5Wgaf",
        "outputId": "d039eb75-4968-4403-acd9-43c054bbe630"
      },
      "outputs": [
        {
          "data": {
            "text/html": [
              "<div>\n",
              "<style scoped>\n",
              "    .dataframe tbody tr th:only-of-type {\n",
              "        vertical-align: middle;\n",
              "    }\n",
              "\n",
              "    .dataframe tbody tr th {\n",
              "        vertical-align: top;\n",
              "    }\n",
              "\n",
              "    .dataframe thead th {\n",
              "        text-align: right;\n",
              "    }\n",
              "</style>\n",
              "<table border=\"1\" class=\"dataframe\">\n",
              "  <thead>\n",
              "    <tr style=\"text-align: right;\">\n",
              "      <th></th>\n",
              "      <th>a</th>\n",
              "      <th>b</th>\n",
              "    </tr>\n",
              "  </thead>\n",
              "  <tbody>\n",
              "    <tr>\n",
              "      <th>0</th>\n",
              "      <td>0</td>\n",
              "      <td>0</td>\n",
              "    </tr>\n",
              "    <tr>\n",
              "      <th>1</th>\n",
              "      <td>1</td>\n",
              "      <td>2</td>\n",
              "    </tr>\n",
              "    <tr>\n",
              "      <th>2</th>\n",
              "      <td>2</td>\n",
              "      <td>4</td>\n",
              "    </tr>\n",
              "    <tr>\n",
              "      <th>3</th>\n",
              "      <td>3</td>\n",
              "      <td>6</td>\n",
              "    </tr>\n",
              "    <tr>\n",
              "      <th>4</th>\n",
              "      <td>4</td>\n",
              "      <td>8</td>\n",
              "    </tr>\n",
              "    <tr>\n",
              "      <th>5</th>\n",
              "      <td>5</td>\n",
              "      <td>10</td>\n",
              "    </tr>\n",
              "    <tr>\n",
              "      <th>6</th>\n",
              "      <td>6</td>\n",
              "      <td>12</td>\n",
              "    </tr>\n",
              "    <tr>\n",
              "      <th>7</th>\n",
              "      <td>7</td>\n",
              "      <td>14</td>\n",
              "    </tr>\n",
              "    <tr>\n",
              "      <th>8</th>\n",
              "      <td>8</td>\n",
              "      <td>16</td>\n",
              "    </tr>\n",
              "    <tr>\n",
              "      <th>9</th>\n",
              "      <td>9</td>\n",
              "      <td>18</td>\n",
              "    </tr>\n",
              "  </tbody>\n",
              "</table>\n",
              "</div>"
            ],
            "text/plain": [
              "   a   b\n",
              "0  0   0\n",
              "1  1   2\n",
              "2  2   4\n",
              "3  3   6\n",
              "4  4   8\n",
              "5  5  10\n",
              "6  6  12\n",
              "7  7  14\n",
              "8  8  16\n",
              "9  9  18"
            ]
          },
          "execution_count": 31,
          "metadata": {},
          "output_type": "execute_result"
        }
      ],
      "source": [
        "data = [{'a': i, 'b': 2 * i}\n",
        "        for i in range(10)]\n",
        "pd.DataFrame(data)"
      ]
    },
    {
      "cell_type": "markdown",
      "metadata": {
        "id": "zZDYCZCoWgaf"
      },
      "source": [
        "* Notar que incluso si alguna key está perdida en el diccionario, Pandas llena con `NaN` el valor:"
      ]
    },
    {
      "cell_type": "code",
      "execution_count": null,
      "metadata": {
        "id": "Qmt3f_zcWgag",
        "outputId": "e4d8806e-452a-4edb-dd36-90f31f183707"
      },
      "outputs": [
        {
          "data": {
            "text/html": [
              "<div>\n",
              "<style scoped>\n",
              "    .dataframe tbody tr th:only-of-type {\n",
              "        vertical-align: middle;\n",
              "    }\n",
              "\n",
              "    .dataframe tbody tr th {\n",
              "        vertical-align: top;\n",
              "    }\n",
              "\n",
              "    .dataframe thead th {\n",
              "        text-align: right;\n",
              "    }\n",
              "</style>\n",
              "<table border=\"1\" class=\"dataframe\">\n",
              "  <thead>\n",
              "    <tr style=\"text-align: right;\">\n",
              "      <th></th>\n",
              "      <th>a</th>\n",
              "      <th>b</th>\n",
              "      <th>c</th>\n",
              "    </tr>\n",
              "  </thead>\n",
              "  <tbody>\n",
              "    <tr>\n",
              "      <th>0</th>\n",
              "      <td>1.0</td>\n",
              "      <td>2</td>\n",
              "      <td>NaN</td>\n",
              "    </tr>\n",
              "    <tr>\n",
              "      <th>1</th>\n",
              "      <td>NaN</td>\n",
              "      <td>3</td>\n",
              "      <td>4.0</td>\n",
              "    </tr>\n",
              "  </tbody>\n",
              "</table>\n",
              "</div>"
            ],
            "text/plain": [
              "     a  b    c\n",
              "0  1.0  2  NaN\n",
              "1  NaN  3  4.0"
            ]
          },
          "execution_count": 97,
          "metadata": {},
          "output_type": "execute_result"
        }
      ],
      "source": [
        "pd.DataFrame([{'a': 1, 'b': 2}, {'b': 3, 'c': 4}])"
      ]
    },
    {
      "cell_type": "markdown",
      "metadata": {
        "id": "EGv9qz0qWgag"
      },
      "source": [
        "#### De un dict de `Series`"
      ]
    },
    {
      "cell_type": "code",
      "execution_count": null,
      "metadata": {
        "id": "nsPN36tnWgah",
        "outputId": "1f74805a-7c23-4585-c6ed-ef54f9ecd589"
      },
      "outputs": [
        {
          "data": {
            "text/html": [
              "<div>\n",
              "<style scoped>\n",
              "    .dataframe tbody tr th:only-of-type {\n",
              "        vertical-align: middle;\n",
              "    }\n",
              "\n",
              "    .dataframe tbody tr th {\n",
              "        vertical-align: top;\n",
              "    }\n",
              "\n",
              "    .dataframe thead th {\n",
              "        text-align: right;\n",
              "    }\n",
              "</style>\n",
              "<table border=\"1\" class=\"dataframe\">\n",
              "  <thead>\n",
              "    <tr style=\"text-align: right;\">\n",
              "      <th></th>\n",
              "      <th>population</th>\n",
              "      <th>area</th>\n",
              "    </tr>\n",
              "  </thead>\n",
              "  <tbody>\n",
              "    <tr>\n",
              "      <th>California</th>\n",
              "      <td>38332521</td>\n",
              "      <td>423967.0</td>\n",
              "    </tr>\n",
              "    <tr>\n",
              "      <th>Texas</th>\n",
              "      <td>26448193</td>\n",
              "      <td>695662.0</td>\n",
              "    </tr>\n",
              "    <tr>\n",
              "      <th>New York</th>\n",
              "      <td>19651127</td>\n",
              "      <td>141297.0</td>\n",
              "    </tr>\n",
              "    <tr>\n",
              "      <th>Florida</th>\n",
              "      <td>19552860</td>\n",
              "      <td>170312.0</td>\n",
              "    </tr>\n",
              "    <tr>\n",
              "      <th>Illinois</th>\n",
              "      <td>12882135</td>\n",
              "      <td>NaN</td>\n",
              "    </tr>\n",
              "  </tbody>\n",
              "</table>\n",
              "</div>"
            ],
            "text/plain": [
              "            population      area\n",
              "California    38332521  423967.0\n",
              "Texas         26448193  695662.0\n",
              "New York      19651127  141297.0\n",
              "Florida       19552860  170312.0\n",
              "Illinois      12882135       NaN"
            ]
          },
          "execution_count": 32,
          "metadata": {},
          "output_type": "execute_result"
        }
      ],
      "source": [
        "pd.DataFrame({'population': population,\n",
        "              'area': area})"
      ]
    },
    {
      "cell_type": "markdown",
      "metadata": {
        "id": "RPM47bC1Wgah"
      },
      "source": [
        "#### Desde un array Numpy de dos dimensiones"
      ]
    },
    {
      "cell_type": "code",
      "execution_count": null,
      "metadata": {
        "id": "km6qV8pDWgah",
        "outputId": "b5297a3a-e4c4-46bd-ec84-00f3eed53cb3"
      },
      "outputs": [
        {
          "data": {
            "text/html": [
              "<div>\n",
              "<style scoped>\n",
              "    .dataframe tbody tr th:only-of-type {\n",
              "        vertical-align: middle;\n",
              "    }\n",
              "\n",
              "    .dataframe tbody tr th {\n",
              "        vertical-align: top;\n",
              "    }\n",
              "\n",
              "    .dataframe thead th {\n",
              "        text-align: right;\n",
              "    }\n",
              "</style>\n",
              "<table border=\"1\" class=\"dataframe\">\n",
              "  <thead>\n",
              "    <tr style=\"text-align: right;\">\n",
              "      <th></th>\n",
              "      <th>foo</th>\n",
              "      <th>bar</th>\n",
              "    </tr>\n",
              "  </thead>\n",
              "  <tbody>\n",
              "    <tr>\n",
              "      <th>a</th>\n",
              "      <td>0.523511</td>\n",
              "      <td>0.424086</td>\n",
              "    </tr>\n",
              "    <tr>\n",
              "      <th>b</th>\n",
              "      <td>0.573036</td>\n",
              "      <td>0.572367</td>\n",
              "    </tr>\n",
              "    <tr>\n",
              "      <th>c</th>\n",
              "      <td>0.716486</td>\n",
              "      <td>0.306071</td>\n",
              "    </tr>\n",
              "  </tbody>\n",
              "</table>\n",
              "</div>"
            ],
            "text/plain": [
              "        foo       bar\n",
              "a  0.523511  0.424086\n",
              "b  0.573036  0.572367\n",
              "c  0.716486  0.306071"
            ]
          },
          "execution_count": 33,
          "metadata": {},
          "output_type": "execute_result"
        }
      ],
      "source": [
        "pd.DataFrame(np.random.rand(3, 2),\n",
        "             columns=['foo', 'bar'],\n",
        "             index=['a', 'b', 'c'])"
      ]
    },
    {
      "cell_type": "markdown",
      "metadata": {
        "id": "CRLfEJDyWgai"
      },
      "source": [
        "## El objeto `Index`"
      ]
    },
    {
      "cell_type": "markdown",
      "metadata": {
        "id": "KmBPGgotWgai"
      },
      "source": [
        "* Un `Index` puede ser pensado como un _array inmutable_  o como un set ordenado\n",
        "* Para ilustrar las implicancias de este punto pensemos en el siguiente ejemplo en el que construimos un `Index` desde una lista de enteros.\n",
        "* Los `DataFrames` tienen un `Index` que describe a las filas y otro que describe a las columnas. \n",
        "* Al  `Index` de filas se accede con `df.index` y al de columna `df.columns`."
      ]
    },
    {
      "cell_type": "code",
      "execution_count": null,
      "metadata": {
        "id": "mfy0NlfdWgai",
        "outputId": "0fbe21fa-6cf9-408f-dd5a-5c87a5b24655"
      },
      "outputs": [
        {
          "data": {
            "text/plain": [
              "Int64Index([2, 3, 5, 7, 11], dtype='int64')"
            ]
          },
          "execution_count": 34,
          "metadata": {},
          "output_type": "execute_result"
        }
      ],
      "source": [
        "ind = pd.Index([2, 3, 5, 7, 11])\n",
        "ind"
      ]
    },
    {
      "cell_type": "markdown",
      "metadata": {
        "id": "3V83geUhWgai"
      },
      "source": [
        "### `Index` como una array inmutable\n",
        "\n",
        "* Podemos indexar y hacer slicing de forma similar a un array"
      ]
    },
    {
      "cell_type": "code",
      "execution_count": null,
      "metadata": {
        "id": "wU3btuRZWgai",
        "outputId": "2c5f8bbc-2405-4ac5-bfb6-319f1d6771ae"
      },
      "outputs": [
        {
          "data": {
            "text/plain": [
              "3"
            ]
          },
          "execution_count": 35,
          "metadata": {},
          "output_type": "execute_result"
        }
      ],
      "source": [
        "ind[1]"
      ]
    },
    {
      "cell_type": "code",
      "execution_count": null,
      "metadata": {
        "id": "rPXpOp_2Wgaj",
        "outputId": "3d937602-638d-4761-af51-d3f05030cef4"
      },
      "outputs": [
        {
          "data": {
            "text/plain": [
              "Int64Index([2, 5, 11], dtype='int64')"
            ]
          },
          "execution_count": 36,
          "metadata": {},
          "output_type": "execute_result"
        }
      ],
      "source": [
        "ind[::2]"
      ]
    },
    {
      "cell_type": "markdown",
      "metadata": {
        "id": "ANagiUEZWgaj"
      },
      "source": [
        "Los `Index` tienen atributos similares a los arrays de Numpy"
      ]
    },
    {
      "cell_type": "code",
      "execution_count": null,
      "metadata": {
        "id": "5Efkro4EWgaj",
        "outputId": "134082df-be09-4da0-9bd2-1a4a012d14fa"
      },
      "outputs": [
        {
          "name": "stdout",
          "output_type": "stream",
          "text": [
            "5 (5,) 1 int64\n"
          ]
        }
      ],
      "source": [
        "print(ind.size, ind.shape, ind.ndim, ind.dtype)"
      ]
    },
    {
      "cell_type": "markdown",
      "metadata": {
        "id": "MvgO9-o7Wgak"
      },
      "source": [
        "Una diferencia entre los ``Index`` y los arrays de NumPy es que los primeros son *inmutables*:"
      ]
    },
    {
      "cell_type": "code",
      "execution_count": null,
      "metadata": {
        "id": "7oEFH6JtWgak",
        "outputId": "2a93c97f-5a18-4cfa-92a8-5406264dba9f"
      },
      "outputs": [
        {
          "ename": "TypeError",
          "evalue": "Index does not support mutable operations",
          "output_type": "error",
          "traceback": [
            "\u001b[1;31m---------------------------------------------------------------------------\u001b[0m",
            "\u001b[1;31mTypeError\u001b[0m                                 Traceback (most recent call last)",
            "\u001b[1;32m<ipython-input-38-906a9fa1424c>\u001b[0m in \u001b[0;36m<module>\u001b[1;34m\u001b[0m\n\u001b[1;32m----> 1\u001b[1;33m \u001b[0mind\u001b[0m\u001b[1;33m[\u001b[0m\u001b[1;36m1\u001b[0m\u001b[1;33m]\u001b[0m \u001b[1;33m=\u001b[0m \u001b[1;36m0\u001b[0m\u001b[1;33m\u001b[0m\u001b[1;33m\u001b[0m\u001b[0m\n\u001b[0m",
            "\u001b[1;32m~\\Documents\\Miniconda\\envs\\datascience\\lib\\site-packages\\pandas\\core\\indexes\\base.py\u001b[0m in \u001b[0;36m__setitem__\u001b[1;34m(self, key, value)\u001b[0m\n\u001b[0;32m   4258\u001b[0m \u001b[1;33m\u001b[0m\u001b[0m\n\u001b[0;32m   4259\u001b[0m     \u001b[1;32mdef\u001b[0m \u001b[0m__setitem__\u001b[0m\u001b[1;33m(\u001b[0m\u001b[0mself\u001b[0m\u001b[1;33m,\u001b[0m \u001b[0mkey\u001b[0m\u001b[1;33m,\u001b[0m \u001b[0mvalue\u001b[0m\u001b[1;33m)\u001b[0m\u001b[1;33m:\u001b[0m\u001b[1;33m\u001b[0m\u001b[1;33m\u001b[0m\u001b[0m\n\u001b[1;32m-> 4260\u001b[1;33m         \u001b[1;32mraise\u001b[0m \u001b[0mTypeError\u001b[0m\u001b[1;33m(\u001b[0m\u001b[1;34m\"Index does not support mutable operations\"\u001b[0m\u001b[1;33m)\u001b[0m\u001b[1;33m\u001b[0m\u001b[1;33m\u001b[0m\u001b[0m\n\u001b[0m\u001b[0;32m   4261\u001b[0m \u001b[1;33m\u001b[0m\u001b[0m\n\u001b[0;32m   4262\u001b[0m     \u001b[1;32mdef\u001b[0m \u001b[0m__getitem__\u001b[0m\u001b[1;33m(\u001b[0m\u001b[0mself\u001b[0m\u001b[1;33m,\u001b[0m \u001b[0mkey\u001b[0m\u001b[1;33m)\u001b[0m\u001b[1;33m:\u001b[0m\u001b[1;33m\u001b[0m\u001b[1;33m\u001b[0m\u001b[0m\n",
            "\u001b[1;31mTypeError\u001b[0m: Index does not support mutable operations"
          ]
        }
      ],
      "source": [
        "ind[1] = 0"
      ]
    },
    {
      "cell_type": "markdown",
      "metadata": {
        "id": "OZNXqAwOWgak"
      },
      "source": [
        "### `Index` como un set ordenado\n",
        "\n",
        "* Se pueden utilizar operaciones de conjuntos con los ``Index`` siguiendo las convenciones de Python"
      ]
    },
    {
      "cell_type": "code",
      "execution_count": null,
      "metadata": {
        "id": "0ylkYM2oWgal"
      },
      "outputs": [],
      "source": [
        "indA = pd.Index([1, 3, 5, 7, 9])\n",
        "indB = pd.Index([2, 3, 5, 7, 11])"
      ]
    },
    {
      "cell_type": "code",
      "execution_count": null,
      "metadata": {
        "id": "_Ncq92NEWgal",
        "outputId": "ac88c5db-c84e-4f38-a5bd-78a8eb7ebabf"
      },
      "outputs": [
        {
          "data": {
            "text/plain": [
              "Int64Index([3, 5, 7], dtype='int64')"
            ]
          },
          "execution_count": 41,
          "metadata": {},
          "output_type": "execute_result"
        }
      ],
      "source": [
        "indA & indB  # intersection"
      ]
    },
    {
      "cell_type": "code",
      "execution_count": null,
      "metadata": {
        "id": "wuFikpNUWgam",
        "outputId": "aa36c4ee-4838-41c7-d82e-21a8f1294947"
      },
      "outputs": [
        {
          "data": {
            "text/plain": [
              "Int64Index([1, 2, 3, 5, 7, 9, 11], dtype='int64')"
            ]
          },
          "execution_count": 42,
          "metadata": {},
          "output_type": "execute_result"
        }
      ],
      "source": [
        "indA | indB  # union"
      ]
    },
    {
      "cell_type": "code",
      "execution_count": null,
      "metadata": {
        "id": "lerRyWOtWgam",
        "outputId": "b0ba7689-a849-4bce-86e1-1947ad5c5270"
      },
      "outputs": [
        {
          "data": {
            "text/plain": [
              "Int64Index([1, 2, 9, 11], dtype='int64')"
            ]
          },
          "execution_count": 43,
          "metadata": {},
          "output_type": "execute_result"
        }
      ],
      "source": [
        "indA ^ indB  # symmetric difference"
      ]
    },
    {
      "cell_type": "markdown",
      "metadata": {
        "id": "f1jZ5R6qWgam"
      },
      "source": [
        "### Series y DataFrames"
      ]
    },
    {
      "cell_type": "code",
      "execution_count": null,
      "metadata": {
        "id": "0U-m3ts5Wgan"
      },
      "outputs": [],
      "source": [
        "import pandas as pd"
      ]
    },
    {
      "cell_type": "code",
      "execution_count": null,
      "metadata": {
        "id": "dvQAAft_Wgan",
        "outputId": "2c5c8dc4-cadc-435a-b63b-d9595f482106"
      },
      "outputs": [
        {
          "data": {
            "text/plain": [
              "0    4\n",
              "1    7\n",
              "2   -5\n",
              "3    3\n",
              "dtype: int64"
            ]
          },
          "execution_count": 45,
          "metadata": {},
          "output_type": "execute_result"
        }
      ],
      "source": [
        "obj = pd.Series([4, 7, -5, 3])\n",
        "obj"
      ]
    },
    {
      "cell_type": "code",
      "execution_count": null,
      "metadata": {
        "id": "XMXNj8FVWgan",
        "outputId": "d3e45705-9a4d-4d60-e771-d39265959051"
      },
      "outputs": [
        {
          "data": {
            "text/plain": [
              "Tortuga       reptil\n",
              "Zorro       mamífero\n",
              "Paloma           ave\n",
              "Elefante    mamífero\n",
              "dtype: object"
            ]
          },
          "execution_count": 46,
          "metadata": {},
          "output_type": "execute_result"
        }
      ],
      "source": [
        "animales = ['Tortuga', 'Zorro', 'Paloma', 'Elefante']\n",
        "tipo = ['reptil', 'mamífero', 'ave', 'mamífero']\n",
        "obj = pd.Series(tipo, index=animales)\n",
        "obj"
      ]
    },
    {
      "cell_type": "markdown",
      "metadata": {
        "id": "Gp2ekaLhWgao"
      },
      "source": [
        "DataFrames"
      ]
    },
    {
      "cell_type": "code",
      "execution_count": null,
      "metadata": {
        "id": "G97TEq6EWgao",
        "outputId": "de587261-6167-473d-e160-fc7b1ca7f498"
      },
      "outputs": [
        {
          "data": {
            "text/html": [
              "<div>\n",
              "<style scoped>\n",
              "    .dataframe tbody tr th:only-of-type {\n",
              "        vertical-align: middle;\n",
              "    }\n",
              "\n",
              "    .dataframe tbody tr th {\n",
              "        vertical-align: top;\n",
              "    }\n",
              "\n",
              "    .dataframe thead th {\n",
              "        text-align: right;\n",
              "    }\n",
              "</style>\n",
              "<table border=\"1\" class=\"dataframe\">\n",
              "  <thead>\n",
              "    <tr style=\"text-align: right;\">\n",
              "      <th></th>\n",
              "      <th>tipo_vivienda</th>\n",
              "      <th>m2</th>\n",
              "    </tr>\n",
              "  </thead>\n",
              "  <tbody>\n",
              "    <tr>\n",
              "      <th>0</th>\n",
              "      <td>casa</td>\n",
              "      <td>35</td>\n",
              "    </tr>\n",
              "    <tr>\n",
              "      <th>1</th>\n",
              "      <td>departamento</td>\n",
              "      <td>49</td>\n",
              "    </tr>\n",
              "  </tbody>\n",
              "</table>\n",
              "</div>"
            ],
            "text/plain": [
              "  tipo_vivienda  m2\n",
              "0          casa  35\n",
              "1  departamento  49"
            ]
          },
          "execution_count": 47,
          "metadata": {},
          "output_type": "execute_result"
        }
      ],
      "source": [
        "d = {'tipo_vivienda': ['casa', 'departamento'], 'm2': [35, 49]}\n",
        "df = pd.DataFrame(data=d)\n",
        "df"
      ]
    },
    {
      "cell_type": "markdown",
      "metadata": {
        "id": "U4-okO_HWgap"
      },
      "source": [
        "### Cargando datos"
      ]
    },
    {
      "cell_type": "code",
      "execution_count": null,
      "metadata": {
        "id": "Fq4F3wj7Wgap",
        "outputId": "85477129-d341-4b10-b40c-e08f8af411d5"
      },
      "outputs": [
        {
          "data": {
            "text/html": [
              "<div>\n",
              "<style scoped>\n",
              "    .dataframe tbody tr th:only-of-type {\n",
              "        vertical-align: middle;\n",
              "    }\n",
              "\n",
              "    .dataframe tbody tr th {\n",
              "        vertical-align: top;\n",
              "    }\n",
              "\n",
              "    .dataframe thead th {\n",
              "        text-align: right;\n",
              "    }\n",
              "</style>\n",
              "<table border=\"1\" class=\"dataframe\">\n",
              "  <thead>\n",
              "    <tr style=\"text-align: right;\">\n",
              "      <th></th>\n",
              "      <th>Date</th>\n",
              "      <th>Team</th>\n",
              "      <th>Opponent</th>\n",
              "      <th>Goal Scored</th>\n",
              "      <th>Ball Possession %</th>\n",
              "      <th>Attempts</th>\n",
              "      <th>On-Target</th>\n",
              "      <th>Off-Target</th>\n",
              "      <th>Blocked</th>\n",
              "      <th>Corners</th>\n",
              "      <th>...</th>\n",
              "      <th>Yellow Card</th>\n",
              "      <th>Yellow &amp; Red</th>\n",
              "      <th>Red</th>\n",
              "      <th>Man of the Match</th>\n",
              "      <th>1st Goal</th>\n",
              "      <th>Round</th>\n",
              "      <th>PSO</th>\n",
              "      <th>Goals in PSO</th>\n",
              "      <th>Own goals</th>\n",
              "      <th>Own goal Time</th>\n",
              "    </tr>\n",
              "  </thead>\n",
              "  <tbody>\n",
              "    <tr>\n",
              "      <th>0</th>\n",
              "      <td>14-06-2018</td>\n",
              "      <td>Russia</td>\n",
              "      <td>Saudi Arabia</td>\n",
              "      <td>5</td>\n",
              "      <td>40</td>\n",
              "      <td>13</td>\n",
              "      <td>7</td>\n",
              "      <td>3</td>\n",
              "      <td>3</td>\n",
              "      <td>6</td>\n",
              "      <td>...</td>\n",
              "      <td>0</td>\n",
              "      <td>0</td>\n",
              "      <td>0</td>\n",
              "      <td>Yes</td>\n",
              "      <td>12.0</td>\n",
              "      <td>Group Stage</td>\n",
              "      <td>No</td>\n",
              "      <td>0</td>\n",
              "      <td>NaN</td>\n",
              "      <td>NaN</td>\n",
              "    </tr>\n",
              "    <tr>\n",
              "      <th>1</th>\n",
              "      <td>14-06-2018</td>\n",
              "      <td>Saudi Arabia</td>\n",
              "      <td>Russia</td>\n",
              "      <td>0</td>\n",
              "      <td>60</td>\n",
              "      <td>6</td>\n",
              "      <td>0</td>\n",
              "      <td>3</td>\n",
              "      <td>3</td>\n",
              "      <td>2</td>\n",
              "      <td>...</td>\n",
              "      <td>0</td>\n",
              "      <td>0</td>\n",
              "      <td>0</td>\n",
              "      <td>No</td>\n",
              "      <td>NaN</td>\n",
              "      <td>Group Stage</td>\n",
              "      <td>No</td>\n",
              "      <td>0</td>\n",
              "      <td>NaN</td>\n",
              "      <td>NaN</td>\n",
              "    </tr>\n",
              "    <tr>\n",
              "      <th>2</th>\n",
              "      <td>15-06-2018</td>\n",
              "      <td>Egypt</td>\n",
              "      <td>Uruguay</td>\n",
              "      <td>0</td>\n",
              "      <td>43</td>\n",
              "      <td>8</td>\n",
              "      <td>3</td>\n",
              "      <td>3</td>\n",
              "      <td>2</td>\n",
              "      <td>0</td>\n",
              "      <td>...</td>\n",
              "      <td>2</td>\n",
              "      <td>0</td>\n",
              "      <td>0</td>\n",
              "      <td>No</td>\n",
              "      <td>NaN</td>\n",
              "      <td>Group Stage</td>\n",
              "      <td>No</td>\n",
              "      <td>0</td>\n",
              "      <td>NaN</td>\n",
              "      <td>NaN</td>\n",
              "    </tr>\n",
              "    <tr>\n",
              "      <th>3</th>\n",
              "      <td>15-06-2018</td>\n",
              "      <td>Uruguay</td>\n",
              "      <td>Egypt</td>\n",
              "      <td>1</td>\n",
              "      <td>57</td>\n",
              "      <td>14</td>\n",
              "      <td>4</td>\n",
              "      <td>6</td>\n",
              "      <td>4</td>\n",
              "      <td>5</td>\n",
              "      <td>...</td>\n",
              "      <td>0</td>\n",
              "      <td>0</td>\n",
              "      <td>0</td>\n",
              "      <td>Yes</td>\n",
              "      <td>89.0</td>\n",
              "      <td>Group Stage</td>\n",
              "      <td>No</td>\n",
              "      <td>0</td>\n",
              "      <td>NaN</td>\n",
              "      <td>NaN</td>\n",
              "    </tr>\n",
              "    <tr>\n",
              "      <th>4</th>\n",
              "      <td>15-06-2018</td>\n",
              "      <td>Morocco</td>\n",
              "      <td>Iran</td>\n",
              "      <td>0</td>\n",
              "      <td>64</td>\n",
              "      <td>13</td>\n",
              "      <td>3</td>\n",
              "      <td>6</td>\n",
              "      <td>4</td>\n",
              "      <td>5</td>\n",
              "      <td>...</td>\n",
              "      <td>1</td>\n",
              "      <td>0</td>\n",
              "      <td>0</td>\n",
              "      <td>No</td>\n",
              "      <td>NaN</td>\n",
              "      <td>Group Stage</td>\n",
              "      <td>No</td>\n",
              "      <td>0</td>\n",
              "      <td>1.0</td>\n",
              "      <td>90.0</td>\n",
              "    </tr>\n",
              "    <tr>\n",
              "      <th>...</th>\n",
              "      <td>...</td>\n",
              "      <td>...</td>\n",
              "      <td>...</td>\n",
              "      <td>...</td>\n",
              "      <td>...</td>\n",
              "      <td>...</td>\n",
              "      <td>...</td>\n",
              "      <td>...</td>\n",
              "      <td>...</td>\n",
              "      <td>...</td>\n",
              "      <td>...</td>\n",
              "      <td>...</td>\n",
              "      <td>...</td>\n",
              "      <td>...</td>\n",
              "      <td>...</td>\n",
              "      <td>...</td>\n",
              "      <td>...</td>\n",
              "      <td>...</td>\n",
              "      <td>...</td>\n",
              "      <td>...</td>\n",
              "      <td>...</td>\n",
              "    </tr>\n",
              "    <tr>\n",
              "      <th>123</th>\n",
              "      <td>11-07-2018</td>\n",
              "      <td>England</td>\n",
              "      <td>Croatia</td>\n",
              "      <td>1</td>\n",
              "      <td>46</td>\n",
              "      <td>11</td>\n",
              "      <td>1</td>\n",
              "      <td>6</td>\n",
              "      <td>4</td>\n",
              "      <td>4</td>\n",
              "      <td>...</td>\n",
              "      <td>1</td>\n",
              "      <td>0</td>\n",
              "      <td>0</td>\n",
              "      <td>No</td>\n",
              "      <td>5.0</td>\n",
              "      <td>Semi- Finals</td>\n",
              "      <td>No</td>\n",
              "      <td>0</td>\n",
              "      <td>NaN</td>\n",
              "      <td>NaN</td>\n",
              "    </tr>\n",
              "    <tr>\n",
              "      <th>124</th>\n",
              "      <td>14-07-2018</td>\n",
              "      <td>Belgium</td>\n",
              "      <td>England</td>\n",
              "      <td>2</td>\n",
              "      <td>43</td>\n",
              "      <td>12</td>\n",
              "      <td>4</td>\n",
              "      <td>3</td>\n",
              "      <td>5</td>\n",
              "      <td>4</td>\n",
              "      <td>...</td>\n",
              "      <td>1</td>\n",
              "      <td>0</td>\n",
              "      <td>0</td>\n",
              "      <td>Yes</td>\n",
              "      <td>4.0</td>\n",
              "      <td>3rd Place</td>\n",
              "      <td>No</td>\n",
              "      <td>0</td>\n",
              "      <td>NaN</td>\n",
              "      <td>NaN</td>\n",
              "    </tr>\n",
              "    <tr>\n",
              "      <th>125</th>\n",
              "      <td>14-07-2018</td>\n",
              "      <td>England</td>\n",
              "      <td>Belgium</td>\n",
              "      <td>0</td>\n",
              "      <td>57</td>\n",
              "      <td>15</td>\n",
              "      <td>5</td>\n",
              "      <td>7</td>\n",
              "      <td>3</td>\n",
              "      <td>5</td>\n",
              "      <td>...</td>\n",
              "      <td>2</td>\n",
              "      <td>0</td>\n",
              "      <td>0</td>\n",
              "      <td>No</td>\n",
              "      <td>NaN</td>\n",
              "      <td>3rd Place</td>\n",
              "      <td>No</td>\n",
              "      <td>0</td>\n",
              "      <td>NaN</td>\n",
              "      <td>NaN</td>\n",
              "    </tr>\n",
              "    <tr>\n",
              "      <th>126</th>\n",
              "      <td>15-07-2018</td>\n",
              "      <td>France</td>\n",
              "      <td>Croatia</td>\n",
              "      <td>4</td>\n",
              "      <td>39</td>\n",
              "      <td>8</td>\n",
              "      <td>6</td>\n",
              "      <td>1</td>\n",
              "      <td>1</td>\n",
              "      <td>2</td>\n",
              "      <td>...</td>\n",
              "      <td>2</td>\n",
              "      <td>0</td>\n",
              "      <td>0</td>\n",
              "      <td>Yes</td>\n",
              "      <td>18.0</td>\n",
              "      <td>Final</td>\n",
              "      <td>No</td>\n",
              "      <td>0</td>\n",
              "      <td>1.0</td>\n",
              "      <td>18.0</td>\n",
              "    </tr>\n",
              "    <tr>\n",
              "      <th>127</th>\n",
              "      <td>15-07-2018</td>\n",
              "      <td>Croatia</td>\n",
              "      <td>France</td>\n",
              "      <td>2</td>\n",
              "      <td>61</td>\n",
              "      <td>15</td>\n",
              "      <td>3</td>\n",
              "      <td>8</td>\n",
              "      <td>4</td>\n",
              "      <td>6</td>\n",
              "      <td>...</td>\n",
              "      <td>1</td>\n",
              "      <td>0</td>\n",
              "      <td>0</td>\n",
              "      <td>No</td>\n",
              "      <td>28.0</td>\n",
              "      <td>Final</td>\n",
              "      <td>No</td>\n",
              "      <td>0</td>\n",
              "      <td>NaN</td>\n",
              "      <td>NaN</td>\n",
              "    </tr>\n",
              "  </tbody>\n",
              "</table>\n",
              "<p>128 rows × 27 columns</p>\n",
              "</div>"
            ],
            "text/plain": [
              "           Date          Team      Opponent  Goal Scored  Ball Possession %  \\\n",
              "0    14-06-2018        Russia  Saudi Arabia            5                 40   \n",
              "1    14-06-2018  Saudi Arabia        Russia            0                 60   \n",
              "2    15-06-2018         Egypt       Uruguay            0                 43   \n",
              "3    15-06-2018       Uruguay         Egypt            1                 57   \n",
              "4    15-06-2018       Morocco          Iran            0                 64   \n",
              "..          ...           ...           ...          ...                ...   \n",
              "123  11-07-2018       England       Croatia            1                 46   \n",
              "124  14-07-2018       Belgium       England            2                 43   \n",
              "125  14-07-2018       England       Belgium            0                 57   \n",
              "126  15-07-2018        France       Croatia            4                 39   \n",
              "127  15-07-2018       Croatia        France            2                 61   \n",
              "\n",
              "     Attempts  On-Target  Off-Target  Blocked  Corners  ...  Yellow Card  \\\n",
              "0          13          7           3        3        6  ...            0   \n",
              "1           6          0           3        3        2  ...            0   \n",
              "2           8          3           3        2        0  ...            2   \n",
              "3          14          4           6        4        5  ...            0   \n",
              "4          13          3           6        4        5  ...            1   \n",
              "..        ...        ...         ...      ...      ...  ...          ...   \n",
              "123        11          1           6        4        4  ...            1   \n",
              "124        12          4           3        5        4  ...            1   \n",
              "125        15          5           7        3        5  ...            2   \n",
              "126         8          6           1        1        2  ...            2   \n",
              "127        15          3           8        4        6  ...            1   \n",
              "\n",
              "     Yellow & Red  Red  Man of the Match  1st Goal         Round  PSO  \\\n",
              "0               0    0               Yes      12.0   Group Stage   No   \n",
              "1               0    0                No       NaN   Group Stage   No   \n",
              "2               0    0                No       NaN   Group Stage   No   \n",
              "3               0    0               Yes      89.0   Group Stage   No   \n",
              "4               0    0                No       NaN   Group Stage   No   \n",
              "..            ...  ...               ...       ...           ...  ...   \n",
              "123             0    0                No       5.0  Semi- Finals   No   \n",
              "124             0    0               Yes       4.0     3rd Place   No   \n",
              "125             0    0                No       NaN     3rd Place   No   \n",
              "126             0    0               Yes      18.0         Final   No   \n",
              "127             0    0                No      28.0         Final   No   \n",
              "\n",
              "     Goals in PSO  Own goals  Own goal Time  \n",
              "0               0        NaN            NaN  \n",
              "1               0        NaN            NaN  \n",
              "2               0        NaN            NaN  \n",
              "3               0        NaN            NaN  \n",
              "4               0        1.0           90.0  \n",
              "..            ...        ...            ...  \n",
              "123             0        NaN            NaN  \n",
              "124             0        NaN            NaN  \n",
              "125             0        NaN            NaN  \n",
              "126             0        1.0           18.0  \n",
              "127             0        NaN            NaN  \n",
              "\n",
              "[128 rows x 27 columns]"
            ]
          },
          "execution_count": 3,
          "metadata": {},
          "output_type": "execute_result"
        }
      ],
      "source": [
        "df = pd.read_csv('fifa-statistics.csv')\n",
        "df"
      ]
    },
    {
      "cell_type": "markdown",
      "metadata": {
        "id": "bS4JFNS_Wgaq"
      },
      "source": [
        "## Selección e Indexing"
      ]
    },
    {
      "cell_type": "markdown",
      "metadata": {
        "id": "8_GzG7SxWgaq"
      },
      "source": [
        "### loc e iloc"
      ]
    },
    {
      "cell_type": "code",
      "execution_count": null,
      "metadata": {
        "id": "8v6ieU5iWgaq",
        "outputId": "08713e71-3bcc-4ac3-d8cc-7d9fe5bd385e"
      },
      "outputs": [
        {
          "data": {
            "text/plain": [
              "'Russia'"
            ]
          },
          "execution_count": 49,
          "metadata": {},
          "output_type": "execute_result"
        }
      ],
      "source": [
        "df.loc[0, 'Team']"
      ]
    },
    {
      "cell_type": "code",
      "execution_count": null,
      "metadata": {
        "id": "K9-EqEnqWgar",
        "outputId": "0c20a044-2c8f-409f-a8ec-416cf32cafc4"
      },
      "outputs": [
        {
          "data": {
            "text/plain": [
              "Team    Russia\n",
              "Name: 0, dtype: object"
            ]
          },
          "execution_count": 50,
          "metadata": {},
          "output_type": "execute_result"
        }
      ],
      "source": [
        "df.iloc[0, [1]]"
      ]
    },
    {
      "cell_type": "code",
      "execution_count": null,
      "metadata": {
        "id": "puEilt_3Wgar",
        "outputId": "ec6ec3b8-0505-4e58-d768-422b5d85823e"
      },
      "outputs": [
        {
          "data": {
            "text/plain": [
              "Date                       15-06-2018\n",
              "Team                            Egypt\n",
              "Opponent                      Uruguay\n",
              "Goal Scored                         0\n",
              "Ball Possession %                  43\n",
              "Attempts                            8\n",
              "On-Target                           3\n",
              "Off-Target                          3\n",
              "Blocked                             2\n",
              "Corners                             0\n",
              "Offsides                            1\n",
              "Free Kicks                          7\n",
              "Saves                               3\n",
              "Pass Accuracy %                    78\n",
              "Passes                            395\n",
              "Distance Covered (Kms)            112\n",
              "Fouls Committed                    12\n",
              "Yellow Card                         2\n",
              "Yellow & Red                        0\n",
              "Red                                 0\n",
              "Man of the Match                   No\n",
              "1st Goal                          NaN\n",
              "Round                     Group Stage\n",
              "PSO                                No\n",
              "Goals in PSO                        0\n",
              "Own goals                         NaN\n",
              "Own goal Time                     NaN\n",
              "Name: 2, dtype: object"
            ]
          },
          "execution_count": 51,
          "metadata": {},
          "output_type": "execute_result"
        }
      ],
      "source": [
        "df.iloc[2]"
      ]
    },
    {
      "cell_type": "markdown",
      "metadata": {
        "id": "Cm7JzIzcWgar"
      },
      "source": [
        "## Análisis descriptivo en Pandas"
      ]
    },
    {
      "cell_type": "markdown",
      "metadata": {
        "id": "iZje0pEEWgas"
      },
      "source": [
        "### describe, info y shape"
      ]
    },
    {
      "cell_type": "code",
      "execution_count": null,
      "metadata": {
        "id": "Zn9EKwxSWgas",
        "outputId": "1881fbf4-e081-4022-f5d3-cad890f925be"
      },
      "outputs": [
        {
          "data": {
            "text/html": [
              "<div>\n",
              "<style scoped>\n",
              "    .dataframe tbody tr th:only-of-type {\n",
              "        vertical-align: middle;\n",
              "    }\n",
              "\n",
              "    .dataframe tbody tr th {\n",
              "        vertical-align: top;\n",
              "    }\n",
              "\n",
              "    .dataframe thead th {\n",
              "        text-align: right;\n",
              "    }\n",
              "</style>\n",
              "<table border=\"1\" class=\"dataframe\">\n",
              "  <thead>\n",
              "    <tr style=\"text-align: right;\">\n",
              "      <th></th>\n",
              "      <th>Goal Scored</th>\n",
              "      <th>Ball Possession %</th>\n",
              "      <th>Attempts</th>\n",
              "      <th>On-Target</th>\n",
              "      <th>Off-Target</th>\n",
              "      <th>Blocked</th>\n",
              "      <th>Corners</th>\n",
              "      <th>Offsides</th>\n",
              "      <th>Free Kicks</th>\n",
              "      <th>Saves</th>\n",
              "      <th>...</th>\n",
              "      <th>Passes</th>\n",
              "      <th>Distance Covered (Kms)</th>\n",
              "      <th>Fouls Committed</th>\n",
              "      <th>Yellow Card</th>\n",
              "      <th>Yellow &amp; Red</th>\n",
              "      <th>Red</th>\n",
              "      <th>1st Goal</th>\n",
              "      <th>Goals in PSO</th>\n",
              "      <th>Own goals</th>\n",
              "      <th>Own goal Time</th>\n",
              "    </tr>\n",
              "  </thead>\n",
              "  <tbody>\n",
              "    <tr>\n",
              "      <th>count</th>\n",
              "      <td>128.000000</td>\n",
              "      <td>128.000000</td>\n",
              "      <td>128.000000</td>\n",
              "      <td>128.000000</td>\n",
              "      <td>128.000000</td>\n",
              "      <td>128.000000</td>\n",
              "      <td>128.000000</td>\n",
              "      <td>128.000000</td>\n",
              "      <td>128.000000</td>\n",
              "      <td>128.000000</td>\n",
              "      <td>...</td>\n",
              "      <td>128.000000</td>\n",
              "      <td>128.000000</td>\n",
              "      <td>128.000000</td>\n",
              "      <td>128.000000</td>\n",
              "      <td>128.000000</td>\n",
              "      <td>128.000000</td>\n",
              "      <td>94.000000</td>\n",
              "      <td>128.000000</td>\n",
              "      <td>12.0</td>\n",
              "      <td>12.000000</td>\n",
              "    </tr>\n",
              "    <tr>\n",
              "      <th>mean</th>\n",
              "      <td>1.320312</td>\n",
              "      <td>49.992188</td>\n",
              "      <td>12.593750</td>\n",
              "      <td>3.914062</td>\n",
              "      <td>5.273438</td>\n",
              "      <td>3.359375</td>\n",
              "      <td>4.718750</td>\n",
              "      <td>1.343750</td>\n",
              "      <td>14.890625</td>\n",
              "      <td>2.726562</td>\n",
              "      <td>...</td>\n",
              "      <td>462.648438</td>\n",
              "      <td>106.664062</td>\n",
              "      <td>13.546875</td>\n",
              "      <td>1.695312</td>\n",
              "      <td>0.015625</td>\n",
              "      <td>0.015625</td>\n",
              "      <td>39.457447</td>\n",
              "      <td>0.203125</td>\n",
              "      <td>1.0</td>\n",
              "      <td>45.833333</td>\n",
              "    </tr>\n",
              "    <tr>\n",
              "      <th>std</th>\n",
              "      <td>1.156519</td>\n",
              "      <td>10.444074</td>\n",
              "      <td>5.245827</td>\n",
              "      <td>2.234403</td>\n",
              "      <td>2.409675</td>\n",
              "      <td>2.403195</td>\n",
              "      <td>2.446072</td>\n",
              "      <td>1.193404</td>\n",
              "      <td>4.724262</td>\n",
              "      <td>2.049447</td>\n",
              "      <td>...</td>\n",
              "      <td>151.186311</td>\n",
              "      <td>11.749537</td>\n",
              "      <td>4.619131</td>\n",
              "      <td>1.325454</td>\n",
              "      <td>0.124507</td>\n",
              "      <td>0.124507</td>\n",
              "      <td>24.496506</td>\n",
              "      <td>0.807049</td>\n",
              "      <td>0.0</td>\n",
              "      <td>29.978275</td>\n",
              "    </tr>\n",
              "    <tr>\n",
              "      <th>min</th>\n",
              "      <td>0.000000</td>\n",
              "      <td>25.000000</td>\n",
              "      <td>3.000000</td>\n",
              "      <td>0.000000</td>\n",
              "      <td>1.000000</td>\n",
              "      <td>0.000000</td>\n",
              "      <td>0.000000</td>\n",
              "      <td>0.000000</td>\n",
              "      <td>5.000000</td>\n",
              "      <td>0.000000</td>\n",
              "      <td>...</td>\n",
              "      <td>189.000000</td>\n",
              "      <td>80.000000</td>\n",
              "      <td>5.000000</td>\n",
              "      <td>0.000000</td>\n",
              "      <td>0.000000</td>\n",
              "      <td>0.000000</td>\n",
              "      <td>1.000000</td>\n",
              "      <td>0.000000</td>\n",
              "      <td>1.0</td>\n",
              "      <td>12.000000</td>\n",
              "    </tr>\n",
              "    <tr>\n",
              "      <th>25%</th>\n",
              "      <td>0.000000</td>\n",
              "      <td>42.000000</td>\n",
              "      <td>9.000000</td>\n",
              "      <td>2.000000</td>\n",
              "      <td>4.000000</td>\n",
              "      <td>1.750000</td>\n",
              "      <td>3.000000</td>\n",
              "      <td>0.000000</td>\n",
              "      <td>11.000000</td>\n",
              "      <td>1.000000</td>\n",
              "      <td>...</td>\n",
              "      <td>351.000000</td>\n",
              "      <td>101.000000</td>\n",
              "      <td>10.000000</td>\n",
              "      <td>1.000000</td>\n",
              "      <td>0.000000</td>\n",
              "      <td>0.000000</td>\n",
              "      <td>18.250000</td>\n",
              "      <td>0.000000</td>\n",
              "      <td>1.0</td>\n",
              "      <td>21.750000</td>\n",
              "    </tr>\n",
              "    <tr>\n",
              "      <th>50%</th>\n",
              "      <td>1.000000</td>\n",
              "      <td>50.000000</td>\n",
              "      <td>12.000000</td>\n",
              "      <td>3.500000</td>\n",
              "      <td>5.000000</td>\n",
              "      <td>3.000000</td>\n",
              "      <td>5.000000</td>\n",
              "      <td>1.000000</td>\n",
              "      <td>15.000000</td>\n",
              "      <td>2.000000</td>\n",
              "      <td>...</td>\n",
              "      <td>462.000000</td>\n",
              "      <td>104.500000</td>\n",
              "      <td>13.000000</td>\n",
              "      <td>2.000000</td>\n",
              "      <td>0.000000</td>\n",
              "      <td>0.000000</td>\n",
              "      <td>39.000000</td>\n",
              "      <td>0.000000</td>\n",
              "      <td>1.0</td>\n",
              "      <td>35.000000</td>\n",
              "    </tr>\n",
              "    <tr>\n",
              "      <th>75%</th>\n",
              "      <td>2.000000</td>\n",
              "      <td>58.000000</td>\n",
              "      <td>15.000000</td>\n",
              "      <td>5.000000</td>\n",
              "      <td>7.000000</td>\n",
              "      <td>4.000000</td>\n",
              "      <td>6.000000</td>\n",
              "      <td>2.000000</td>\n",
              "      <td>18.000000</td>\n",
              "      <td>4.000000</td>\n",
              "      <td>...</td>\n",
              "      <td>555.250000</td>\n",
              "      <td>109.000000</td>\n",
              "      <td>16.000000</td>\n",
              "      <td>2.000000</td>\n",
              "      <td>0.000000</td>\n",
              "      <td>0.000000</td>\n",
              "      <td>54.750000</td>\n",
              "      <td>0.000000</td>\n",
              "      <td>1.0</td>\n",
              "      <td>75.750000</td>\n",
              "    </tr>\n",
              "    <tr>\n",
              "      <th>max</th>\n",
              "      <td>6.000000</td>\n",
              "      <td>75.000000</td>\n",
              "      <td>26.000000</td>\n",
              "      <td>12.000000</td>\n",
              "      <td>11.000000</td>\n",
              "      <td>10.000000</td>\n",
              "      <td>11.000000</td>\n",
              "      <td>5.000000</td>\n",
              "      <td>26.000000</td>\n",
              "      <td>9.000000</td>\n",
              "      <td>...</td>\n",
              "      <td>1137.000000</td>\n",
              "      <td>148.000000</td>\n",
              "      <td>25.000000</td>\n",
              "      <td>6.000000</td>\n",
              "      <td>1.000000</td>\n",
              "      <td>1.000000</td>\n",
              "      <td>90.000000</td>\n",
              "      <td>4.000000</td>\n",
              "      <td>1.0</td>\n",
              "      <td>90.000000</td>\n",
              "    </tr>\n",
              "  </tbody>\n",
              "</table>\n",
              "<p>8 rows × 21 columns</p>\n",
              "</div>"
            ],
            "text/plain": [
              "       Goal Scored  Ball Possession %    Attempts   On-Target  Off-Target  \\\n",
              "count   128.000000         128.000000  128.000000  128.000000  128.000000   \n",
              "mean      1.320312          49.992188   12.593750    3.914062    5.273438   \n",
              "std       1.156519          10.444074    5.245827    2.234403    2.409675   \n",
              "min       0.000000          25.000000    3.000000    0.000000    1.000000   \n",
              "25%       0.000000          42.000000    9.000000    2.000000    4.000000   \n",
              "50%       1.000000          50.000000   12.000000    3.500000    5.000000   \n",
              "75%       2.000000          58.000000   15.000000    5.000000    7.000000   \n",
              "max       6.000000          75.000000   26.000000   12.000000   11.000000   \n",
              "\n",
              "          Blocked     Corners    Offsides  Free Kicks       Saves  ...  \\\n",
              "count  128.000000  128.000000  128.000000  128.000000  128.000000  ...   \n",
              "mean     3.359375    4.718750    1.343750   14.890625    2.726562  ...   \n",
              "std      2.403195    2.446072    1.193404    4.724262    2.049447  ...   \n",
              "min      0.000000    0.000000    0.000000    5.000000    0.000000  ...   \n",
              "25%      1.750000    3.000000    0.000000   11.000000    1.000000  ...   \n",
              "50%      3.000000    5.000000    1.000000   15.000000    2.000000  ...   \n",
              "75%      4.000000    6.000000    2.000000   18.000000    4.000000  ...   \n",
              "max     10.000000   11.000000    5.000000   26.000000    9.000000  ...   \n",
              "\n",
              "            Passes  Distance Covered (Kms)  Fouls Committed  Yellow Card  \\\n",
              "count   128.000000              128.000000       128.000000   128.000000   \n",
              "mean    462.648438              106.664062        13.546875     1.695312   \n",
              "std     151.186311               11.749537         4.619131     1.325454   \n",
              "min     189.000000               80.000000         5.000000     0.000000   \n",
              "25%     351.000000              101.000000        10.000000     1.000000   \n",
              "50%     462.000000              104.500000        13.000000     2.000000   \n",
              "75%     555.250000              109.000000        16.000000     2.000000   \n",
              "max    1137.000000              148.000000        25.000000     6.000000   \n",
              "\n",
              "       Yellow & Red         Red   1st Goal  Goals in PSO  Own goals  \\\n",
              "count    128.000000  128.000000  94.000000    128.000000       12.0   \n",
              "mean       0.015625    0.015625  39.457447      0.203125        1.0   \n",
              "std        0.124507    0.124507  24.496506      0.807049        0.0   \n",
              "min        0.000000    0.000000   1.000000      0.000000        1.0   \n",
              "25%        0.000000    0.000000  18.250000      0.000000        1.0   \n",
              "50%        0.000000    0.000000  39.000000      0.000000        1.0   \n",
              "75%        0.000000    0.000000  54.750000      0.000000        1.0   \n",
              "max        1.000000    1.000000  90.000000      4.000000        1.0   \n",
              "\n",
              "       Own goal Time  \n",
              "count      12.000000  \n",
              "mean       45.833333  \n",
              "std        29.978275  \n",
              "min        12.000000  \n",
              "25%        21.750000  \n",
              "50%        35.000000  \n",
              "75%        75.750000  \n",
              "max        90.000000  \n",
              "\n",
              "[8 rows x 21 columns]"
            ]
          },
          "execution_count": 52,
          "metadata": {},
          "output_type": "execute_result"
        }
      ],
      "source": [
        "df.describe()"
      ]
    },
    {
      "cell_type": "code",
      "execution_count": null,
      "metadata": {
        "id": "dpfwqUkcWgat",
        "outputId": "0dd20b08-8679-4014-a968-55b2a79e2452"
      },
      "outputs": [
        {
          "name": "stdout",
          "output_type": "stream",
          "text": [
            "<class 'pandas.core.frame.DataFrame'>\n",
            "RangeIndex: 128 entries, 0 to 127\n",
            "Data columns (total 27 columns):\n",
            "Date                      128 non-null object\n",
            "Team                      128 non-null object\n",
            "Opponent                  128 non-null object\n",
            "Goal Scored               128 non-null int64\n",
            "Ball Possession %         128 non-null int64\n",
            "Attempts                  128 non-null int64\n",
            "On-Target                 128 non-null int64\n",
            "Off-Target                128 non-null int64\n",
            "Blocked                   128 non-null int64\n",
            "Corners                   128 non-null int64\n",
            "Offsides                  128 non-null int64\n",
            "Free Kicks                128 non-null int64\n",
            "Saves                     128 non-null int64\n",
            "Pass Accuracy %           128 non-null int64\n",
            "Passes                    128 non-null int64\n",
            "Distance Covered (Kms)    128 non-null int64\n",
            "Fouls Committed           128 non-null int64\n",
            "Yellow Card               128 non-null int64\n",
            "Yellow & Red              128 non-null int64\n",
            "Red                       128 non-null int64\n",
            "Man of the Match          128 non-null object\n",
            "1st Goal                  94 non-null float64\n",
            "Round                     128 non-null object\n",
            "PSO                       128 non-null object\n",
            "Goals in PSO              128 non-null int64\n",
            "Own goals                 12 non-null float64\n",
            "Own goal Time             12 non-null float64\n",
            "dtypes: float64(3), int64(18), object(6)\n",
            "memory usage: 27.1+ KB\n"
          ]
        }
      ],
      "source": [
        "df.info()"
      ]
    },
    {
      "cell_type": "code",
      "execution_count": null,
      "metadata": {
        "id": "wHWGs016Wgat",
        "outputId": "5ee6f2d2-ffaf-4157-e5dd-a391a69be52a"
      },
      "outputs": [
        {
          "data": {
            "text/plain": [
              "(128, 27)"
            ]
          },
          "execution_count": 54,
          "metadata": {},
          "output_type": "execute_result"
        }
      ],
      "source": [
        "df.shape"
      ]
    },
    {
      "cell_type": "code",
      "execution_count": null,
      "metadata": {
        "id": "MgGuv64XWgau",
        "outputId": "54428285-c51d-4938-f5ba-be0029b1911d"
      },
      "outputs": [
        {
          "data": {
            "text/plain": [
              "Index(['Date', 'Team', 'Opponent', 'Goal Scored', 'Ball Possession %',\n",
              "       'Attempts', 'On-Target', 'Off-Target', 'Blocked', 'Corners', 'Offsides',\n",
              "       'Free Kicks', 'Saves', 'Pass Accuracy %', 'Passes',\n",
              "       'Distance Covered (Kms)', 'Fouls Committed', 'Yellow Card',\n",
              "       'Yellow & Red', 'Red', 'Man of the Match', '1st Goal', 'Round', 'PSO',\n",
              "       'Goals in PSO', 'Own goals', 'Own goal Time'],\n",
              "      dtype='object')"
            ]
          },
          "execution_count": 55,
          "metadata": {},
          "output_type": "execute_result"
        }
      ],
      "source": [
        "df.columns"
      ]
    },
    {
      "cell_type": "code",
      "execution_count": null,
      "metadata": {
        "id": "V2AFGnUvWgau",
        "outputId": "73137000-0260-478e-c9a2-3f57e71b8b86"
      },
      "outputs": [
        {
          "data": {
            "text/html": [
              "<div>\n",
              "<style scoped>\n",
              "    .dataframe tbody tr th:only-of-type {\n",
              "        vertical-align: middle;\n",
              "    }\n",
              "\n",
              "    .dataframe tbody tr th {\n",
              "        vertical-align: top;\n",
              "    }\n",
              "\n",
              "    .dataframe thead th {\n",
              "        text-align: right;\n",
              "    }\n",
              "</style>\n",
              "<table border=\"1\" class=\"dataframe\">\n",
              "  <thead>\n",
              "    <tr style=\"text-align: right;\">\n",
              "      <th></th>\n",
              "      <th>Date</th>\n",
              "      <th>Team</th>\n",
              "      <th>Opponent</th>\n",
              "      <th>Goal Scored</th>\n",
              "      <th>Ball Possession %</th>\n",
              "      <th>Attempts</th>\n",
              "      <th>On-Target</th>\n",
              "      <th>Off-Target</th>\n",
              "      <th>Blocked</th>\n",
              "      <th>Corners</th>\n",
              "      <th>...</th>\n",
              "      <th>Yellow Card</th>\n",
              "      <th>Yellow &amp; Red</th>\n",
              "      <th>Red</th>\n",
              "      <th>Man of the Match</th>\n",
              "      <th>1st Goal</th>\n",
              "      <th>Round</th>\n",
              "      <th>PSO</th>\n",
              "      <th>Goals in PSO</th>\n",
              "      <th>Own goals</th>\n",
              "      <th>Own goal Time</th>\n",
              "    </tr>\n",
              "  </thead>\n",
              "  <tbody>\n",
              "    <tr>\n",
              "      <th>0</th>\n",
              "      <td>14-06-2018</td>\n",
              "      <td>Russia</td>\n",
              "      <td>Saudi Arabia</td>\n",
              "      <td>5</td>\n",
              "      <td>40</td>\n",
              "      <td>13</td>\n",
              "      <td>7</td>\n",
              "      <td>3</td>\n",
              "      <td>3</td>\n",
              "      <td>6</td>\n",
              "      <td>...</td>\n",
              "      <td>0</td>\n",
              "      <td>0</td>\n",
              "      <td>0</td>\n",
              "      <td>Yes</td>\n",
              "      <td>12.0</td>\n",
              "      <td>Group Stage</td>\n",
              "      <td>No</td>\n",
              "      <td>0</td>\n",
              "      <td>NaN</td>\n",
              "      <td>NaN</td>\n",
              "    </tr>\n",
              "    <tr>\n",
              "      <th>1</th>\n",
              "      <td>14-06-2018</td>\n",
              "      <td>Saudi Arabia</td>\n",
              "      <td>Russia</td>\n",
              "      <td>0</td>\n",
              "      <td>60</td>\n",
              "      <td>6</td>\n",
              "      <td>0</td>\n",
              "      <td>3</td>\n",
              "      <td>3</td>\n",
              "      <td>2</td>\n",
              "      <td>...</td>\n",
              "      <td>0</td>\n",
              "      <td>0</td>\n",
              "      <td>0</td>\n",
              "      <td>No</td>\n",
              "      <td>NaN</td>\n",
              "      <td>Group Stage</td>\n",
              "      <td>No</td>\n",
              "      <td>0</td>\n",
              "      <td>NaN</td>\n",
              "      <td>NaN</td>\n",
              "    </tr>\n",
              "    <tr>\n",
              "      <th>2</th>\n",
              "      <td>15-06-2018</td>\n",
              "      <td>Egypt</td>\n",
              "      <td>Uruguay</td>\n",
              "      <td>0</td>\n",
              "      <td>43</td>\n",
              "      <td>8</td>\n",
              "      <td>3</td>\n",
              "      <td>3</td>\n",
              "      <td>2</td>\n",
              "      <td>0</td>\n",
              "      <td>...</td>\n",
              "      <td>2</td>\n",
              "      <td>0</td>\n",
              "      <td>0</td>\n",
              "      <td>No</td>\n",
              "      <td>NaN</td>\n",
              "      <td>Group Stage</td>\n",
              "      <td>No</td>\n",
              "      <td>0</td>\n",
              "      <td>NaN</td>\n",
              "      <td>NaN</td>\n",
              "    </tr>\n",
              "  </tbody>\n",
              "</table>\n",
              "<p>3 rows × 27 columns</p>\n",
              "</div>"
            ],
            "text/plain": [
              "         Date          Team      Opponent  Goal Scored  Ball Possession %  \\\n",
              "0  14-06-2018        Russia  Saudi Arabia            5                 40   \n",
              "1  14-06-2018  Saudi Arabia        Russia            0                 60   \n",
              "2  15-06-2018         Egypt       Uruguay            0                 43   \n",
              "\n",
              "   Attempts  On-Target  Off-Target  Blocked  Corners  ...  Yellow Card  \\\n",
              "0        13          7           3        3        6  ...            0   \n",
              "1         6          0           3        3        2  ...            0   \n",
              "2         8          3           3        2        0  ...            2   \n",
              "\n",
              "   Yellow & Red  Red  Man of the Match  1st Goal        Round  PSO  \\\n",
              "0             0    0               Yes      12.0  Group Stage   No   \n",
              "1             0    0                No       NaN  Group Stage   No   \n",
              "2             0    0                No       NaN  Group Stage   No   \n",
              "\n",
              "   Goals in PSO  Own goals  Own goal Time  \n",
              "0             0        NaN            NaN  \n",
              "1             0        NaN            NaN  \n",
              "2             0        NaN            NaN  \n",
              "\n",
              "[3 rows x 27 columns]"
            ]
          },
          "execution_count": 57,
          "metadata": {},
          "output_type": "execute_result"
        }
      ],
      "source": [
        "df.head(3)"
      ]
    },
    {
      "cell_type": "code",
      "execution_count": null,
      "metadata": {
        "scrolled": true,
        "id": "m8qDgCooWgau",
        "outputId": "027aa6ff-0331-4f05-ec5a-1e866e7ba12e"
      },
      "outputs": [
        {
          "data": {
            "text/html": [
              "<div>\n",
              "<style scoped>\n",
              "    .dataframe tbody tr th:only-of-type {\n",
              "        vertical-align: middle;\n",
              "    }\n",
              "\n",
              "    .dataframe tbody tr th {\n",
              "        vertical-align: top;\n",
              "    }\n",
              "\n",
              "    .dataframe thead th {\n",
              "        text-align: right;\n",
              "    }\n",
              "</style>\n",
              "<table border=\"1\" class=\"dataframe\">\n",
              "  <thead>\n",
              "    <tr style=\"text-align: right;\">\n",
              "      <th></th>\n",
              "      <th>Date</th>\n",
              "      <th>Team</th>\n",
              "      <th>Opponent</th>\n",
              "      <th>Goal Scored</th>\n",
              "      <th>Ball Possession %</th>\n",
              "      <th>Attempts</th>\n",
              "      <th>On-Target</th>\n",
              "      <th>Off-Target</th>\n",
              "      <th>Blocked</th>\n",
              "      <th>Corners</th>\n",
              "      <th>...</th>\n",
              "      <th>Yellow Card</th>\n",
              "      <th>Yellow &amp; Red</th>\n",
              "      <th>Red</th>\n",
              "      <th>Man of the Match</th>\n",
              "      <th>1st Goal</th>\n",
              "      <th>Round</th>\n",
              "      <th>PSO</th>\n",
              "      <th>Goals in PSO</th>\n",
              "      <th>Own goals</th>\n",
              "      <th>Own goal Time</th>\n",
              "    </tr>\n",
              "  </thead>\n",
              "  <tbody>\n",
              "    <tr>\n",
              "      <th>124</th>\n",
              "      <td>14-07-2018</td>\n",
              "      <td>Belgium</td>\n",
              "      <td>England</td>\n",
              "      <td>2</td>\n",
              "      <td>43</td>\n",
              "      <td>12</td>\n",
              "      <td>4</td>\n",
              "      <td>3</td>\n",
              "      <td>5</td>\n",
              "      <td>4</td>\n",
              "      <td>...</td>\n",
              "      <td>1</td>\n",
              "      <td>0</td>\n",
              "      <td>0</td>\n",
              "      <td>Yes</td>\n",
              "      <td>4.0</td>\n",
              "      <td>3rd Place</td>\n",
              "      <td>No</td>\n",
              "      <td>0</td>\n",
              "      <td>NaN</td>\n",
              "      <td>NaN</td>\n",
              "    </tr>\n",
              "    <tr>\n",
              "      <th>125</th>\n",
              "      <td>14-07-2018</td>\n",
              "      <td>England</td>\n",
              "      <td>Belgium</td>\n",
              "      <td>0</td>\n",
              "      <td>57</td>\n",
              "      <td>15</td>\n",
              "      <td>5</td>\n",
              "      <td>7</td>\n",
              "      <td>3</td>\n",
              "      <td>5</td>\n",
              "      <td>...</td>\n",
              "      <td>2</td>\n",
              "      <td>0</td>\n",
              "      <td>0</td>\n",
              "      <td>No</td>\n",
              "      <td>NaN</td>\n",
              "      <td>3rd Place</td>\n",
              "      <td>No</td>\n",
              "      <td>0</td>\n",
              "      <td>NaN</td>\n",
              "      <td>NaN</td>\n",
              "    </tr>\n",
              "    <tr>\n",
              "      <th>126</th>\n",
              "      <td>15-07-2018</td>\n",
              "      <td>France</td>\n",
              "      <td>Croatia</td>\n",
              "      <td>4</td>\n",
              "      <td>39</td>\n",
              "      <td>8</td>\n",
              "      <td>6</td>\n",
              "      <td>1</td>\n",
              "      <td>1</td>\n",
              "      <td>2</td>\n",
              "      <td>...</td>\n",
              "      <td>2</td>\n",
              "      <td>0</td>\n",
              "      <td>0</td>\n",
              "      <td>Yes</td>\n",
              "      <td>18.0</td>\n",
              "      <td>Final</td>\n",
              "      <td>No</td>\n",
              "      <td>0</td>\n",
              "      <td>1.0</td>\n",
              "      <td>18.0</td>\n",
              "    </tr>\n",
              "    <tr>\n",
              "      <th>127</th>\n",
              "      <td>15-07-2018</td>\n",
              "      <td>Croatia</td>\n",
              "      <td>France</td>\n",
              "      <td>2</td>\n",
              "      <td>61</td>\n",
              "      <td>15</td>\n",
              "      <td>3</td>\n",
              "      <td>8</td>\n",
              "      <td>4</td>\n",
              "      <td>6</td>\n",
              "      <td>...</td>\n",
              "      <td>1</td>\n",
              "      <td>0</td>\n",
              "      <td>0</td>\n",
              "      <td>No</td>\n",
              "      <td>28.0</td>\n",
              "      <td>Final</td>\n",
              "      <td>No</td>\n",
              "      <td>0</td>\n",
              "      <td>NaN</td>\n",
              "      <td>NaN</td>\n",
              "    </tr>\n",
              "  </tbody>\n",
              "</table>\n",
              "<p>4 rows × 27 columns</p>\n",
              "</div>"
            ],
            "text/plain": [
              "           Date     Team Opponent  Goal Scored  Ball Possession %  Attempts  \\\n",
              "124  14-07-2018  Belgium  England            2                 43        12   \n",
              "125  14-07-2018  England  Belgium            0                 57        15   \n",
              "126  15-07-2018   France  Croatia            4                 39         8   \n",
              "127  15-07-2018  Croatia   France            2                 61        15   \n",
              "\n",
              "     On-Target  Off-Target  Blocked  Corners  ...  Yellow Card  Yellow & Red  \\\n",
              "124          4           3        5        4  ...            1             0   \n",
              "125          5           7        3        5  ...            2             0   \n",
              "126          6           1        1        2  ...            2             0   \n",
              "127          3           8        4        6  ...            1             0   \n",
              "\n",
              "     Red  Man of the Match  1st Goal      Round  PSO  Goals in PSO  Own goals  \\\n",
              "124    0               Yes       4.0  3rd Place   No             0        NaN   \n",
              "125    0                No       NaN  3rd Place   No             0        NaN   \n",
              "126    0               Yes      18.0      Final   No             0        1.0   \n",
              "127    0                No      28.0      Final   No             0        NaN   \n",
              "\n",
              "     Own goal Time  \n",
              "124            NaN  \n",
              "125            NaN  \n",
              "126           18.0  \n",
              "127            NaN  \n",
              "\n",
              "[4 rows x 27 columns]"
            ]
          },
          "execution_count": 58,
          "metadata": {},
          "output_type": "execute_result"
        }
      ],
      "source": [
        "df.tail(4)"
      ]
    },
    {
      "cell_type": "markdown",
      "metadata": {
        "id": "FMVcTNRcWgav"
      },
      "source": [
        "### unique y value_counts()"
      ]
    },
    {
      "cell_type": "code",
      "execution_count": null,
      "metadata": {
        "id": "yWZgYaU8Wgav",
        "outputId": "d463fe2f-675f-40a3-99c2-adaeab7c500f"
      },
      "outputs": [
        {
          "data": {
            "text/plain": [
              "array(['Russia', 'Saudi Arabia', 'Egypt', 'Uruguay', 'Morocco', 'Iran',\n",
              "       'Portugal', 'Spain', 'France', 'Australia', 'Argentina', 'Iceland',\n",
              "       'Peru', 'Denmark', 'Croatia', 'Nigeria', 'Costa Rica', 'Serbia',\n",
              "       'Germany', 'Mexico', 'Brazil', 'Switzerland', 'Sweden',\n",
              "       'Korea Republic', 'Belgium', 'Panama', 'Tunisia', 'England',\n",
              "       'Colombia', 'Japan', 'Poland', 'Senegal'], dtype=object)"
            ]
          },
          "execution_count": 59,
          "metadata": {},
          "output_type": "execute_result"
        }
      ],
      "source": [
        "df['Team'].unique()"
      ]
    },
    {
      "cell_type": "code",
      "execution_count": null,
      "metadata": {
        "id": "DFo4WnHbWgav",
        "outputId": "3f793693-4681-456b-8a85-85470a9e1100"
      },
      "outputs": [
        {
          "data": {
            "text/plain": [
              "Belgium           7\n",
              "Croatia           7\n",
              "France            7\n",
              "England           7\n",
              "Russia            5\n",
              "Uruguay           5\n",
              "Brazil            5\n",
              "Sweden            5\n",
              "Spain             4\n",
              "Argentina         4\n",
              "Japan             4\n",
              "Mexico            4\n",
              "Portugal          4\n",
              "Colombia          4\n",
              "Denmark           4\n",
              "Switzerland       4\n",
              "Costa Rica        3\n",
              "Morocco           3\n",
              "Serbia            3\n",
              "Panama            3\n",
              "Iceland           3\n",
              "Senegal           3\n",
              "Korea Republic    3\n",
              "Nigeria           3\n",
              "Iran              3\n",
              "Germany           3\n",
              "Poland            3\n",
              "Peru              3\n",
              "Australia         3\n",
              "Tunisia           3\n",
              "Saudi Arabia      3\n",
              "Egypt             3\n",
              "Name: Team, dtype: int64"
            ]
          },
          "execution_count": 60,
          "metadata": {},
          "output_type": "execute_result"
        }
      ],
      "source": [
        "df.Team.value_counts()"
      ]
    },
    {
      "cell_type": "markdown",
      "metadata": {
        "id": "eJEggE4sWgaw"
      },
      "source": [
        "### count, min, max, mean, median, std y corr\n"
      ]
    },
    {
      "cell_type": "code",
      "execution_count": null,
      "metadata": {
        "id": "cLZNOwlPWgaw",
        "outputId": "a2c54dde-105a-4bdb-c170-9780dba5898d"
      },
      "outputs": [
        {
          "data": {
            "text/html": [
              "<div>\n",
              "<style scoped>\n",
              "    .dataframe tbody tr th:only-of-type {\n",
              "        vertical-align: middle;\n",
              "    }\n",
              "\n",
              "    .dataframe tbody tr th {\n",
              "        vertical-align: top;\n",
              "    }\n",
              "\n",
              "    .dataframe thead th {\n",
              "        text-align: right;\n",
              "    }\n",
              "</style>\n",
              "<table border=\"1\" class=\"dataframe\">\n",
              "  <thead>\n",
              "    <tr style=\"text-align: right;\">\n",
              "      <th></th>\n",
              "      <th>Goal Scored</th>\n",
              "      <th>Ball Possession %</th>\n",
              "      <th>Attempts</th>\n",
              "      <th>On-Target</th>\n",
              "      <th>Off-Target</th>\n",
              "      <th>Blocked</th>\n",
              "      <th>Corners</th>\n",
              "      <th>Offsides</th>\n",
              "      <th>Free Kicks</th>\n",
              "      <th>Saves</th>\n",
              "      <th>...</th>\n",
              "      <th>Passes</th>\n",
              "      <th>Distance Covered (Kms)</th>\n",
              "      <th>Fouls Committed</th>\n",
              "      <th>Yellow Card</th>\n",
              "      <th>Yellow &amp; Red</th>\n",
              "      <th>Red</th>\n",
              "      <th>1st Goal</th>\n",
              "      <th>Goals in PSO</th>\n",
              "      <th>Own goals</th>\n",
              "      <th>Own goal Time</th>\n",
              "    </tr>\n",
              "  </thead>\n",
              "  <tbody>\n",
              "    <tr>\n",
              "      <th>Goal Scored</th>\n",
              "      <td>1.000000</td>\n",
              "      <td>0.034759</td>\n",
              "      <td>0.144915</td>\n",
              "      <td>0.461702</td>\n",
              "      <td>-0.020374</td>\n",
              "      <td>-0.087072</td>\n",
              "      <td>0.040446</td>\n",
              "      <td>0.045105</td>\n",
              "      <td>0.046815</td>\n",
              "      <td>-0.118893</td>\n",
              "      <td>...</td>\n",
              "      <td>0.043971</td>\n",
              "      <td>0.014355</td>\n",
              "      <td>0.030331</td>\n",
              "      <td>-0.048838</td>\n",
              "      <td>-0.035031</td>\n",
              "      <td>-0.089714</td>\n",
              "      <td>-0.272170</td>\n",
              "      <td>-0.011204</td>\n",
              "      <td>NaN</td>\n",
              "      <td>-0.228729</td>\n",
              "    </tr>\n",
              "    <tr>\n",
              "      <th>Ball Possession %</th>\n",
              "      <td>0.034759</td>\n",
              "      <td>1.000000</td>\n",
              "      <td>0.541185</td>\n",
              "      <td>0.297234</td>\n",
              "      <td>0.361767</td>\n",
              "      <td>0.521510</td>\n",
              "      <td>0.542992</td>\n",
              "      <td>0.057706</td>\n",
              "      <td>0.273831</td>\n",
              "      <td>-0.293658</td>\n",
              "      <td>...</td>\n",
              "      <td>0.880611</td>\n",
              "      <td>-0.059054</td>\n",
              "      <td>-0.296477</td>\n",
              "      <td>-0.205511</td>\n",
              "      <td>0.090924</td>\n",
              "      <td>0.024316</td>\n",
              "      <td>-0.048316</td>\n",
              "      <td>-0.010086</td>\n",
              "      <td>NaN</td>\n",
              "      <td>0.588196</td>\n",
              "    </tr>\n",
              "    <tr>\n",
              "      <th>Attempts</th>\n",
              "      <td>0.144915</td>\n",
              "      <td>0.541185</td>\n",
              "      <td>1.000000</td>\n",
              "      <td>0.731243</td>\n",
              "      <td>0.718972</td>\n",
              "      <td>0.754307</td>\n",
              "      <td>0.686892</td>\n",
              "      <td>-0.016508</td>\n",
              "      <td>0.140850</td>\n",
              "      <td>-0.268217</td>\n",
              "      <td>...</td>\n",
              "      <td>0.582831</td>\n",
              "      <td>0.171381</td>\n",
              "      <td>-0.248773</td>\n",
              "      <td>-0.185544</td>\n",
              "      <td>-0.074594</td>\n",
              "      <td>0.009795</td>\n",
              "      <td>0.072737</td>\n",
              "      <td>0.149836</td>\n",
              "      <td>NaN</td>\n",
              "      <td>-0.012727</td>\n",
              "    </tr>\n",
              "    <tr>\n",
              "      <th>On-Target</th>\n",
              "      <td>0.461702</td>\n",
              "      <td>0.297234</td>\n",
              "      <td>0.731243</td>\n",
              "      <td>1.000000</td>\n",
              "      <td>0.324672</td>\n",
              "      <td>0.331333</td>\n",
              "      <td>0.407576</td>\n",
              "      <td>0.073176</td>\n",
              "      <td>0.093090</td>\n",
              "      <td>-0.321557</td>\n",
              "      <td>...</td>\n",
              "      <td>0.348099</td>\n",
              "      <td>0.065475</td>\n",
              "      <td>-0.192242</td>\n",
              "      <td>-0.115259</td>\n",
              "      <td>-0.051742</td>\n",
              "      <td>-0.023439</td>\n",
              "      <td>-0.071730</td>\n",
              "      <td>0.040322</td>\n",
              "      <td>NaN</td>\n",
              "      <td>-0.328175</td>\n",
              "    </tr>\n",
              "    <tr>\n",
              "      <th>Off-Target</th>\n",
              "      <td>-0.020374</td>\n",
              "      <td>0.361767</td>\n",
              "      <td>0.718972</td>\n",
              "      <td>0.324672</td>\n",
              "      <td>1.000000</td>\n",
              "      <td>0.299712</td>\n",
              "      <td>0.440633</td>\n",
              "      <td>-0.095919</td>\n",
              "      <td>0.142367</td>\n",
              "      <td>-0.126644</td>\n",
              "      <td>...</td>\n",
              "      <td>0.398949</td>\n",
              "      <td>0.229930</td>\n",
              "      <td>-0.186858</td>\n",
              "      <td>-0.124094</td>\n",
              "      <td>-0.145577</td>\n",
              "      <td>-0.119332</td>\n",
              "      <td>0.109203</td>\n",
              "      <td>0.185807</td>\n",
              "      <td>NaN</td>\n",
              "      <td>0.300204</td>\n",
              "    </tr>\n",
              "    <tr>\n",
              "      <th>Blocked</th>\n",
              "      <td>-0.087072</td>\n",
              "      <td>0.521510</td>\n",
              "      <td>0.754307</td>\n",
              "      <td>0.331333</td>\n",
              "      <td>0.299712</td>\n",
              "      <td>1.000000</td>\n",
              "      <td>0.636172</td>\n",
              "      <td>-0.002231</td>\n",
              "      <td>0.086021</td>\n",
              "      <td>-0.142960</td>\n",
              "      <td>...</td>\n",
              "      <td>0.532913</td>\n",
              "      <td>0.082111</td>\n",
              "      <td>-0.174606</td>\n",
              "      <td>-0.163111</td>\n",
              "      <td>0.033717</td>\n",
              "      <td>0.165295</td>\n",
              "      <td>0.091321</td>\n",
              "      <td>0.108220</td>\n",
              "      <td>NaN</td>\n",
              "      <td>0.014851</td>\n",
              "    </tr>\n",
              "    <tr>\n",
              "      <th>Corners</th>\n",
              "      <td>0.040446</td>\n",
              "      <td>0.542992</td>\n",
              "      <td>0.686892</td>\n",
              "      <td>0.407576</td>\n",
              "      <td>0.440633</td>\n",
              "      <td>0.636172</td>\n",
              "      <td>1.000000</td>\n",
              "      <td>-0.034054</td>\n",
              "      <td>0.085216</td>\n",
              "      <td>-0.233787</td>\n",
              "      <td>...</td>\n",
              "      <td>0.524661</td>\n",
              "      <td>0.099700</td>\n",
              "      <td>-0.165382</td>\n",
              "      <td>-0.169929</td>\n",
              "      <td>0.014543</td>\n",
              "      <td>0.117960</td>\n",
              "      <td>0.163760</td>\n",
              "      <td>0.088997</td>\n",
              "      <td>NaN</td>\n",
              "      <td>0.023942</td>\n",
              "    </tr>\n",
              "    <tr>\n",
              "      <th>Offsides</th>\n",
              "      <td>0.045105</td>\n",
              "      <td>0.057706</td>\n",
              "      <td>-0.016508</td>\n",
              "      <td>0.073176</td>\n",
              "      <td>-0.095919</td>\n",
              "      <td>-0.002231</td>\n",
              "      <td>-0.034054</td>\n",
              "      <td>1.000000</td>\n",
              "      <td>0.089121</td>\n",
              "      <td>0.006539</td>\n",
              "      <td>...</td>\n",
              "      <td>0.034715</td>\n",
              "      <td>0.031324</td>\n",
              "      <td>-0.040084</td>\n",
              "      <td>-0.047757</td>\n",
              "      <td>0.228531</td>\n",
              "      <td>-0.036432</td>\n",
              "      <td>-0.112602</td>\n",
              "      <td>-0.064892</td>\n",
              "      <td>NaN</td>\n",
              "      <td>-0.312680</td>\n",
              "    </tr>\n",
              "    <tr>\n",
              "      <th>Free Kicks</th>\n",
              "      <td>0.046815</td>\n",
              "      <td>0.273831</td>\n",
              "      <td>0.140850</td>\n",
              "      <td>0.093090</td>\n",
              "      <td>0.142367</td>\n",
              "      <td>0.086021</td>\n",
              "      <td>0.085216</td>\n",
              "      <td>0.089121</td>\n",
              "      <td>1.000000</td>\n",
              "      <td>-0.231637</td>\n",
              "      <td>...</td>\n",
              "      <td>0.175695</td>\n",
              "      <td>0.076927</td>\n",
              "      <td>0.080341</td>\n",
              "      <td>-0.026741</td>\n",
              "      <td>0.029701</td>\n",
              "      <td>-0.104164</td>\n",
              "      <td>-0.007801</td>\n",
              "      <td>0.138046</td>\n",
              "      <td>NaN</td>\n",
              "      <td>-0.057103</td>\n",
              "    </tr>\n",
              "    <tr>\n",
              "      <th>Saves</th>\n",
              "      <td>-0.118893</td>\n",
              "      <td>-0.293658</td>\n",
              "      <td>-0.268217</td>\n",
              "      <td>-0.321557</td>\n",
              "      <td>-0.126644</td>\n",
              "      <td>-0.142960</td>\n",
              "      <td>-0.233787</td>\n",
              "      <td>0.006539</td>\n",
              "      <td>-0.231637</td>\n",
              "      <td>1.000000</td>\n",
              "      <td>...</td>\n",
              "      <td>-0.264425</td>\n",
              "      <td>0.125645</td>\n",
              "      <td>0.074976</td>\n",
              "      <td>0.009670</td>\n",
              "      <td>0.140307</td>\n",
              "      <td>0.016875</td>\n",
              "      <td>-0.127567</td>\n",
              "      <td>0.110014</td>\n",
              "      <td>NaN</td>\n",
              "      <td>-0.063865</td>\n",
              "    </tr>\n",
              "    <tr>\n",
              "      <th>Pass Accuracy %</th>\n",
              "      <td>0.135688</td>\n",
              "      <td>0.713872</td>\n",
              "      <td>0.397614</td>\n",
              "      <td>0.291659</td>\n",
              "      <td>0.189760</td>\n",
              "      <td>0.401699</td>\n",
              "      <td>0.330363</td>\n",
              "      <td>0.127421</td>\n",
              "      <td>0.131951</td>\n",
              "      <td>-0.190740</td>\n",
              "      <td>...</td>\n",
              "      <td>0.693113</td>\n",
              "      <td>-0.210874</td>\n",
              "      <td>-0.327737</td>\n",
              "      <td>-0.113498</td>\n",
              "      <td>0.094756</td>\n",
              "      <td>0.009492</td>\n",
              "      <td>-0.084045</td>\n",
              "      <td>-0.143743</td>\n",
              "      <td>NaN</td>\n",
              "      <td>0.390021</td>\n",
              "    </tr>\n",
              "    <tr>\n",
              "      <th>Passes</th>\n",
              "      <td>0.043971</td>\n",
              "      <td>0.880611</td>\n",
              "      <td>0.582831</td>\n",
              "      <td>0.348099</td>\n",
              "      <td>0.398949</td>\n",
              "      <td>0.532913</td>\n",
              "      <td>0.524661</td>\n",
              "      <td>0.034715</td>\n",
              "      <td>0.175695</td>\n",
              "      <td>-0.264425</td>\n",
              "      <td>...</td>\n",
              "      <td>1.000000</td>\n",
              "      <td>0.184601</td>\n",
              "      <td>-0.352782</td>\n",
              "      <td>-0.223882</td>\n",
              "      <td>0.053837</td>\n",
              "      <td>0.010752</td>\n",
              "      <td>-0.093453</td>\n",
              "      <td>0.226844</td>\n",
              "      <td>NaN</td>\n",
              "      <td>0.296754</td>\n",
              "    </tr>\n",
              "    <tr>\n",
              "      <th>Distance Covered (Kms)</th>\n",
              "      <td>0.014355</td>\n",
              "      <td>-0.059054</td>\n",
              "      <td>0.171381</td>\n",
              "      <td>0.065475</td>\n",
              "      <td>0.229930</td>\n",
              "      <td>0.082111</td>\n",
              "      <td>0.099700</td>\n",
              "      <td>0.031324</td>\n",
              "      <td>0.076927</td>\n",
              "      <td>0.125645</td>\n",
              "      <td>...</td>\n",
              "      <td>0.184601</td>\n",
              "      <td>1.000000</td>\n",
              "      <td>0.149800</td>\n",
              "      <td>0.001971</td>\n",
              "      <td>-0.023296</td>\n",
              "      <td>-0.093268</td>\n",
              "      <td>-0.079939</td>\n",
              "      <td>0.720547</td>\n",
              "      <td>NaN</td>\n",
              "      <td>-0.313181</td>\n",
              "    </tr>\n",
              "    <tr>\n",
              "      <th>Fouls Committed</th>\n",
              "      <td>0.030331</td>\n",
              "      <td>-0.296477</td>\n",
              "      <td>-0.248773</td>\n",
              "      <td>-0.192242</td>\n",
              "      <td>-0.186858</td>\n",
              "      <td>-0.174606</td>\n",
              "      <td>-0.165382</td>\n",
              "      <td>-0.040084</td>\n",
              "      <td>0.080341</td>\n",
              "      <td>0.074976</td>\n",
              "      <td>...</td>\n",
              "      <td>-0.352782</td>\n",
              "      <td>0.149800</td>\n",
              "      <td>1.000000</td>\n",
              "      <td>0.433834</td>\n",
              "      <td>0.039790</td>\n",
              "      <td>0.012408</td>\n",
              "      <td>0.131749</td>\n",
              "      <td>0.126270</td>\n",
              "      <td>NaN</td>\n",
              "      <td>0.002941</td>\n",
              "    </tr>\n",
              "    <tr>\n",
              "      <th>Yellow Card</th>\n",
              "      <td>-0.048838</td>\n",
              "      <td>-0.205511</td>\n",
              "      <td>-0.185544</td>\n",
              "      <td>-0.115259</td>\n",
              "      <td>-0.124094</td>\n",
              "      <td>-0.163111</td>\n",
              "      <td>-0.169929</td>\n",
              "      <td>-0.047757</td>\n",
              "      <td>-0.026741</td>\n",
              "      <td>0.009670</td>\n",
              "      <td>...</td>\n",
              "      <td>-0.223882</td>\n",
              "      <td>0.001971</td>\n",
              "      <td>0.433834</td>\n",
              "      <td>1.000000</td>\n",
              "      <td>-0.114064</td>\n",
              "      <td>0.029075</td>\n",
              "      <td>0.268910</td>\n",
              "      <td>0.102478</td>\n",
              "      <td>NaN</td>\n",
              "      <td>0.319416</td>\n",
              "    </tr>\n",
              "    <tr>\n",
              "      <th>Yellow &amp; Red</th>\n",
              "      <td>-0.035031</td>\n",
              "      <td>0.090924</td>\n",
              "      <td>-0.074594</td>\n",
              "      <td>-0.051742</td>\n",
              "      <td>-0.145577</td>\n",
              "      <td>0.033717</td>\n",
              "      <td>0.014543</td>\n",
              "      <td>0.228531</td>\n",
              "      <td>0.029701</td>\n",
              "      <td>0.140307</td>\n",
              "      <td>...</td>\n",
              "      <td>0.053837</td>\n",
              "      <td>-0.023296</td>\n",
              "      <td>0.039790</td>\n",
              "      <td>-0.114064</td>\n",
              "      <td>1.000000</td>\n",
              "      <td>-0.015873</td>\n",
              "      <td>0.036355</td>\n",
              "      <td>-0.031834</td>\n",
              "      <td>NaN</td>\n",
              "      <td>-0.239862</td>\n",
              "    </tr>\n",
              "    <tr>\n",
              "      <th>Red</th>\n",
              "      <td>-0.089714</td>\n",
              "      <td>0.024316</td>\n",
              "      <td>0.009795</td>\n",
              "      <td>-0.023439</td>\n",
              "      <td>-0.119332</td>\n",
              "      <td>0.165295</td>\n",
              "      <td>0.117960</td>\n",
              "      <td>-0.036432</td>\n",
              "      <td>-0.104164</td>\n",
              "      <td>0.016875</td>\n",
              "      <td>...</td>\n",
              "      <td>0.010752</td>\n",
              "      <td>-0.093268</td>\n",
              "      <td>0.012408</td>\n",
              "      <td>0.029075</td>\n",
              "      <td>-0.015873</td>\n",
              "      <td>1.000000</td>\n",
              "      <td>-0.001947</td>\n",
              "      <td>-0.031834</td>\n",
              "      <td>NaN</td>\n",
              "      <td>NaN</td>\n",
              "    </tr>\n",
              "    <tr>\n",
              "      <th>1st Goal</th>\n",
              "      <td>-0.272170</td>\n",
              "      <td>-0.048316</td>\n",
              "      <td>0.072737</td>\n",
              "      <td>-0.071730</td>\n",
              "      <td>0.109203</td>\n",
              "      <td>0.091321</td>\n",
              "      <td>0.163760</td>\n",
              "      <td>-0.112602</td>\n",
              "      <td>-0.007801</td>\n",
              "      <td>-0.127567</td>\n",
              "      <td>...</td>\n",
              "      <td>-0.093453</td>\n",
              "      <td>-0.079939</td>\n",
              "      <td>0.131749</td>\n",
              "      <td>0.268910</td>\n",
              "      <td>0.036355</td>\n",
              "      <td>-0.001947</td>\n",
              "      <td>1.000000</td>\n",
              "      <td>-0.030558</td>\n",
              "      <td>NaN</td>\n",
              "      <td>0.332835</td>\n",
              "    </tr>\n",
              "    <tr>\n",
              "      <th>Goals in PSO</th>\n",
              "      <td>-0.011204</td>\n",
              "      <td>-0.010086</td>\n",
              "      <td>0.149836</td>\n",
              "      <td>0.040322</td>\n",
              "      <td>0.185807</td>\n",
              "      <td>0.108220</td>\n",
              "      <td>0.088997</td>\n",
              "      <td>-0.064892</td>\n",
              "      <td>0.138046</td>\n",
              "      <td>0.110014</td>\n",
              "      <td>...</td>\n",
              "      <td>0.226844</td>\n",
              "      <td>0.720547</td>\n",
              "      <td>0.126270</td>\n",
              "      <td>0.102478</td>\n",
              "      <td>-0.031834</td>\n",
              "      <td>-0.031834</td>\n",
              "      <td>-0.030558</td>\n",
              "      <td>1.000000</td>\n",
              "      <td>NaN</td>\n",
              "      <td>-0.355415</td>\n",
              "    </tr>\n",
              "    <tr>\n",
              "      <th>Own goals</th>\n",
              "      <td>NaN</td>\n",
              "      <td>NaN</td>\n",
              "      <td>NaN</td>\n",
              "      <td>NaN</td>\n",
              "      <td>NaN</td>\n",
              "      <td>NaN</td>\n",
              "      <td>NaN</td>\n",
              "      <td>NaN</td>\n",
              "      <td>NaN</td>\n",
              "      <td>NaN</td>\n",
              "      <td>...</td>\n",
              "      <td>NaN</td>\n",
              "      <td>NaN</td>\n",
              "      <td>NaN</td>\n",
              "      <td>NaN</td>\n",
              "      <td>NaN</td>\n",
              "      <td>NaN</td>\n",
              "      <td>NaN</td>\n",
              "      <td>NaN</td>\n",
              "      <td>NaN</td>\n",
              "      <td>NaN</td>\n",
              "    </tr>\n",
              "    <tr>\n",
              "      <th>Own goal Time</th>\n",
              "      <td>-0.228729</td>\n",
              "      <td>0.588196</td>\n",
              "      <td>-0.012727</td>\n",
              "      <td>-0.328175</td>\n",
              "      <td>0.300204</td>\n",
              "      <td>0.014851</td>\n",
              "      <td>0.023942</td>\n",
              "      <td>-0.312680</td>\n",
              "      <td>-0.057103</td>\n",
              "      <td>-0.063865</td>\n",
              "      <td>...</td>\n",
              "      <td>0.296754</td>\n",
              "      <td>-0.313181</td>\n",
              "      <td>0.002941</td>\n",
              "      <td>0.319416</td>\n",
              "      <td>-0.239862</td>\n",
              "      <td>NaN</td>\n",
              "      <td>0.332835</td>\n",
              "      <td>-0.355415</td>\n",
              "      <td>NaN</td>\n",
              "      <td>1.000000</td>\n",
              "    </tr>\n",
              "  </tbody>\n",
              "</table>\n",
              "<p>21 rows × 21 columns</p>\n",
              "</div>"
            ],
            "text/plain": [
              "                        Goal Scored  Ball Possession %  Attempts  On-Target  \\\n",
              "Goal Scored                1.000000           0.034759  0.144915   0.461702   \n",
              "Ball Possession %          0.034759           1.000000  0.541185   0.297234   \n",
              "Attempts                   0.144915           0.541185  1.000000   0.731243   \n",
              "On-Target                  0.461702           0.297234  0.731243   1.000000   \n",
              "Off-Target                -0.020374           0.361767  0.718972   0.324672   \n",
              "Blocked                   -0.087072           0.521510  0.754307   0.331333   \n",
              "Corners                    0.040446           0.542992  0.686892   0.407576   \n",
              "Offsides                   0.045105           0.057706 -0.016508   0.073176   \n",
              "Free Kicks                 0.046815           0.273831  0.140850   0.093090   \n",
              "Saves                     -0.118893          -0.293658 -0.268217  -0.321557   \n",
              "Pass Accuracy %            0.135688           0.713872  0.397614   0.291659   \n",
              "Passes                     0.043971           0.880611  0.582831   0.348099   \n",
              "Distance Covered (Kms)     0.014355          -0.059054  0.171381   0.065475   \n",
              "Fouls Committed            0.030331          -0.296477 -0.248773  -0.192242   \n",
              "Yellow Card               -0.048838          -0.205511 -0.185544  -0.115259   \n",
              "Yellow & Red              -0.035031           0.090924 -0.074594  -0.051742   \n",
              "Red                       -0.089714           0.024316  0.009795  -0.023439   \n",
              "1st Goal                  -0.272170          -0.048316  0.072737  -0.071730   \n",
              "Goals in PSO              -0.011204          -0.010086  0.149836   0.040322   \n",
              "Own goals                       NaN                NaN       NaN        NaN   \n",
              "Own goal Time             -0.228729           0.588196 -0.012727  -0.328175   \n",
              "\n",
              "                        Off-Target   Blocked   Corners  Offsides  Free Kicks  \\\n",
              "Goal Scored              -0.020374 -0.087072  0.040446  0.045105    0.046815   \n",
              "Ball Possession %         0.361767  0.521510  0.542992  0.057706    0.273831   \n",
              "Attempts                  0.718972  0.754307  0.686892 -0.016508    0.140850   \n",
              "On-Target                 0.324672  0.331333  0.407576  0.073176    0.093090   \n",
              "Off-Target                1.000000  0.299712  0.440633 -0.095919    0.142367   \n",
              "Blocked                   0.299712  1.000000  0.636172 -0.002231    0.086021   \n",
              "Corners                   0.440633  0.636172  1.000000 -0.034054    0.085216   \n",
              "Offsides                 -0.095919 -0.002231 -0.034054  1.000000    0.089121   \n",
              "Free Kicks                0.142367  0.086021  0.085216  0.089121    1.000000   \n",
              "Saves                    -0.126644 -0.142960 -0.233787  0.006539   -0.231637   \n",
              "Pass Accuracy %           0.189760  0.401699  0.330363  0.127421    0.131951   \n",
              "Passes                    0.398949  0.532913  0.524661  0.034715    0.175695   \n",
              "Distance Covered (Kms)    0.229930  0.082111  0.099700  0.031324    0.076927   \n",
              "Fouls Committed          -0.186858 -0.174606 -0.165382 -0.040084    0.080341   \n",
              "Yellow Card              -0.124094 -0.163111 -0.169929 -0.047757   -0.026741   \n",
              "Yellow & Red             -0.145577  0.033717  0.014543  0.228531    0.029701   \n",
              "Red                      -0.119332  0.165295  0.117960 -0.036432   -0.104164   \n",
              "1st Goal                  0.109203  0.091321  0.163760 -0.112602   -0.007801   \n",
              "Goals in PSO              0.185807  0.108220  0.088997 -0.064892    0.138046   \n",
              "Own goals                      NaN       NaN       NaN       NaN         NaN   \n",
              "Own goal Time             0.300204  0.014851  0.023942 -0.312680   -0.057103   \n",
              "\n",
              "                           Saves  ...    Passes  Distance Covered (Kms)  \\\n",
              "Goal Scored            -0.118893  ...  0.043971                0.014355   \n",
              "Ball Possession %      -0.293658  ...  0.880611               -0.059054   \n",
              "Attempts               -0.268217  ...  0.582831                0.171381   \n",
              "On-Target              -0.321557  ...  0.348099                0.065475   \n",
              "Off-Target             -0.126644  ...  0.398949                0.229930   \n",
              "Blocked                -0.142960  ...  0.532913                0.082111   \n",
              "Corners                -0.233787  ...  0.524661                0.099700   \n",
              "Offsides                0.006539  ...  0.034715                0.031324   \n",
              "Free Kicks             -0.231637  ...  0.175695                0.076927   \n",
              "Saves                   1.000000  ... -0.264425                0.125645   \n",
              "Pass Accuracy %        -0.190740  ...  0.693113               -0.210874   \n",
              "Passes                 -0.264425  ...  1.000000                0.184601   \n",
              "Distance Covered (Kms)  0.125645  ...  0.184601                1.000000   \n",
              "Fouls Committed         0.074976  ... -0.352782                0.149800   \n",
              "Yellow Card             0.009670  ... -0.223882                0.001971   \n",
              "Yellow & Red            0.140307  ...  0.053837               -0.023296   \n",
              "Red                     0.016875  ...  0.010752               -0.093268   \n",
              "1st Goal               -0.127567  ... -0.093453               -0.079939   \n",
              "Goals in PSO            0.110014  ...  0.226844                0.720547   \n",
              "Own goals                    NaN  ...       NaN                     NaN   \n",
              "Own goal Time          -0.063865  ...  0.296754               -0.313181   \n",
              "\n",
              "                        Fouls Committed  Yellow Card  Yellow & Red       Red  \\\n",
              "Goal Scored                    0.030331    -0.048838     -0.035031 -0.089714   \n",
              "Ball Possession %             -0.296477    -0.205511      0.090924  0.024316   \n",
              "Attempts                      -0.248773    -0.185544     -0.074594  0.009795   \n",
              "On-Target                     -0.192242    -0.115259     -0.051742 -0.023439   \n",
              "Off-Target                    -0.186858    -0.124094     -0.145577 -0.119332   \n",
              "Blocked                       -0.174606    -0.163111      0.033717  0.165295   \n",
              "Corners                       -0.165382    -0.169929      0.014543  0.117960   \n",
              "Offsides                      -0.040084    -0.047757      0.228531 -0.036432   \n",
              "Free Kicks                     0.080341    -0.026741      0.029701 -0.104164   \n",
              "Saves                          0.074976     0.009670      0.140307  0.016875   \n",
              "Pass Accuracy %               -0.327737    -0.113498      0.094756  0.009492   \n",
              "Passes                        -0.352782    -0.223882      0.053837  0.010752   \n",
              "Distance Covered (Kms)         0.149800     0.001971     -0.023296 -0.093268   \n",
              "Fouls Committed                1.000000     0.433834      0.039790  0.012408   \n",
              "Yellow Card                    0.433834     1.000000     -0.114064  0.029075   \n",
              "Yellow & Red                   0.039790    -0.114064      1.000000 -0.015873   \n",
              "Red                            0.012408     0.029075     -0.015873  1.000000   \n",
              "1st Goal                       0.131749     0.268910      0.036355 -0.001947   \n",
              "Goals in PSO                   0.126270     0.102478     -0.031834 -0.031834   \n",
              "Own goals                           NaN          NaN           NaN       NaN   \n",
              "Own goal Time                  0.002941     0.319416     -0.239862       NaN   \n",
              "\n",
              "                        1st Goal  Goals in PSO  Own goals  Own goal Time  \n",
              "Goal Scored            -0.272170     -0.011204        NaN      -0.228729  \n",
              "Ball Possession %      -0.048316     -0.010086        NaN       0.588196  \n",
              "Attempts                0.072737      0.149836        NaN      -0.012727  \n",
              "On-Target              -0.071730      0.040322        NaN      -0.328175  \n",
              "Off-Target              0.109203      0.185807        NaN       0.300204  \n",
              "Blocked                 0.091321      0.108220        NaN       0.014851  \n",
              "Corners                 0.163760      0.088997        NaN       0.023942  \n",
              "Offsides               -0.112602     -0.064892        NaN      -0.312680  \n",
              "Free Kicks             -0.007801      0.138046        NaN      -0.057103  \n",
              "Saves                  -0.127567      0.110014        NaN      -0.063865  \n",
              "Pass Accuracy %        -0.084045     -0.143743        NaN       0.390021  \n",
              "Passes                 -0.093453      0.226844        NaN       0.296754  \n",
              "Distance Covered (Kms) -0.079939      0.720547        NaN      -0.313181  \n",
              "Fouls Committed         0.131749      0.126270        NaN       0.002941  \n",
              "Yellow Card             0.268910      0.102478        NaN       0.319416  \n",
              "Yellow & Red            0.036355     -0.031834        NaN      -0.239862  \n",
              "Red                    -0.001947     -0.031834        NaN            NaN  \n",
              "1st Goal                1.000000     -0.030558        NaN       0.332835  \n",
              "Goals in PSO           -0.030558      1.000000        NaN      -0.355415  \n",
              "Own goals                    NaN           NaN        NaN            NaN  \n",
              "Own goal Time           0.332835     -0.355415        NaN       1.000000  \n",
              "\n",
              "[21 rows x 21 columns]"
            ]
          },
          "execution_count": 61,
          "metadata": {},
          "output_type": "execute_result"
        }
      ],
      "source": [
        "df.corr()"
      ]
    },
    {
      "cell_type": "markdown",
      "metadata": {
        "id": "8JCUNkesWgaw"
      },
      "source": [
        "## Precentiles"
      ]
    },
    {
      "cell_type": "markdown",
      "metadata": {
        "id": "G3wZHUloWgaw"
      },
      "source": [
        "Son una medida usada en estadística que indica el valor de la variable por debajo del cual se encuentra un porcentaje dado de observaciones. Ahora los Cuantiles son puntos tomados a intervalos regulares de la función de distribución de una variable aleatoria. Los cuantiles podemos usarlos por grupos que dividan la distribución en partes iguales; obteniendo sus hijos, los Percentiles, Deciles y Quartiles."
      ]
    },
    {
      "cell_type": "code",
      "execution_count": null,
      "metadata": {
        "id": "p9kySceUWgax",
        "outputId": "c476ee28-479b-4b1d-a301-7713e2a2721e"
      },
      "outputs": [
        {
          "data": {
            "text/plain": [
              "104.5"
            ]
          },
          "execution_count": 62,
          "metadata": {},
          "output_type": "execute_result"
        }
      ],
      "source": [
        "df['Distance Covered (Kms)'].quantile(0.5) # 10th percentile"
      ]
    },
    {
      "cell_type": "code",
      "execution_count": null,
      "metadata": {
        "id": "WXlsFCBBWgax",
        "outputId": "ad85684c-fbe1-40f4-df98-382fba6eded4"
      },
      "outputs": [
        {
          "data": {
            "text/plain": [
              "104.5"
            ]
          },
          "execution_count": 63,
          "metadata": {},
          "output_type": "execute_result"
        }
      ],
      "source": [
        "df['Distance Covered (Kms)'].median()"
      ]
    },
    {
      "cell_type": "markdown",
      "metadata": {
        "id": "sni1ywahWgax"
      },
      "source": [
        "### Ordenando datos"
      ]
    },
    {
      "cell_type": "code",
      "execution_count": null,
      "metadata": {
        "id": "9PZhe0T5Wgay",
        "outputId": "ab41cec6-b221-49b4-ec4c-20dfae9e1c09"
      },
      "outputs": [
        {
          "data": {
            "text/html": [
              "<div>\n",
              "<style scoped>\n",
              "    .dataframe tbody tr th:only-of-type {\n",
              "        vertical-align: middle;\n",
              "    }\n",
              "\n",
              "    .dataframe tbody tr th {\n",
              "        vertical-align: top;\n",
              "    }\n",
              "\n",
              "    .dataframe thead th {\n",
              "        text-align: right;\n",
              "    }\n",
              "</style>\n",
              "<table border=\"1\" class=\"dataframe\">\n",
              "  <thead>\n",
              "    <tr style=\"text-align: right;\">\n",
              "      <th></th>\n",
              "      <th>Date</th>\n",
              "      <th>Team</th>\n",
              "      <th>Opponent</th>\n",
              "      <th>Goal Scored</th>\n",
              "      <th>Ball Possession %</th>\n",
              "      <th>Attempts</th>\n",
              "      <th>On-Target</th>\n",
              "      <th>Off-Target</th>\n",
              "      <th>Blocked</th>\n",
              "      <th>Corners</th>\n",
              "      <th>...</th>\n",
              "      <th>Yellow Card</th>\n",
              "      <th>Yellow &amp; Red</th>\n",
              "      <th>Red</th>\n",
              "      <th>Man of the Match</th>\n",
              "      <th>1st Goal</th>\n",
              "      <th>Round</th>\n",
              "      <th>PSO</th>\n",
              "      <th>Goals in PSO</th>\n",
              "      <th>Own goals</th>\n",
              "      <th>Own goal Time</th>\n",
              "    </tr>\n",
              "  </thead>\n",
              "  <tbody>\n",
              "    <tr>\n",
              "      <th>0</th>\n",
              "      <td>14-06-2018</td>\n",
              "      <td>Russia</td>\n",
              "      <td>Saudi Arabia</td>\n",
              "      <td>5</td>\n",
              "      <td>40</td>\n",
              "      <td>13</td>\n",
              "      <td>7</td>\n",
              "      <td>3</td>\n",
              "      <td>3</td>\n",
              "      <td>6</td>\n",
              "      <td>...</td>\n",
              "      <td>0</td>\n",
              "      <td>0</td>\n",
              "      <td>0</td>\n",
              "      <td>Yes</td>\n",
              "      <td>12.0</td>\n",
              "      <td>Group Stage</td>\n",
              "      <td>No</td>\n",
              "      <td>0</td>\n",
              "      <td>NaN</td>\n",
              "      <td>NaN</td>\n",
              "    </tr>\n",
              "    <tr>\n",
              "      <th>1</th>\n",
              "      <td>14-06-2018</td>\n",
              "      <td>Saudi Arabia</td>\n",
              "      <td>Russia</td>\n",
              "      <td>0</td>\n",
              "      <td>60</td>\n",
              "      <td>6</td>\n",
              "      <td>0</td>\n",
              "      <td>3</td>\n",
              "      <td>3</td>\n",
              "      <td>2</td>\n",
              "      <td>...</td>\n",
              "      <td>0</td>\n",
              "      <td>0</td>\n",
              "      <td>0</td>\n",
              "      <td>No</td>\n",
              "      <td>NaN</td>\n",
              "      <td>Group Stage</td>\n",
              "      <td>No</td>\n",
              "      <td>0</td>\n",
              "      <td>NaN</td>\n",
              "      <td>NaN</td>\n",
              "    </tr>\n",
              "    <tr>\n",
              "      <th>2</th>\n",
              "      <td>15-06-2018</td>\n",
              "      <td>Egypt</td>\n",
              "      <td>Uruguay</td>\n",
              "      <td>0</td>\n",
              "      <td>43</td>\n",
              "      <td>8</td>\n",
              "      <td>3</td>\n",
              "      <td>3</td>\n",
              "      <td>2</td>\n",
              "      <td>0</td>\n",
              "      <td>...</td>\n",
              "      <td>2</td>\n",
              "      <td>0</td>\n",
              "      <td>0</td>\n",
              "      <td>No</td>\n",
              "      <td>NaN</td>\n",
              "      <td>Group Stage</td>\n",
              "      <td>No</td>\n",
              "      <td>0</td>\n",
              "      <td>NaN</td>\n",
              "      <td>NaN</td>\n",
              "    </tr>\n",
              "    <tr>\n",
              "      <th>3</th>\n",
              "      <td>15-06-2018</td>\n",
              "      <td>Uruguay</td>\n",
              "      <td>Egypt</td>\n",
              "      <td>1</td>\n",
              "      <td>57</td>\n",
              "      <td>14</td>\n",
              "      <td>4</td>\n",
              "      <td>6</td>\n",
              "      <td>4</td>\n",
              "      <td>5</td>\n",
              "      <td>...</td>\n",
              "      <td>0</td>\n",
              "      <td>0</td>\n",
              "      <td>0</td>\n",
              "      <td>Yes</td>\n",
              "      <td>89.0</td>\n",
              "      <td>Group Stage</td>\n",
              "      <td>No</td>\n",
              "      <td>0</td>\n",
              "      <td>NaN</td>\n",
              "      <td>NaN</td>\n",
              "    </tr>\n",
              "    <tr>\n",
              "      <th>4</th>\n",
              "      <td>15-06-2018</td>\n",
              "      <td>Morocco</td>\n",
              "      <td>Iran</td>\n",
              "      <td>0</td>\n",
              "      <td>64</td>\n",
              "      <td>13</td>\n",
              "      <td>3</td>\n",
              "      <td>6</td>\n",
              "      <td>4</td>\n",
              "      <td>5</td>\n",
              "      <td>...</td>\n",
              "      <td>1</td>\n",
              "      <td>0</td>\n",
              "      <td>0</td>\n",
              "      <td>No</td>\n",
              "      <td>NaN</td>\n",
              "      <td>Group Stage</td>\n",
              "      <td>No</td>\n",
              "      <td>0</td>\n",
              "      <td>1.0</td>\n",
              "      <td>90.0</td>\n",
              "    </tr>\n",
              "    <tr>\n",
              "      <th>...</th>\n",
              "      <td>...</td>\n",
              "      <td>...</td>\n",
              "      <td>...</td>\n",
              "      <td>...</td>\n",
              "      <td>...</td>\n",
              "      <td>...</td>\n",
              "      <td>...</td>\n",
              "      <td>...</td>\n",
              "      <td>...</td>\n",
              "      <td>...</td>\n",
              "      <td>...</td>\n",
              "      <td>...</td>\n",
              "      <td>...</td>\n",
              "      <td>...</td>\n",
              "      <td>...</td>\n",
              "      <td>...</td>\n",
              "      <td>...</td>\n",
              "      <td>...</td>\n",
              "      <td>...</td>\n",
              "      <td>...</td>\n",
              "      <td>...</td>\n",
              "    </tr>\n",
              "    <tr>\n",
              "      <th>123</th>\n",
              "      <td>11-07-2018</td>\n",
              "      <td>England</td>\n",
              "      <td>Croatia</td>\n",
              "      <td>1</td>\n",
              "      <td>46</td>\n",
              "      <td>11</td>\n",
              "      <td>1</td>\n",
              "      <td>6</td>\n",
              "      <td>4</td>\n",
              "      <td>4</td>\n",
              "      <td>...</td>\n",
              "      <td>1</td>\n",
              "      <td>0</td>\n",
              "      <td>0</td>\n",
              "      <td>No</td>\n",
              "      <td>5.0</td>\n",
              "      <td>Semi- Finals</td>\n",
              "      <td>No</td>\n",
              "      <td>0</td>\n",
              "      <td>NaN</td>\n",
              "      <td>NaN</td>\n",
              "    </tr>\n",
              "    <tr>\n",
              "      <th>124</th>\n",
              "      <td>14-07-2018</td>\n",
              "      <td>Belgium</td>\n",
              "      <td>England</td>\n",
              "      <td>2</td>\n",
              "      <td>43</td>\n",
              "      <td>12</td>\n",
              "      <td>4</td>\n",
              "      <td>3</td>\n",
              "      <td>5</td>\n",
              "      <td>4</td>\n",
              "      <td>...</td>\n",
              "      <td>1</td>\n",
              "      <td>0</td>\n",
              "      <td>0</td>\n",
              "      <td>Yes</td>\n",
              "      <td>4.0</td>\n",
              "      <td>3rd Place</td>\n",
              "      <td>No</td>\n",
              "      <td>0</td>\n",
              "      <td>NaN</td>\n",
              "      <td>NaN</td>\n",
              "    </tr>\n",
              "    <tr>\n",
              "      <th>125</th>\n",
              "      <td>14-07-2018</td>\n",
              "      <td>England</td>\n",
              "      <td>Belgium</td>\n",
              "      <td>0</td>\n",
              "      <td>57</td>\n",
              "      <td>15</td>\n",
              "      <td>5</td>\n",
              "      <td>7</td>\n",
              "      <td>3</td>\n",
              "      <td>5</td>\n",
              "      <td>...</td>\n",
              "      <td>2</td>\n",
              "      <td>0</td>\n",
              "      <td>0</td>\n",
              "      <td>No</td>\n",
              "      <td>NaN</td>\n",
              "      <td>3rd Place</td>\n",
              "      <td>No</td>\n",
              "      <td>0</td>\n",
              "      <td>NaN</td>\n",
              "      <td>NaN</td>\n",
              "    </tr>\n",
              "    <tr>\n",
              "      <th>126</th>\n",
              "      <td>15-07-2018</td>\n",
              "      <td>France</td>\n",
              "      <td>Croatia</td>\n",
              "      <td>4</td>\n",
              "      <td>39</td>\n",
              "      <td>8</td>\n",
              "      <td>6</td>\n",
              "      <td>1</td>\n",
              "      <td>1</td>\n",
              "      <td>2</td>\n",
              "      <td>...</td>\n",
              "      <td>2</td>\n",
              "      <td>0</td>\n",
              "      <td>0</td>\n",
              "      <td>Yes</td>\n",
              "      <td>18.0</td>\n",
              "      <td>Final</td>\n",
              "      <td>No</td>\n",
              "      <td>0</td>\n",
              "      <td>1.0</td>\n",
              "      <td>18.0</td>\n",
              "    </tr>\n",
              "    <tr>\n",
              "      <th>127</th>\n",
              "      <td>15-07-2018</td>\n",
              "      <td>Croatia</td>\n",
              "      <td>France</td>\n",
              "      <td>2</td>\n",
              "      <td>61</td>\n",
              "      <td>15</td>\n",
              "      <td>3</td>\n",
              "      <td>8</td>\n",
              "      <td>4</td>\n",
              "      <td>6</td>\n",
              "      <td>...</td>\n",
              "      <td>1</td>\n",
              "      <td>0</td>\n",
              "      <td>0</td>\n",
              "      <td>No</td>\n",
              "      <td>28.0</td>\n",
              "      <td>Final</td>\n",
              "      <td>No</td>\n",
              "      <td>0</td>\n",
              "      <td>NaN</td>\n",
              "      <td>NaN</td>\n",
              "    </tr>\n",
              "  </tbody>\n",
              "</table>\n",
              "<p>128 rows × 27 columns</p>\n",
              "</div>"
            ],
            "text/plain": [
              "           Date          Team      Opponent  Goal Scored  Ball Possession %  \\\n",
              "0    14-06-2018        Russia  Saudi Arabia            5                 40   \n",
              "1    14-06-2018  Saudi Arabia        Russia            0                 60   \n",
              "2    15-06-2018         Egypt       Uruguay            0                 43   \n",
              "3    15-06-2018       Uruguay         Egypt            1                 57   \n",
              "4    15-06-2018       Morocco          Iran            0                 64   \n",
              "..          ...           ...           ...          ...                ...   \n",
              "123  11-07-2018       England       Croatia            1                 46   \n",
              "124  14-07-2018       Belgium       England            2                 43   \n",
              "125  14-07-2018       England       Belgium            0                 57   \n",
              "126  15-07-2018        France       Croatia            4                 39   \n",
              "127  15-07-2018       Croatia        France            2                 61   \n",
              "\n",
              "     Attempts  On-Target  Off-Target  Blocked  Corners  ...  Yellow Card  \\\n",
              "0          13          7           3        3        6  ...            0   \n",
              "1           6          0           3        3        2  ...            0   \n",
              "2           8          3           3        2        0  ...            2   \n",
              "3          14          4           6        4        5  ...            0   \n",
              "4          13          3           6        4        5  ...            1   \n",
              "..        ...        ...         ...      ...      ...  ...          ...   \n",
              "123        11          1           6        4        4  ...            1   \n",
              "124        12          4           3        5        4  ...            1   \n",
              "125        15          5           7        3        5  ...            2   \n",
              "126         8          6           1        1        2  ...            2   \n",
              "127        15          3           8        4        6  ...            1   \n",
              "\n",
              "     Yellow & Red  Red  Man of the Match  1st Goal         Round  PSO  \\\n",
              "0               0    0               Yes      12.0   Group Stage   No   \n",
              "1               0    0                No       NaN   Group Stage   No   \n",
              "2               0    0                No       NaN   Group Stage   No   \n",
              "3               0    0               Yes      89.0   Group Stage   No   \n",
              "4               0    0                No       NaN   Group Stage   No   \n",
              "..            ...  ...               ...       ...           ...  ...   \n",
              "123             0    0                No       5.0  Semi- Finals   No   \n",
              "124             0    0               Yes       4.0     3rd Place   No   \n",
              "125             0    0                No       NaN     3rd Place   No   \n",
              "126             0    0               Yes      18.0         Final   No   \n",
              "127             0    0                No      28.0         Final   No   \n",
              "\n",
              "     Goals in PSO  Own goals  Own goal Time  \n",
              "0               0        NaN            NaN  \n",
              "1               0        NaN            NaN  \n",
              "2               0        NaN            NaN  \n",
              "3               0        NaN            NaN  \n",
              "4               0        1.0           90.0  \n",
              "..            ...        ...            ...  \n",
              "123             0        NaN            NaN  \n",
              "124             0        NaN            NaN  \n",
              "125             0        NaN            NaN  \n",
              "126             0        1.0           18.0  \n",
              "127             0        NaN            NaN  \n",
              "\n",
              "[128 rows x 27 columns]"
            ]
          },
          "execution_count": 64,
          "metadata": {},
          "output_type": "execute_result"
        }
      ],
      "source": [
        "df.sort_index()"
      ]
    },
    {
      "cell_type": "code",
      "execution_count": null,
      "metadata": {
        "id": "qH_1Gj-VWgay",
        "outputId": "7d6ed484-90cf-49a3-b835-1c1a403fd057"
      },
      "outputs": [
        {
          "data": {
            "text/html": [
              "<div>\n",
              "<style scoped>\n",
              "    .dataframe tbody tr th:only-of-type {\n",
              "        vertical-align: middle;\n",
              "    }\n",
              "\n",
              "    .dataframe tbody tr th {\n",
              "        vertical-align: top;\n",
              "    }\n",
              "\n",
              "    .dataframe thead th {\n",
              "        text-align: right;\n",
              "    }\n",
              "</style>\n",
              "<table border=\"1\" class=\"dataframe\">\n",
              "  <thead>\n",
              "    <tr style=\"text-align: right;\">\n",
              "      <th></th>\n",
              "      <th>Date</th>\n",
              "      <th>Team</th>\n",
              "      <th>Opponent</th>\n",
              "      <th>Goal Scored</th>\n",
              "      <th>Ball Possession %</th>\n",
              "      <th>Attempts</th>\n",
              "      <th>On-Target</th>\n",
              "      <th>Off-Target</th>\n",
              "      <th>Blocked</th>\n",
              "      <th>Corners</th>\n",
              "      <th>...</th>\n",
              "      <th>Yellow Card</th>\n",
              "      <th>Yellow &amp; Red</th>\n",
              "      <th>Red</th>\n",
              "      <th>Man of the Match</th>\n",
              "      <th>1st Goal</th>\n",
              "      <th>Round</th>\n",
              "      <th>PSO</th>\n",
              "      <th>Goals in PSO</th>\n",
              "      <th>Own goals</th>\n",
              "      <th>Own goal Time</th>\n",
              "    </tr>\n",
              "  </thead>\n",
              "  <tbody>\n",
              "    <tr>\n",
              "      <th>58</th>\n",
              "      <td>24-06-2018</td>\n",
              "      <td>England</td>\n",
              "      <td>Panama</td>\n",
              "      <td>6</td>\n",
              "      <td>58</td>\n",
              "      <td>12</td>\n",
              "      <td>7</td>\n",
              "      <td>3</td>\n",
              "      <td>2</td>\n",
              "      <td>3</td>\n",
              "      <td>...</td>\n",
              "      <td>1</td>\n",
              "      <td>0</td>\n",
              "      <td>0</td>\n",
              "      <td>Yes</td>\n",
              "      <td>8.0</td>\n",
              "      <td>Group Stage</td>\n",
              "      <td>No</td>\n",
              "      <td>0</td>\n",
              "      <td>NaN</td>\n",
              "      <td>NaN</td>\n",
              "    </tr>\n",
              "    <tr>\n",
              "      <th>0</th>\n",
              "      <td>14-06-2018</td>\n",
              "      <td>Russia</td>\n",
              "      <td>Saudi Arabia</td>\n",
              "      <td>5</td>\n",
              "      <td>40</td>\n",
              "      <td>13</td>\n",
              "      <td>7</td>\n",
              "      <td>3</td>\n",
              "      <td>3</td>\n",
              "      <td>6</td>\n",
              "      <td>...</td>\n",
              "      <td>0</td>\n",
              "      <td>0</td>\n",
              "      <td>0</td>\n",
              "      <td>Yes</td>\n",
              "      <td>12.0</td>\n",
              "      <td>Group Stage</td>\n",
              "      <td>No</td>\n",
              "      <td>0</td>\n",
              "      <td>NaN</td>\n",
              "      <td>NaN</td>\n",
              "    </tr>\n",
              "    <tr>\n",
              "      <th>52</th>\n",
              "      <td>23-06-2018</td>\n",
              "      <td>Belgium</td>\n",
              "      <td>Tunisia</td>\n",
              "      <td>5</td>\n",
              "      <td>52</td>\n",
              "      <td>23</td>\n",
              "      <td>12</td>\n",
              "      <td>8</td>\n",
              "      <td>3</td>\n",
              "      <td>5</td>\n",
              "      <td>...</td>\n",
              "      <td>0</td>\n",
              "      <td>0</td>\n",
              "      <td>0</td>\n",
              "      <td>Yes</td>\n",
              "      <td>6.0</td>\n",
              "      <td>Group Stage</td>\n",
              "      <td>No</td>\n",
              "      <td>0</td>\n",
              "      <td>NaN</td>\n",
              "      <td>NaN</td>\n",
              "    </tr>\n",
              "    <tr>\n",
              "      <th>126</th>\n",
              "      <td>15-07-2018</td>\n",
              "      <td>France</td>\n",
              "      <td>Croatia</td>\n",
              "      <td>4</td>\n",
              "      <td>39</td>\n",
              "      <td>8</td>\n",
              "      <td>6</td>\n",
              "      <td>1</td>\n",
              "      <td>1</td>\n",
              "      <td>2</td>\n",
              "      <td>...</td>\n",
              "      <td>2</td>\n",
              "      <td>0</td>\n",
              "      <td>0</td>\n",
              "      <td>Yes</td>\n",
              "      <td>18.0</td>\n",
              "      <td>Final</td>\n",
              "      <td>No</td>\n",
              "      <td>0</td>\n",
              "      <td>1.0</td>\n",
              "      <td>18.0</td>\n",
              "    </tr>\n",
              "    <tr>\n",
              "      <th>96</th>\n",
              "      <td>30-06-2018</td>\n",
              "      <td>France</td>\n",
              "      <td>Argentina</td>\n",
              "      <td>4</td>\n",
              "      <td>41</td>\n",
              "      <td>9</td>\n",
              "      <td>4</td>\n",
              "      <td>4</td>\n",
              "      <td>1</td>\n",
              "      <td>0</td>\n",
              "      <td>...</td>\n",
              "      <td>3</td>\n",
              "      <td>0</td>\n",
              "      <td>0</td>\n",
              "      <td>Yes</td>\n",
              "      <td>13.0</td>\n",
              "      <td>Round of 16</td>\n",
              "      <td>No</td>\n",
              "      <td>0</td>\n",
              "      <td>NaN</td>\n",
              "      <td>NaN</td>\n",
              "    </tr>\n",
              "  </tbody>\n",
              "</table>\n",
              "<p>5 rows × 27 columns</p>\n",
              "</div>"
            ],
            "text/plain": [
              "           Date     Team      Opponent  Goal Scored  Ball Possession %  \\\n",
              "58   24-06-2018  England        Panama            6                 58   \n",
              "0    14-06-2018   Russia  Saudi Arabia            5                 40   \n",
              "52   23-06-2018  Belgium       Tunisia            5                 52   \n",
              "126  15-07-2018   France       Croatia            4                 39   \n",
              "96   30-06-2018   France     Argentina            4                 41   \n",
              "\n",
              "     Attempts  On-Target  Off-Target  Blocked  Corners  ...  Yellow Card  \\\n",
              "58         12          7           3        2        3  ...            1   \n",
              "0          13          7           3        3        6  ...            0   \n",
              "52         23         12           8        3        5  ...            0   \n",
              "126         8          6           1        1        2  ...            2   \n",
              "96          9          4           4        1        0  ...            3   \n",
              "\n",
              "     Yellow & Red  Red  Man of the Match  1st Goal        Round  PSO  \\\n",
              "58              0    0               Yes       8.0  Group Stage   No   \n",
              "0               0    0               Yes      12.0  Group Stage   No   \n",
              "52              0    0               Yes       6.0  Group Stage   No   \n",
              "126             0    0               Yes      18.0        Final   No   \n",
              "96              0    0               Yes      13.0  Round of 16   No   \n",
              "\n",
              "     Goals in PSO  Own goals  Own goal Time  \n",
              "58              0        NaN            NaN  \n",
              "0               0        NaN            NaN  \n",
              "52              0        NaN            NaN  \n",
              "126             0        1.0           18.0  \n",
              "96              0        NaN            NaN  \n",
              "\n",
              "[5 rows x 27 columns]"
            ]
          },
          "execution_count": 65,
          "metadata": {},
          "output_type": "execute_result"
        }
      ],
      "source": [
        "df.sort_values([\"Goal Scored\"], ascending=False).head()"
      ]
    },
    {
      "cell_type": "markdown",
      "metadata": {
        "id": "SVzAb1toWgay"
      },
      "source": [
        "### Tablas Dinamicas"
      ]
    },
    {
      "cell_type": "code",
      "execution_count": null,
      "metadata": {
        "id": "MwjRauqsWgay"
      },
      "outputs": [],
      "source": [
        "import numpy as np"
      ]
    },
    {
      "cell_type": "code",
      "execution_count": null,
      "metadata": {
        "id": "6zlEA3XIWgaz",
        "outputId": "75b55fb6-56d9-411c-efc1-12992d6648fa"
      },
      "outputs": [
        {
          "data": {
            "text/html": [
              "<div>\n",
              "<style scoped>\n",
              "    .dataframe tbody tr th:only-of-type {\n",
              "        vertical-align: middle;\n",
              "    }\n",
              "\n",
              "    .dataframe tbody tr th {\n",
              "        vertical-align: top;\n",
              "    }\n",
              "\n",
              "    .dataframe thead th {\n",
              "        text-align: right;\n",
              "    }\n",
              "</style>\n",
              "<table border=\"1\" class=\"dataframe\">\n",
              "  <thead>\n",
              "    <tr style=\"text-align: right;\">\n",
              "      <th>Round</th>\n",
              "      <th>3rd Place</th>\n",
              "      <th>Final</th>\n",
              "      <th>Group Stage</th>\n",
              "      <th>Quarter Finals</th>\n",
              "      <th>Round of 16</th>\n",
              "      <th>Semi- Finals</th>\n",
              "    </tr>\n",
              "    <tr>\n",
              "      <th>Team</th>\n",
              "      <th></th>\n",
              "      <th></th>\n",
              "      <th></th>\n",
              "      <th></th>\n",
              "      <th></th>\n",
              "      <th></th>\n",
              "    </tr>\n",
              "  </thead>\n",
              "  <tbody>\n",
              "    <tr>\n",
              "      <th>Argentina</th>\n",
              "      <td>NaN</td>\n",
              "      <td>NaN</td>\n",
              "      <td>3.0</td>\n",
              "      <td>NaN</td>\n",
              "      <td>3.0</td>\n",
              "      <td>NaN</td>\n",
              "    </tr>\n",
              "    <tr>\n",
              "      <th>Australia</th>\n",
              "      <td>NaN</td>\n",
              "      <td>NaN</td>\n",
              "      <td>2.0</td>\n",
              "      <td>NaN</td>\n",
              "      <td>NaN</td>\n",
              "      <td>NaN</td>\n",
              "    </tr>\n",
              "    <tr>\n",
              "      <th>Belgium</th>\n",
              "      <td>2.0</td>\n",
              "      <td>NaN</td>\n",
              "      <td>9.0</td>\n",
              "      <td>2.0</td>\n",
              "      <td>3.0</td>\n",
              "      <td>0.0</td>\n",
              "    </tr>\n",
              "    <tr>\n",
              "      <th>Brazil</th>\n",
              "      <td>NaN</td>\n",
              "      <td>NaN</td>\n",
              "      <td>5.0</td>\n",
              "      <td>1.0</td>\n",
              "      <td>2.0</td>\n",
              "      <td>NaN</td>\n",
              "    </tr>\n",
              "    <tr>\n",
              "      <th>Colombia</th>\n",
              "      <td>NaN</td>\n",
              "      <td>NaN</td>\n",
              "      <td>5.0</td>\n",
              "      <td>NaN</td>\n",
              "      <td>1.0</td>\n",
              "      <td>NaN</td>\n",
              "    </tr>\n",
              "    <tr>\n",
              "      <th>Costa Rica</th>\n",
              "      <td>NaN</td>\n",
              "      <td>NaN</td>\n",
              "      <td>2.0</td>\n",
              "      <td>NaN</td>\n",
              "      <td>NaN</td>\n",
              "      <td>NaN</td>\n",
              "    </tr>\n",
              "    <tr>\n",
              "      <th>Croatia</th>\n",
              "      <td>NaN</td>\n",
              "      <td>2.0</td>\n",
              "      <td>7.0</td>\n",
              "      <td>2.0</td>\n",
              "      <td>1.0</td>\n",
              "      <td>2.0</td>\n",
              "    </tr>\n",
              "    <tr>\n",
              "      <th>Denmark</th>\n",
              "      <td>NaN</td>\n",
              "      <td>NaN</td>\n",
              "      <td>2.0</td>\n",
              "      <td>NaN</td>\n",
              "      <td>1.0</td>\n",
              "      <td>NaN</td>\n",
              "    </tr>\n",
              "    <tr>\n",
              "      <th>Egypt</th>\n",
              "      <td>NaN</td>\n",
              "      <td>NaN</td>\n",
              "      <td>2.0</td>\n",
              "      <td>NaN</td>\n",
              "      <td>NaN</td>\n",
              "      <td>NaN</td>\n",
              "    </tr>\n",
              "    <tr>\n",
              "      <th>England</th>\n",
              "      <td>0.0</td>\n",
              "      <td>NaN</td>\n",
              "      <td>8.0</td>\n",
              "      <td>2.0</td>\n",
              "      <td>1.0</td>\n",
              "      <td>1.0</td>\n",
              "    </tr>\n",
              "    <tr>\n",
              "      <th>France</th>\n",
              "      <td>NaN</td>\n",
              "      <td>4.0</td>\n",
              "      <td>3.0</td>\n",
              "      <td>2.0</td>\n",
              "      <td>4.0</td>\n",
              "      <td>1.0</td>\n",
              "    </tr>\n",
              "    <tr>\n",
              "      <th>Germany</th>\n",
              "      <td>NaN</td>\n",
              "      <td>NaN</td>\n",
              "      <td>2.0</td>\n",
              "      <td>NaN</td>\n",
              "      <td>NaN</td>\n",
              "      <td>NaN</td>\n",
              "    </tr>\n",
              "    <tr>\n",
              "      <th>Iceland</th>\n",
              "      <td>NaN</td>\n",
              "      <td>NaN</td>\n",
              "      <td>2.0</td>\n",
              "      <td>NaN</td>\n",
              "      <td>NaN</td>\n",
              "      <td>NaN</td>\n",
              "    </tr>\n",
              "    <tr>\n",
              "      <th>Iran</th>\n",
              "      <td>NaN</td>\n",
              "      <td>NaN</td>\n",
              "      <td>2.0</td>\n",
              "      <td>NaN</td>\n",
              "      <td>NaN</td>\n",
              "      <td>NaN</td>\n",
              "    </tr>\n",
              "    <tr>\n",
              "      <th>Japan</th>\n",
              "      <td>NaN</td>\n",
              "      <td>NaN</td>\n",
              "      <td>4.0</td>\n",
              "      <td>NaN</td>\n",
              "      <td>2.0</td>\n",
              "      <td>NaN</td>\n",
              "    </tr>\n",
              "    <tr>\n",
              "      <th>Korea Republic</th>\n",
              "      <td>NaN</td>\n",
              "      <td>NaN</td>\n",
              "      <td>3.0</td>\n",
              "      <td>NaN</td>\n",
              "      <td>NaN</td>\n",
              "      <td>NaN</td>\n",
              "    </tr>\n",
              "    <tr>\n",
              "      <th>Mexico</th>\n",
              "      <td>NaN</td>\n",
              "      <td>NaN</td>\n",
              "      <td>3.0</td>\n",
              "      <td>NaN</td>\n",
              "      <td>0.0</td>\n",
              "      <td>NaN</td>\n",
              "    </tr>\n",
              "    <tr>\n",
              "      <th>Morocco</th>\n",
              "      <td>NaN</td>\n",
              "      <td>NaN</td>\n",
              "      <td>2.0</td>\n",
              "      <td>NaN</td>\n",
              "      <td>NaN</td>\n",
              "      <td>NaN</td>\n",
              "    </tr>\n",
              "    <tr>\n",
              "      <th>Nigeria</th>\n",
              "      <td>NaN</td>\n",
              "      <td>NaN</td>\n",
              "      <td>3.0</td>\n",
              "      <td>NaN</td>\n",
              "      <td>NaN</td>\n",
              "      <td>NaN</td>\n",
              "    </tr>\n",
              "    <tr>\n",
              "      <th>Panama</th>\n",
              "      <td>NaN</td>\n",
              "      <td>NaN</td>\n",
              "      <td>2.0</td>\n",
              "      <td>NaN</td>\n",
              "      <td>NaN</td>\n",
              "      <td>NaN</td>\n",
              "    </tr>\n",
              "    <tr>\n",
              "      <th>Peru</th>\n",
              "      <td>NaN</td>\n",
              "      <td>NaN</td>\n",
              "      <td>2.0</td>\n",
              "      <td>NaN</td>\n",
              "      <td>NaN</td>\n",
              "      <td>NaN</td>\n",
              "    </tr>\n",
              "    <tr>\n",
              "      <th>Poland</th>\n",
              "      <td>NaN</td>\n",
              "      <td>NaN</td>\n",
              "      <td>2.0</td>\n",
              "      <td>NaN</td>\n",
              "      <td>NaN</td>\n",
              "      <td>NaN</td>\n",
              "    </tr>\n",
              "    <tr>\n",
              "      <th>Portugal</th>\n",
              "      <td>NaN</td>\n",
              "      <td>NaN</td>\n",
              "      <td>5.0</td>\n",
              "      <td>NaN</td>\n",
              "      <td>1.0</td>\n",
              "      <td>NaN</td>\n",
              "    </tr>\n",
              "    <tr>\n",
              "      <th>Russia</th>\n",
              "      <td>NaN</td>\n",
              "      <td>NaN</td>\n",
              "      <td>8.0</td>\n",
              "      <td>2.0</td>\n",
              "      <td>1.0</td>\n",
              "      <td>NaN</td>\n",
              "    </tr>\n",
              "    <tr>\n",
              "      <th>Saudi Arabia</th>\n",
              "      <td>NaN</td>\n",
              "      <td>NaN</td>\n",
              "      <td>2.0</td>\n",
              "      <td>NaN</td>\n",
              "      <td>NaN</td>\n",
              "      <td>NaN</td>\n",
              "    </tr>\n",
              "    <tr>\n",
              "      <th>Senegal</th>\n",
              "      <td>NaN</td>\n",
              "      <td>NaN</td>\n",
              "      <td>4.0</td>\n",
              "      <td>NaN</td>\n",
              "      <td>NaN</td>\n",
              "      <td>NaN</td>\n",
              "    </tr>\n",
              "    <tr>\n",
              "      <th>Serbia</th>\n",
              "      <td>NaN</td>\n",
              "      <td>NaN</td>\n",
              "      <td>2.0</td>\n",
              "      <td>NaN</td>\n",
              "      <td>NaN</td>\n",
              "      <td>NaN</td>\n",
              "    </tr>\n",
              "    <tr>\n",
              "      <th>Spain</th>\n",
              "      <td>NaN</td>\n",
              "      <td>NaN</td>\n",
              "      <td>6.0</td>\n",
              "      <td>NaN</td>\n",
              "      <td>1.0</td>\n",
              "      <td>NaN</td>\n",
              "    </tr>\n",
              "    <tr>\n",
              "      <th>Sweden</th>\n",
              "      <td>NaN</td>\n",
              "      <td>NaN</td>\n",
              "      <td>5.0</td>\n",
              "      <td>0.0</td>\n",
              "      <td>1.0</td>\n",
              "      <td>NaN</td>\n",
              "    </tr>\n",
              "    <tr>\n",
              "      <th>Switzerland</th>\n",
              "      <td>NaN</td>\n",
              "      <td>NaN</td>\n",
              "      <td>5.0</td>\n",
              "      <td>NaN</td>\n",
              "      <td>0.0</td>\n",
              "      <td>NaN</td>\n",
              "    </tr>\n",
              "    <tr>\n",
              "      <th>Tunisia</th>\n",
              "      <td>NaN</td>\n",
              "      <td>NaN</td>\n",
              "      <td>5.0</td>\n",
              "      <td>NaN</td>\n",
              "      <td>NaN</td>\n",
              "      <td>NaN</td>\n",
              "    </tr>\n",
              "    <tr>\n",
              "      <th>Uruguay</th>\n",
              "      <td>NaN</td>\n",
              "      <td>NaN</td>\n",
              "      <td>5.0</td>\n",
              "      <td>0.0</td>\n",
              "      <td>2.0</td>\n",
              "      <td>NaN</td>\n",
              "    </tr>\n",
              "  </tbody>\n",
              "</table>\n",
              "</div>"
            ],
            "text/plain": [
              "Round           3rd Place  Final  Group Stage  Quarter Finals  Round of 16  \\\n",
              "Team                                                                         \n",
              "Argentina             NaN    NaN          3.0             NaN          3.0   \n",
              "Australia             NaN    NaN          2.0             NaN          NaN   \n",
              "Belgium               2.0    NaN          9.0             2.0          3.0   \n",
              "Brazil                NaN    NaN          5.0             1.0          2.0   \n",
              "Colombia              NaN    NaN          5.0             NaN          1.0   \n",
              "Costa Rica            NaN    NaN          2.0             NaN          NaN   \n",
              "Croatia               NaN    2.0          7.0             2.0          1.0   \n",
              "Denmark               NaN    NaN          2.0             NaN          1.0   \n",
              "Egypt                 NaN    NaN          2.0             NaN          NaN   \n",
              "England               0.0    NaN          8.0             2.0          1.0   \n",
              "France                NaN    4.0          3.0             2.0          4.0   \n",
              "Germany               NaN    NaN          2.0             NaN          NaN   \n",
              "Iceland               NaN    NaN          2.0             NaN          NaN   \n",
              "Iran                  NaN    NaN          2.0             NaN          NaN   \n",
              "Japan                 NaN    NaN          4.0             NaN          2.0   \n",
              "Korea Republic        NaN    NaN          3.0             NaN          NaN   \n",
              "Mexico                NaN    NaN          3.0             NaN          0.0   \n",
              "Morocco               NaN    NaN          2.0             NaN          NaN   \n",
              "Nigeria               NaN    NaN          3.0             NaN          NaN   \n",
              "Panama                NaN    NaN          2.0             NaN          NaN   \n",
              "Peru                  NaN    NaN          2.0             NaN          NaN   \n",
              "Poland                NaN    NaN          2.0             NaN          NaN   \n",
              "Portugal              NaN    NaN          5.0             NaN          1.0   \n",
              "Russia                NaN    NaN          8.0             2.0          1.0   \n",
              "Saudi Arabia          NaN    NaN          2.0             NaN          NaN   \n",
              "Senegal               NaN    NaN          4.0             NaN          NaN   \n",
              "Serbia                NaN    NaN          2.0             NaN          NaN   \n",
              "Spain                 NaN    NaN          6.0             NaN          1.0   \n",
              "Sweden                NaN    NaN          5.0             0.0          1.0   \n",
              "Switzerland           NaN    NaN          5.0             NaN          0.0   \n",
              "Tunisia               NaN    NaN          5.0             NaN          NaN   \n",
              "Uruguay               NaN    NaN          5.0             0.0          2.0   \n",
              "\n",
              "Round           Semi- Finals  \n",
              "Team                          \n",
              "Argentina                NaN  \n",
              "Australia                NaN  \n",
              "Belgium                  0.0  \n",
              "Brazil                   NaN  \n",
              "Colombia                 NaN  \n",
              "Costa Rica               NaN  \n",
              "Croatia                  2.0  \n",
              "Denmark                  NaN  \n",
              "Egypt                    NaN  \n",
              "England                  1.0  \n",
              "France                   1.0  \n",
              "Germany                  NaN  \n",
              "Iceland                  NaN  \n",
              "Iran                     NaN  \n",
              "Japan                    NaN  \n",
              "Korea Republic           NaN  \n",
              "Mexico                   NaN  \n",
              "Morocco                  NaN  \n",
              "Nigeria                  NaN  \n",
              "Panama                   NaN  \n",
              "Peru                     NaN  \n",
              "Poland                   NaN  \n",
              "Portugal                 NaN  \n",
              "Russia                   NaN  \n",
              "Saudi Arabia             NaN  \n",
              "Senegal                  NaN  \n",
              "Serbia                   NaN  \n",
              "Spain                    NaN  \n",
              "Sweden                   NaN  \n",
              "Switzerland              NaN  \n",
              "Tunisia                  NaN  \n",
              "Uruguay                  NaN  "
            ]
          },
          "execution_count": 67,
          "metadata": {},
          "output_type": "execute_result"
        }
      ],
      "source": [
        "df.pivot_table(index='Team', columns='Round', values='Goal Scored', aggfunc=np.sum)"
      ]
    },
    {
      "cell_type": "markdown",
      "metadata": {
        "id": "4XrheXK6Wgaz"
      },
      "source": [
        "## Combinando datasets"
      ]
    },
    {
      "cell_type": "markdown",
      "metadata": {
        "id": "M3XuVROeWgaz"
      },
      "source": [
        "### concat y append "
      ]
    },
    {
      "cell_type": "code",
      "execution_count": null,
      "metadata": {
        "id": "k8AbywSLWga0"
      },
      "outputs": [],
      "source": [
        "df1 = pd.DataFrame({'A': ['A0', 'A1', 'A2', 'A3'],\n",
        "                    'B': ['B0', 'B1', 'B2', 'B3'],\n",
        "                    'C': ['C0', 'C1', 'C2', 'C3'],\n",
        "                    'D': ['D0', 'D1', 'D2', 'D3']},\n",
        "                    index=[0, 1, 2, 3])\n",
        "   \n",
        "\n",
        "df2 = pd.DataFrame({'A': ['A4', 'A5', 'A6', 'A7'],\n",
        "                    'B': ['B4', 'B5', 'B6', 'B7'],\n",
        "                    'C': ['C4', 'C5', 'C6', 'C7'],\n",
        "                    'D': ['D4', 'D5', 'D6', 'D7']},\n",
        "                    index=[4, 5, 6, 7])\n",
        "\n",
        "\n",
        "df3 = pd.DataFrame({'A': ['A8', 'A9', 'A10', 'A11'],\n",
        "                    'B': ['B8', 'B9', 'B10', 'B11'],\n",
        "                    'C': ['C8', 'C9', 'C10', 'C11']},\n",
        "                    index=[8, 9, 10, 11])\n",
        "\n",
        "frames = [df1, df2, df3]\n"
      ]
    },
    {
      "cell_type": "code",
      "execution_count": null,
      "metadata": {
        "id": "Dc3QQxtMWga0",
        "outputId": "74f56474-4045-4a14-c7d9-d56221a8a7b4"
      },
      "outputs": [
        {
          "data": {
            "text/html": [
              "<div>\n",
              "<style scoped>\n",
              "    .dataframe tbody tr th:only-of-type {\n",
              "        vertical-align: middle;\n",
              "    }\n",
              "\n",
              "    .dataframe tbody tr th {\n",
              "        vertical-align: top;\n",
              "    }\n",
              "\n",
              "    .dataframe thead th {\n",
              "        text-align: right;\n",
              "    }\n",
              "</style>\n",
              "<table border=\"1\" class=\"dataframe\">\n",
              "  <thead>\n",
              "    <tr style=\"text-align: right;\">\n",
              "      <th></th>\n",
              "      <th>A</th>\n",
              "      <th>B</th>\n",
              "      <th>C</th>\n",
              "    </tr>\n",
              "  </thead>\n",
              "  <tbody>\n",
              "    <tr>\n",
              "      <th>8</th>\n",
              "      <td>A8</td>\n",
              "      <td>B8</td>\n",
              "      <td>C8</td>\n",
              "    </tr>\n",
              "    <tr>\n",
              "      <th>9</th>\n",
              "      <td>A9</td>\n",
              "      <td>B9</td>\n",
              "      <td>C9</td>\n",
              "    </tr>\n",
              "    <tr>\n",
              "      <th>10</th>\n",
              "      <td>A10</td>\n",
              "      <td>B10</td>\n",
              "      <td>C10</td>\n",
              "    </tr>\n",
              "    <tr>\n",
              "      <th>11</th>\n",
              "      <td>A11</td>\n",
              "      <td>B11</td>\n",
              "      <td>C11</td>\n",
              "    </tr>\n",
              "  </tbody>\n",
              "</table>\n",
              "</div>"
            ],
            "text/plain": [
              "      A    B    C\n",
              "8    A8   B8   C8\n",
              "9    A9   B9   C9\n",
              "10  A10  B10  C10\n",
              "11  A11  B11  C11"
            ]
          },
          "execution_count": 69,
          "metadata": {},
          "output_type": "execute_result"
        }
      ],
      "source": [
        "df3"
      ]
    },
    {
      "cell_type": "code",
      "execution_count": null,
      "metadata": {
        "id": "iZexzsPSWga0",
        "outputId": "a7e0d8bb-cd76-4bc6-ec65-d03172e13c14"
      },
      "outputs": [
        {
          "name": "stderr",
          "output_type": "stream",
          "text": [
            "C:\\Users\\dario.lopez\\Documents\\Miniconda\\envs\\datascience\\lib\\site-packages\\ipykernel_launcher.py:1: FutureWarning: Sorting because non-concatenation axis is not aligned. A future version\n",
            "of pandas will change to not sort by default.\n",
            "\n",
            "To accept the future behavior, pass 'sort=False'.\n",
            "\n",
            "To retain the current behavior and silence the warning, pass 'sort=True'.\n",
            "\n",
            "  \"\"\"Entry point for launching an IPython kernel.\n"
          ]
        },
        {
          "data": {
            "text/html": [
              "<div>\n",
              "<style scoped>\n",
              "    .dataframe tbody tr th:only-of-type {\n",
              "        vertical-align: middle;\n",
              "    }\n",
              "\n",
              "    .dataframe tbody tr th {\n",
              "        vertical-align: top;\n",
              "    }\n",
              "\n",
              "    .dataframe thead th {\n",
              "        text-align: right;\n",
              "    }\n",
              "</style>\n",
              "<table border=\"1\" class=\"dataframe\">\n",
              "  <thead>\n",
              "    <tr style=\"text-align: right;\">\n",
              "      <th></th>\n",
              "      <th>A</th>\n",
              "      <th>B</th>\n",
              "      <th>C</th>\n",
              "      <th>D</th>\n",
              "    </tr>\n",
              "  </thead>\n",
              "  <tbody>\n",
              "    <tr>\n",
              "      <th>0</th>\n",
              "      <td>A0</td>\n",
              "      <td>B0</td>\n",
              "      <td>C0</td>\n",
              "      <td>D0</td>\n",
              "    </tr>\n",
              "    <tr>\n",
              "      <th>1</th>\n",
              "      <td>A1</td>\n",
              "      <td>B1</td>\n",
              "      <td>C1</td>\n",
              "      <td>D1</td>\n",
              "    </tr>\n",
              "    <tr>\n",
              "      <th>2</th>\n",
              "      <td>A2</td>\n",
              "      <td>B2</td>\n",
              "      <td>C2</td>\n",
              "      <td>D2</td>\n",
              "    </tr>\n",
              "    <tr>\n",
              "      <th>3</th>\n",
              "      <td>A3</td>\n",
              "      <td>B3</td>\n",
              "      <td>C3</td>\n",
              "      <td>D3</td>\n",
              "    </tr>\n",
              "    <tr>\n",
              "      <th>4</th>\n",
              "      <td>A4</td>\n",
              "      <td>B4</td>\n",
              "      <td>C4</td>\n",
              "      <td>D4</td>\n",
              "    </tr>\n",
              "    <tr>\n",
              "      <th>5</th>\n",
              "      <td>A5</td>\n",
              "      <td>B5</td>\n",
              "      <td>C5</td>\n",
              "      <td>D5</td>\n",
              "    </tr>\n",
              "    <tr>\n",
              "      <th>6</th>\n",
              "      <td>A6</td>\n",
              "      <td>B6</td>\n",
              "      <td>C6</td>\n",
              "      <td>D6</td>\n",
              "    </tr>\n",
              "    <tr>\n",
              "      <th>7</th>\n",
              "      <td>A7</td>\n",
              "      <td>B7</td>\n",
              "      <td>C7</td>\n",
              "      <td>D7</td>\n",
              "    </tr>\n",
              "    <tr>\n",
              "      <th>8</th>\n",
              "      <td>A8</td>\n",
              "      <td>B8</td>\n",
              "      <td>C8</td>\n",
              "      <td>NaN</td>\n",
              "    </tr>\n",
              "    <tr>\n",
              "      <th>9</th>\n",
              "      <td>A9</td>\n",
              "      <td>B9</td>\n",
              "      <td>C9</td>\n",
              "      <td>NaN</td>\n",
              "    </tr>\n",
              "    <tr>\n",
              "      <th>10</th>\n",
              "      <td>A10</td>\n",
              "      <td>B10</td>\n",
              "      <td>C10</td>\n",
              "      <td>NaN</td>\n",
              "    </tr>\n",
              "    <tr>\n",
              "      <th>11</th>\n",
              "      <td>A11</td>\n",
              "      <td>B11</td>\n",
              "      <td>C11</td>\n",
              "      <td>NaN</td>\n",
              "    </tr>\n",
              "  </tbody>\n",
              "</table>\n",
              "</div>"
            ],
            "text/plain": [
              "      A    B    C    D\n",
              "0    A0   B0   C0   D0\n",
              "1    A1   B1   C1   D1\n",
              "2    A2   B2   C2   D2\n",
              "3    A3   B3   C3   D3\n",
              "4    A4   B4   C4   D4\n",
              "5    A5   B5   C5   D5\n",
              "6    A6   B6   C6   D6\n",
              "7    A7   B7   C7   D7\n",
              "8    A8   B8   C8  NaN\n",
              "9    A9   B9   C9  NaN\n",
              "10  A10  B10  C10  NaN\n",
              "11  A11  B11  C11  NaN"
            ]
          },
          "execution_count": 70,
          "metadata": {},
          "output_type": "execute_result"
        }
      ],
      "source": [
        "pd.concat(frames)"
      ]
    },
    {
      "cell_type": "code",
      "execution_count": null,
      "metadata": {
        "id": "1wka0FoEWga1",
        "outputId": "7d5a66a9-9f3c-4998-cca2-048d6edb8fe4"
      },
      "outputs": [
        {
          "data": {
            "text/html": [
              "<div>\n",
              "<style scoped>\n",
              "    .dataframe tbody tr th:only-of-type {\n",
              "        vertical-align: middle;\n",
              "    }\n",
              "\n",
              "    .dataframe tbody tr th {\n",
              "        vertical-align: top;\n",
              "    }\n",
              "\n",
              "    .dataframe thead th {\n",
              "        text-align: right;\n",
              "    }\n",
              "</style>\n",
              "<table border=\"1\" class=\"dataframe\">\n",
              "  <thead>\n",
              "    <tr style=\"text-align: right;\">\n",
              "      <th></th>\n",
              "      <th>B</th>\n",
              "      <th>D</th>\n",
              "      <th>F</th>\n",
              "    </tr>\n",
              "  </thead>\n",
              "  <tbody>\n",
              "    <tr>\n",
              "      <th>2</th>\n",
              "      <td>B2</td>\n",
              "      <td>D2</td>\n",
              "      <td>F2</td>\n",
              "    </tr>\n",
              "    <tr>\n",
              "      <th>3</th>\n",
              "      <td>B3</td>\n",
              "      <td>D3</td>\n",
              "      <td>F3</td>\n",
              "    </tr>\n",
              "    <tr>\n",
              "      <th>6</th>\n",
              "      <td>B6</td>\n",
              "      <td>D6</td>\n",
              "      <td>F6</td>\n",
              "    </tr>\n",
              "    <tr>\n",
              "      <th>7</th>\n",
              "      <td>B7</td>\n",
              "      <td>D7</td>\n",
              "      <td>F7</td>\n",
              "    </tr>\n",
              "  </tbody>\n",
              "</table>\n",
              "</div>"
            ],
            "text/plain": [
              "    B   D   F\n",
              "2  B2  D2  F2\n",
              "3  B3  D3  F3\n",
              "6  B6  D6  F6\n",
              "7  B7  D7  F7"
            ]
          },
          "execution_count": 71,
          "metadata": {},
          "output_type": "execute_result"
        }
      ],
      "source": [
        "df4 = pd.DataFrame({'B': ['B2', 'B3', 'B6', 'B7'],\n",
        "                    'D': ['D2', 'D3', 'D6', 'D7'],\n",
        "                    'F': ['F2', 'F3', 'F6', 'F7']},\n",
        "                     index=[2, 3, 6, 7])\n",
        "df4"
      ]
    },
    {
      "cell_type": "code",
      "execution_count": null,
      "metadata": {
        "id": "wS0FJPt7Wga1",
        "outputId": "863989ad-268e-424f-bc9d-7a4408291622"
      },
      "outputs": [
        {
          "name": "stderr",
          "output_type": "stream",
          "text": [
            "C:\\Users\\dario.lopez\\Documents\\Miniconda\\envs\\datascience\\lib\\site-packages\\ipykernel_launcher.py:2: FutureWarning: Sorting because non-concatenation axis is not aligned. A future version\n",
            "of pandas will change to not sort by default.\n",
            "\n",
            "To accept the future behavior, pass 'sort=False'.\n",
            "\n",
            "To retain the current behavior and silence the warning, pass 'sort=True'.\n",
            "\n",
            "  \n"
          ]
        },
        {
          "data": {
            "text/html": [
              "<div>\n",
              "<style scoped>\n",
              "    .dataframe tbody tr th:only-of-type {\n",
              "        vertical-align: middle;\n",
              "    }\n",
              "\n",
              "    .dataframe tbody tr th {\n",
              "        vertical-align: top;\n",
              "    }\n",
              "\n",
              "    .dataframe thead th {\n",
              "        text-align: right;\n",
              "    }\n",
              "</style>\n",
              "<table border=\"1\" class=\"dataframe\">\n",
              "  <thead>\n",
              "    <tr style=\"text-align: right;\">\n",
              "      <th></th>\n",
              "      <th>A</th>\n",
              "      <th>B</th>\n",
              "      <th>C</th>\n",
              "      <th>D</th>\n",
              "      <th>F</th>\n",
              "    </tr>\n",
              "  </thead>\n",
              "  <tbody>\n",
              "    <tr>\n",
              "      <th>0</th>\n",
              "      <td>A0</td>\n",
              "      <td>B0</td>\n",
              "      <td>C0</td>\n",
              "      <td>D0</td>\n",
              "      <td>NaN</td>\n",
              "    </tr>\n",
              "    <tr>\n",
              "      <th>1</th>\n",
              "      <td>A1</td>\n",
              "      <td>B1</td>\n",
              "      <td>C1</td>\n",
              "      <td>D1</td>\n",
              "      <td>NaN</td>\n",
              "    </tr>\n",
              "    <tr>\n",
              "      <th>2</th>\n",
              "      <td>A2</td>\n",
              "      <td>B2</td>\n",
              "      <td>C2</td>\n",
              "      <td>D2</td>\n",
              "      <td>NaN</td>\n",
              "    </tr>\n",
              "    <tr>\n",
              "      <th>3</th>\n",
              "      <td>A3</td>\n",
              "      <td>B3</td>\n",
              "      <td>C3</td>\n",
              "      <td>D3</td>\n",
              "      <td>NaN</td>\n",
              "    </tr>\n",
              "    <tr>\n",
              "      <th>4</th>\n",
              "      <td>A4</td>\n",
              "      <td>B4</td>\n",
              "      <td>C4</td>\n",
              "      <td>D4</td>\n",
              "      <td>NaN</td>\n",
              "    </tr>\n",
              "    <tr>\n",
              "      <th>5</th>\n",
              "      <td>A5</td>\n",
              "      <td>B5</td>\n",
              "      <td>C5</td>\n",
              "      <td>D5</td>\n",
              "      <td>NaN</td>\n",
              "    </tr>\n",
              "    <tr>\n",
              "      <th>6</th>\n",
              "      <td>A6</td>\n",
              "      <td>B6</td>\n",
              "      <td>C6</td>\n",
              "      <td>D6</td>\n",
              "      <td>NaN</td>\n",
              "    </tr>\n",
              "    <tr>\n",
              "      <th>7</th>\n",
              "      <td>A7</td>\n",
              "      <td>B7</td>\n",
              "      <td>C7</td>\n",
              "      <td>D7</td>\n",
              "      <td>NaN</td>\n",
              "    </tr>\n",
              "    <tr>\n",
              "      <th>8</th>\n",
              "      <td>A8</td>\n",
              "      <td>B8</td>\n",
              "      <td>C8</td>\n",
              "      <td>NaN</td>\n",
              "      <td>NaN</td>\n",
              "    </tr>\n",
              "    <tr>\n",
              "      <th>9</th>\n",
              "      <td>A9</td>\n",
              "      <td>B9</td>\n",
              "      <td>C9</td>\n",
              "      <td>NaN</td>\n",
              "      <td>NaN</td>\n",
              "    </tr>\n",
              "    <tr>\n",
              "      <th>10</th>\n",
              "      <td>A10</td>\n",
              "      <td>B10</td>\n",
              "      <td>C10</td>\n",
              "      <td>NaN</td>\n",
              "      <td>NaN</td>\n",
              "    </tr>\n",
              "    <tr>\n",
              "      <th>11</th>\n",
              "      <td>A11</td>\n",
              "      <td>B11</td>\n",
              "      <td>C11</td>\n",
              "      <td>NaN</td>\n",
              "      <td>NaN</td>\n",
              "    </tr>\n",
              "    <tr>\n",
              "      <th>2</th>\n",
              "      <td>NaN</td>\n",
              "      <td>B2</td>\n",
              "      <td>NaN</td>\n",
              "      <td>D2</td>\n",
              "      <td>F2</td>\n",
              "    </tr>\n",
              "    <tr>\n",
              "      <th>3</th>\n",
              "      <td>NaN</td>\n",
              "      <td>B3</td>\n",
              "      <td>NaN</td>\n",
              "      <td>D3</td>\n",
              "      <td>F3</td>\n",
              "    </tr>\n",
              "    <tr>\n",
              "      <th>6</th>\n",
              "      <td>NaN</td>\n",
              "      <td>B6</td>\n",
              "      <td>NaN</td>\n",
              "      <td>D6</td>\n",
              "      <td>F6</td>\n",
              "    </tr>\n",
              "    <tr>\n",
              "      <th>7</th>\n",
              "      <td>NaN</td>\n",
              "      <td>B7</td>\n",
              "      <td>NaN</td>\n",
              "      <td>D7</td>\n",
              "      <td>F7</td>\n",
              "    </tr>\n",
              "  </tbody>\n",
              "</table>\n",
              "</div>"
            ],
            "text/plain": [
              "      A    B    C    D    F\n",
              "0    A0   B0   C0   D0  NaN\n",
              "1    A1   B1   C1   D1  NaN\n",
              "2    A2   B2   C2   D2  NaN\n",
              "3    A3   B3   C3   D3  NaN\n",
              "4    A4   B4   C4   D4  NaN\n",
              "5    A5   B5   C5   D5  NaN\n",
              "6    A6   B6   C6   D6  NaN\n",
              "7    A7   B7   C7   D7  NaN\n",
              "8    A8   B8   C8  NaN  NaN\n",
              "9    A9   B9   C9  NaN  NaN\n",
              "10  A10  B10  C10  NaN  NaN\n",
              "11  A11  B11  C11  NaN  NaN\n",
              "2   NaN   B2  NaN   D2   F2\n",
              "3   NaN   B3  NaN   D3   F3\n",
              "6   NaN   B6  NaN   D6   F6\n",
              "7   NaN   B7  NaN   D7   F7"
            ]
          },
          "execution_count": 72,
          "metadata": {},
          "output_type": "execute_result"
        }
      ],
      "source": [
        "frames = [df1, df2, df3, df4]\n",
        "pd.concat(frames)"
      ]
    },
    {
      "cell_type": "code",
      "execution_count": null,
      "metadata": {
        "id": "3eZM3RcnWga2",
        "outputId": "36f99193-8233-49d4-b497-b84a2ace7c5f"
      },
      "outputs": [
        {
          "data": {
            "text/html": [
              "<div>\n",
              "<style scoped>\n",
              "    .dataframe tbody tr th:only-of-type {\n",
              "        vertical-align: middle;\n",
              "    }\n",
              "\n",
              "    .dataframe tbody tr th {\n",
              "        vertical-align: top;\n",
              "    }\n",
              "\n",
              "    .dataframe thead th {\n",
              "        text-align: right;\n",
              "    }\n",
              "</style>\n",
              "<table border=\"1\" class=\"dataframe\">\n",
              "  <thead>\n",
              "    <tr style=\"text-align: right;\">\n",
              "      <th></th>\n",
              "      <th>A</th>\n",
              "      <th>B</th>\n",
              "      <th>C</th>\n",
              "      <th>D</th>\n",
              "      <th>B</th>\n",
              "      <th>D</th>\n",
              "      <th>F</th>\n",
              "    </tr>\n",
              "  </thead>\n",
              "  <tbody>\n",
              "    <tr>\n",
              "      <th>0</th>\n",
              "      <td>A0</td>\n",
              "      <td>B0</td>\n",
              "      <td>C0</td>\n",
              "      <td>D0</td>\n",
              "      <td>NaN</td>\n",
              "      <td>NaN</td>\n",
              "      <td>NaN</td>\n",
              "    </tr>\n",
              "    <tr>\n",
              "      <th>1</th>\n",
              "      <td>A1</td>\n",
              "      <td>B1</td>\n",
              "      <td>C1</td>\n",
              "      <td>D1</td>\n",
              "      <td>NaN</td>\n",
              "      <td>NaN</td>\n",
              "      <td>NaN</td>\n",
              "    </tr>\n",
              "    <tr>\n",
              "      <th>2</th>\n",
              "      <td>A2</td>\n",
              "      <td>B2</td>\n",
              "      <td>C2</td>\n",
              "      <td>D2</td>\n",
              "      <td>B2</td>\n",
              "      <td>D2</td>\n",
              "      <td>F2</td>\n",
              "    </tr>\n",
              "    <tr>\n",
              "      <th>3</th>\n",
              "      <td>A3</td>\n",
              "      <td>B3</td>\n",
              "      <td>C3</td>\n",
              "      <td>D3</td>\n",
              "      <td>B3</td>\n",
              "      <td>D3</td>\n",
              "      <td>F3</td>\n",
              "    </tr>\n",
              "    <tr>\n",
              "      <th>6</th>\n",
              "      <td>NaN</td>\n",
              "      <td>NaN</td>\n",
              "      <td>NaN</td>\n",
              "      <td>NaN</td>\n",
              "      <td>B6</td>\n",
              "      <td>D6</td>\n",
              "      <td>F6</td>\n",
              "    </tr>\n",
              "    <tr>\n",
              "      <th>7</th>\n",
              "      <td>NaN</td>\n",
              "      <td>NaN</td>\n",
              "      <td>NaN</td>\n",
              "      <td>NaN</td>\n",
              "      <td>B7</td>\n",
              "      <td>D7</td>\n",
              "      <td>F7</td>\n",
              "    </tr>\n",
              "  </tbody>\n",
              "</table>\n",
              "</div>"
            ],
            "text/plain": [
              "     A    B    C    D    B    D    F\n",
              "0   A0   B0   C0   D0  NaN  NaN  NaN\n",
              "1   A1   B1   C1   D1  NaN  NaN  NaN\n",
              "2   A2   B2   C2   D2   B2   D2   F2\n",
              "3   A3   B3   C3   D3   B3   D3   F3\n",
              "6  NaN  NaN  NaN  NaN   B6   D6   F6\n",
              "7  NaN  NaN  NaN  NaN   B7   D7   F7"
            ]
          },
          "execution_count": 73,
          "metadata": {},
          "output_type": "execute_result"
        }
      ],
      "source": [
        "pd.concat([df1, df4], axis=1) # Concatenación horizontal"
      ]
    },
    {
      "cell_type": "code",
      "execution_count": null,
      "metadata": {
        "id": "76OCCGcDWga2",
        "outputId": "0bb88fca-a36e-4ec3-91c5-26fd69e02fd9"
      },
      "outputs": [
        {
          "data": {
            "text/html": [
              "<div>\n",
              "<style scoped>\n",
              "    .dataframe tbody tr th:only-of-type {\n",
              "        vertical-align: middle;\n",
              "    }\n",
              "\n",
              "    .dataframe tbody tr th {\n",
              "        vertical-align: top;\n",
              "    }\n",
              "\n",
              "    .dataframe thead th {\n",
              "        text-align: right;\n",
              "    }\n",
              "</style>\n",
              "<table border=\"1\" class=\"dataframe\">\n",
              "  <thead>\n",
              "    <tr style=\"text-align: right;\">\n",
              "      <th></th>\n",
              "      <th>A</th>\n",
              "      <th>B</th>\n",
              "      <th>C</th>\n",
              "      <th>D</th>\n",
              "      <th>B</th>\n",
              "      <th>D</th>\n",
              "      <th>F</th>\n",
              "    </tr>\n",
              "  </thead>\n",
              "  <tbody>\n",
              "    <tr>\n",
              "      <th>2</th>\n",
              "      <td>A2</td>\n",
              "      <td>B2</td>\n",
              "      <td>C2</td>\n",
              "      <td>D2</td>\n",
              "      <td>B2</td>\n",
              "      <td>D2</td>\n",
              "      <td>F2</td>\n",
              "    </tr>\n",
              "    <tr>\n",
              "      <th>3</th>\n",
              "      <td>A3</td>\n",
              "      <td>B3</td>\n",
              "      <td>C3</td>\n",
              "      <td>D3</td>\n",
              "      <td>B3</td>\n",
              "      <td>D3</td>\n",
              "      <td>F3</td>\n",
              "    </tr>\n",
              "  </tbody>\n",
              "</table>\n",
              "</div>"
            ],
            "text/plain": [
              "    A   B   C   D   B   D   F\n",
              "2  A2  B2  C2  D2  B2  D2  F2\n",
              "3  A3  B3  C3  D3  B3  D3  F3"
            ]
          },
          "execution_count": 134,
          "metadata": {},
          "output_type": "execute_result"
        }
      ],
      "source": [
        "pd.concat([df1, df4], axis=1, join='inner') # Cambiando la forma de concatenar con join"
      ]
    },
    {
      "cell_type": "code",
      "execution_count": null,
      "metadata": {
        "id": "csMPEgjHWga3",
        "outputId": "3e375fa2-fe39-4f5a-f3a1-6d03b108265a"
      },
      "outputs": [
        {
          "data": {
            "text/html": [
              "<div>\n",
              "<style scoped>\n",
              "    .dataframe tbody tr th:only-of-type {\n",
              "        vertical-align: middle;\n",
              "    }\n",
              "\n",
              "    .dataframe tbody tr th {\n",
              "        vertical-align: top;\n",
              "    }\n",
              "\n",
              "    .dataframe thead th {\n",
              "        text-align: right;\n",
              "    }\n",
              "</style>\n",
              "<table border=\"1\" class=\"dataframe\">\n",
              "  <thead>\n",
              "    <tr style=\"text-align: right;\">\n",
              "      <th></th>\n",
              "      <th>A</th>\n",
              "      <th>B</th>\n",
              "      <th>C</th>\n",
              "      <th>D</th>\n",
              "    </tr>\n",
              "  </thead>\n",
              "  <tbody>\n",
              "    <tr>\n",
              "      <th>0</th>\n",
              "      <td>A0</td>\n",
              "      <td>B0</td>\n",
              "      <td>C0</td>\n",
              "      <td>D0</td>\n",
              "    </tr>\n",
              "    <tr>\n",
              "      <th>1</th>\n",
              "      <td>A1</td>\n",
              "      <td>B1</td>\n",
              "      <td>C1</td>\n",
              "      <td>D1</td>\n",
              "    </tr>\n",
              "    <tr>\n",
              "      <th>2</th>\n",
              "      <td>A2</td>\n",
              "      <td>B2</td>\n",
              "      <td>C2</td>\n",
              "      <td>D2</td>\n",
              "    </tr>\n",
              "    <tr>\n",
              "      <th>3</th>\n",
              "      <td>A3</td>\n",
              "      <td>B3</td>\n",
              "      <td>C3</td>\n",
              "      <td>D3</td>\n",
              "    </tr>\n",
              "    <tr>\n",
              "      <th>4</th>\n",
              "      <td>A4</td>\n",
              "      <td>B4</td>\n",
              "      <td>C4</td>\n",
              "      <td>D4</td>\n",
              "    </tr>\n",
              "    <tr>\n",
              "      <th>5</th>\n",
              "      <td>A5</td>\n",
              "      <td>B5</td>\n",
              "      <td>C5</td>\n",
              "      <td>D5</td>\n",
              "    </tr>\n",
              "    <tr>\n",
              "      <th>6</th>\n",
              "      <td>A6</td>\n",
              "      <td>B6</td>\n",
              "      <td>C6</td>\n",
              "      <td>D6</td>\n",
              "    </tr>\n",
              "    <tr>\n",
              "      <th>7</th>\n",
              "      <td>A7</td>\n",
              "      <td>B7</td>\n",
              "      <td>C7</td>\n",
              "      <td>D7</td>\n",
              "    </tr>\n",
              "  </tbody>\n",
              "</table>\n",
              "</div>"
            ],
            "text/plain": [
              "    A   B   C   D\n",
              "0  A0  B0  C0  D0\n",
              "1  A1  B1  C1  D1\n",
              "2  A2  B2  C2  D2\n",
              "3  A3  B3  C3  D3\n",
              "4  A4  B4  C4  D4\n",
              "5  A5  B5  C5  D5\n",
              "6  A6  B6  C6  D6\n",
              "7  A7  B7  C7  D7"
            ]
          },
          "execution_count": 135,
          "metadata": {},
          "output_type": "execute_result"
        }
      ],
      "source": [
        "df1.append(df2) # Append es otra forma de fácilmente concatenerar"
      ]
    },
    {
      "cell_type": "markdown",
      "metadata": {
        "id": "qvrhFSb3Wga3"
      },
      "source": [
        "### Merge"
      ]
    },
    {
      "cell_type": "code",
      "execution_count": null,
      "metadata": {
        "id": "xVzaG7aLWga4",
        "outputId": "148fdaba-e477-4c80-e5a8-882e4682b455"
      },
      "outputs": [
        {
          "data": {
            "text/html": [
              "<div>\n",
              "<style scoped>\n",
              "    .dataframe tbody tr th:only-of-type {\n",
              "        vertical-align: middle;\n",
              "    }\n",
              "\n",
              "    .dataframe tbody tr th {\n",
              "        vertical-align: top;\n",
              "    }\n",
              "\n",
              "    .dataframe thead th {\n",
              "        text-align: right;\n",
              "    }\n",
              "</style>\n",
              "<table border=\"1\" class=\"dataframe\">\n",
              "  <thead>\n",
              "    <tr style=\"text-align: right;\">\n",
              "      <th></th>\n",
              "      <th>key</th>\n",
              "      <th>A</th>\n",
              "      <th>B</th>\n",
              "      <th>C</th>\n",
              "      <th>D</th>\n",
              "    </tr>\n",
              "  </thead>\n",
              "  <tbody>\n",
              "    <tr>\n",
              "      <th>0</th>\n",
              "      <td>K0</td>\n",
              "      <td>A0</td>\n",
              "      <td>B0</td>\n",
              "      <td>C0</td>\n",
              "      <td>D0</td>\n",
              "    </tr>\n",
              "    <tr>\n",
              "      <th>1</th>\n",
              "      <td>K1</td>\n",
              "      <td>A1</td>\n",
              "      <td>B1</td>\n",
              "      <td>C1</td>\n",
              "      <td>D1</td>\n",
              "    </tr>\n",
              "    <tr>\n",
              "      <th>2</th>\n",
              "      <td>K2</td>\n",
              "      <td>A2</td>\n",
              "      <td>B2</td>\n",
              "      <td>C2</td>\n",
              "      <td>D2</td>\n",
              "    </tr>\n",
              "  </tbody>\n",
              "</table>\n",
              "</div>"
            ],
            "text/plain": [
              "  key   A   B   C   D\n",
              "0  K0  A0  B0  C0  D0\n",
              "1  K1  A1  B1  C1  D1\n",
              "2  K2  A2  B2  C2  D2"
            ]
          },
          "execution_count": 136,
          "metadata": {},
          "output_type": "execute_result"
        }
      ],
      "source": [
        "left = pd.DataFrame({'key': ['K0', 'K1', 'K2', 'K3'],\n",
        "                    'A': ['A0', 'A1', 'A2', 'A3'],\n",
        "                    'B': ['B0', 'B1', 'B2', 'B3']})\n",
        "\n",
        "\n",
        "right = pd.DataFrame({'key': ['K0', 'K1', 'K2'],\n",
        "                    'C': ['C0', 'C1', 'C2'],\n",
        "                    'D': ['D0', 'D1', 'D2']})\n",
        "\n",
        "\n",
        "pd.merge(left, right, on='key')"
      ]
    },
    {
      "cell_type": "code",
      "execution_count": null,
      "metadata": {
        "id": "K40Cm7ziWga4"
      },
      "outputs": [],
      "source": [
        "import numpy as np"
      ]
    },
    {
      "cell_type": "markdown",
      "metadata": {
        "id": "OGKufZrbWga5"
      },
      "source": [
        "## Apply y Map"
      ]
    },
    {
      "cell_type": "markdown",
      "metadata": {
        "id": "ktAAlnLpWga5"
      },
      "source": [
        "### apply"
      ]
    },
    {
      "cell_type": "code",
      "execution_count": null,
      "metadata": {
        "id": "Y0sQzDT3Wga5",
        "outputId": "2ad0af49-fa15-493b-818b-c7330dd22db3"
      },
      "outputs": [
        {
          "data": {
            "text/html": [
              "<div>\n",
              "<style scoped>\n",
              "    .dataframe tbody tr th:only-of-type {\n",
              "        vertical-align: middle;\n",
              "    }\n",
              "\n",
              "    .dataframe tbody tr th {\n",
              "        vertical-align: top;\n",
              "    }\n",
              "\n",
              "    .dataframe thead th {\n",
              "        text-align: right;\n",
              "    }\n",
              "</style>\n",
              "<table border=\"1\" class=\"dataframe\">\n",
              "  <thead>\n",
              "    <tr style=\"text-align: right;\">\n",
              "      <th></th>\n",
              "      <th>edad</th>\n",
              "      <th>clics_por_hora</th>\n",
              "    </tr>\n",
              "  </thead>\n",
              "  <tbody>\n",
              "    <tr>\n",
              "      <th>0</th>\n",
              "      <td>NaN</td>\n",
              "      <td>156.0</td>\n",
              "    </tr>\n",
              "    <tr>\n",
              "      <th>1</th>\n",
              "      <td>20.0</td>\n",
              "      <td>NaN</td>\n",
              "    </tr>\n",
              "    <tr>\n",
              "      <th>2</th>\n",
              "      <td>41.0</td>\n",
              "      <td>210.0</td>\n",
              "    </tr>\n",
              "    <tr>\n",
              "      <th>3</th>\n",
              "      <td>20.0</td>\n",
              "      <td>210.0</td>\n",
              "    </tr>\n",
              "  </tbody>\n",
              "</table>\n",
              "</div>"
            ],
            "text/plain": [
              "   edad  clics_por_hora\n",
              "0   NaN           156.0\n",
              "1  20.0             NaN\n",
              "2  41.0           210.0\n",
              "3  20.0           210.0"
            ]
          },
          "execution_count": 75,
          "metadata": {},
          "output_type": "execute_result"
        }
      ],
      "source": [
        "usuarios_df = pd.DataFrame({'edad': [np.nan, 20, 41, 20],\n",
        "                            'clics_por_hora': [156, np.nan, 210, 210]})\n",
        "usuarios_df"
      ]
    },
    {
      "cell_type": "code",
      "execution_count": null,
      "metadata": {
        "id": "-eyIG-UNWga6"
      },
      "outputs": [],
      "source": [
        "import numpy as np\n",
        "usuarios2 = usuarios_df.apply(np.mean) # Se puede aplicar cualquier función que toma una fila o columna por entrada."
      ]
    },
    {
      "cell_type": "code",
      "execution_count": null,
      "metadata": {
        "id": "OtD0QDuCWga6",
        "outputId": "4d5ecfd7-cfd3-4cf9-bfb7-d4110cfa81d3"
      },
      "outputs": [
        {
          "data": {
            "text/plain": [
              "edad               27.0\n",
              "clics_por_hora    192.0\n",
              "dtype: float64"
            ]
          },
          "execution_count": 79,
          "metadata": {},
          "output_type": "execute_result"
        }
      ],
      "source": [
        "usuarios2"
      ]
    },
    {
      "cell_type": "code",
      "execution_count": null,
      "metadata": {
        "id": "4zZDb3z2Wga7",
        "outputId": "a24298b4-d589-4907-e769-82314f6eb55a"
      },
      "outputs": [
        {
          "data": {
            "text/html": [
              "<div>\n",
              "<style scoped>\n",
              "    .dataframe tbody tr th:only-of-type {\n",
              "        vertical-align: middle;\n",
              "    }\n",
              "\n",
              "    .dataframe tbody tr th {\n",
              "        vertical-align: top;\n",
              "    }\n",
              "\n",
              "    .dataframe thead th {\n",
              "        text-align: right;\n",
              "    }\n",
              "</style>\n",
              "<table border=\"1\" class=\"dataframe\">\n",
              "  <thead>\n",
              "    <tr style=\"text-align: right;\">\n",
              "      <th></th>\n",
              "      <th>edad</th>\n",
              "      <th>clics_por_hora</th>\n",
              "    </tr>\n",
              "  </thead>\n",
              "  <tbody>\n",
              "    <tr>\n",
              "      <th>0</th>\n",
              "      <td>NaN</td>\n",
              "      <td>156.0</td>\n",
              "    </tr>\n",
              "    <tr>\n",
              "      <th>1</th>\n",
              "      <td>20.0</td>\n",
              "      <td>NaN</td>\n",
              "    </tr>\n",
              "    <tr>\n",
              "      <th>2</th>\n",
              "      <td>41.0</td>\n",
              "      <td>210.0</td>\n",
              "    </tr>\n",
              "    <tr>\n",
              "      <th>3</th>\n",
              "      <td>20.0</td>\n",
              "      <td>210.0</td>\n",
              "    </tr>\n",
              "  </tbody>\n",
              "</table>\n",
              "</div>"
            ],
            "text/plain": [
              "   edad  clics_por_hora\n",
              "0   NaN           156.0\n",
              "1  20.0             NaN\n",
              "2  41.0           210.0\n",
              "3  20.0           210.0"
            ]
          },
          "execution_count": 77,
          "metadata": {},
          "output_type": "execute_result"
        }
      ],
      "source": [
        "usuarios_df"
      ]
    },
    {
      "cell_type": "markdown",
      "metadata": {
        "id": "HUVBFX-6Wga8"
      },
      "source": [
        "### applymap"
      ]
    },
    {
      "cell_type": "code",
      "execution_count": null,
      "metadata": {
        "id": "sUTPFE4BWga9",
        "outputId": "3225ead6-c494-4840-cbcb-1e0a49739966"
      },
      "outputs": [
        {
          "data": {
            "text/html": [
              "<div>\n",
              "<style scoped>\n",
              "    .dataframe tbody tr th:only-of-type {\n",
              "        vertical-align: middle;\n",
              "    }\n",
              "\n",
              "    .dataframe tbody tr th {\n",
              "        vertical-align: top;\n",
              "    }\n",
              "\n",
              "    .dataframe thead th {\n",
              "        text-align: right;\n",
              "    }\n",
              "</style>\n",
              "<table border=\"1\" class=\"dataframe\">\n",
              "  <thead>\n",
              "    <tr style=\"text-align: right;\">\n",
              "      <th></th>\n",
              "      <th>edad</th>\n",
              "      <th>clics_por_hora</th>\n",
              "    </tr>\n",
              "  </thead>\n",
              "  <tbody>\n",
              "    <tr>\n",
              "      <th>0</th>\n",
              "      <td>NaN</td>\n",
              "      <td>78.0</td>\n",
              "    </tr>\n",
              "    <tr>\n",
              "      <th>1</th>\n",
              "      <td>10.0</td>\n",
              "      <td>NaN</td>\n",
              "    </tr>\n",
              "    <tr>\n",
              "      <th>2</th>\n",
              "      <td>20.5</td>\n",
              "      <td>105.0</td>\n",
              "    </tr>\n",
              "    <tr>\n",
              "      <th>3</th>\n",
              "      <td>10.0</td>\n",
              "      <td>105.0</td>\n",
              "    </tr>\n",
              "  </tbody>\n",
              "</table>\n",
              "</div>"
            ],
            "text/plain": [
              "   edad  clics_por_hora\n",
              "0   NaN            78.0\n",
              "1  10.0             NaN\n",
              "2  20.5           105.0\n",
              "3  10.0           105.0"
            ]
          },
          "execution_count": 80,
          "metadata": {},
          "output_type": "execute_result"
        }
      ],
      "source": [
        "usuarios_df.applymap(lambda x: x/2) # Se aplica elemento a elemento. En las series podemos usar directamente serie.map"
      ]
    },
    {
      "cell_type": "markdown",
      "metadata": {
        "id": "b2L1PrVNWga9"
      },
      "source": [
        "## Missing values"
      ]
    },
    {
      "cell_type": "markdown",
      "metadata": {
        "id": "Gx0p8WVrWga-"
      },
      "source": [
        "### Filtrando valores faltantes"
      ]
    },
    {
      "cell_type": "code",
      "execution_count": null,
      "metadata": {
        "id": "18P7RjEpWga-",
        "outputId": "bcfbea4f-6483-4491-a0f6-fc99bc8f5da3"
      },
      "outputs": [
        {
          "data": {
            "text/html": [
              "<div>\n",
              "<style scoped>\n",
              "    .dataframe tbody tr th:only-of-type {\n",
              "        vertical-align: middle;\n",
              "    }\n",
              "\n",
              "    .dataframe tbody tr th {\n",
              "        vertical-align: top;\n",
              "    }\n",
              "\n",
              "    .dataframe thead th {\n",
              "        text-align: right;\n",
              "    }\n",
              "</style>\n",
              "<table border=\"1\" class=\"dataframe\">\n",
              "  <thead>\n",
              "    <tr style=\"text-align: right;\">\n",
              "      <th></th>\n",
              "      <th>edad</th>\n",
              "      <th>clics_por_hora</th>\n",
              "    </tr>\n",
              "  </thead>\n",
              "  <tbody>\n",
              "    <tr>\n",
              "      <th>0</th>\n",
              "      <td>NaN</td>\n",
              "      <td>156.0</td>\n",
              "    </tr>\n",
              "    <tr>\n",
              "      <th>1</th>\n",
              "      <td>20.0</td>\n",
              "      <td>NaN</td>\n",
              "    </tr>\n",
              "    <tr>\n",
              "      <th>2</th>\n",
              "      <td>41.0</td>\n",
              "      <td>210.0</td>\n",
              "    </tr>\n",
              "    <tr>\n",
              "      <th>3</th>\n",
              "      <td>20.0</td>\n",
              "      <td>210.0</td>\n",
              "    </tr>\n",
              "  </tbody>\n",
              "</table>\n",
              "</div>"
            ],
            "text/plain": [
              "   edad  clics_por_hora\n",
              "0   NaN           156.0\n",
              "1  20.0             NaN\n",
              "2  41.0           210.0\n",
              "3  20.0           210.0"
            ]
          },
          "execution_count": 81,
          "metadata": {},
          "output_type": "execute_result"
        }
      ],
      "source": [
        "usuarios_df"
      ]
    },
    {
      "cell_type": "code",
      "execution_count": null,
      "metadata": {
        "id": "T1M5-7VWWga_",
        "outputId": "cd915198-ee11-4fe1-8e3c-70b160662007"
      },
      "outputs": [
        {
          "data": {
            "text/html": [
              "<div>\n",
              "<style scoped>\n",
              "    .dataframe tbody tr th:only-of-type {\n",
              "        vertical-align: middle;\n",
              "    }\n",
              "\n",
              "    .dataframe tbody tr th {\n",
              "        vertical-align: top;\n",
              "    }\n",
              "\n",
              "    .dataframe thead th {\n",
              "        text-align: right;\n",
              "    }\n",
              "</style>\n",
              "<table border=\"1\" class=\"dataframe\">\n",
              "  <thead>\n",
              "    <tr style=\"text-align: right;\">\n",
              "      <th></th>\n",
              "      <th>edad</th>\n",
              "      <th>clics_por_hora</th>\n",
              "    </tr>\n",
              "  </thead>\n",
              "  <tbody>\n",
              "    <tr>\n",
              "      <th>0</th>\n",
              "      <td>True</td>\n",
              "      <td>False</td>\n",
              "    </tr>\n",
              "    <tr>\n",
              "      <th>1</th>\n",
              "      <td>False</td>\n",
              "      <td>True</td>\n",
              "    </tr>\n",
              "    <tr>\n",
              "      <th>2</th>\n",
              "      <td>False</td>\n",
              "      <td>False</td>\n",
              "    </tr>\n",
              "    <tr>\n",
              "      <th>3</th>\n",
              "      <td>False</td>\n",
              "      <td>False</td>\n",
              "    </tr>\n",
              "  </tbody>\n",
              "</table>\n",
              "</div>"
            ],
            "text/plain": [
              "    edad  clics_por_hora\n",
              "0   True           False\n",
              "1  False            True\n",
              "2  False           False\n",
              "3  False           False"
            ]
          },
          "execution_count": 82,
          "metadata": {},
          "output_type": "execute_result"
        }
      ],
      "source": [
        "usuarios_df.isna()"
      ]
    },
    {
      "cell_type": "code",
      "execution_count": null,
      "metadata": {
        "id": "mUXNRgCTWga_"
      },
      "outputs": [],
      "source": [
        "u2 = usuarios_df.dropna()  # Puede borrarse toda fila que contenga un NaN o solamente en las columnas que especificamos"
      ]
    },
    {
      "cell_type": "code",
      "execution_count": null,
      "metadata": {
        "id": "yR8t08ycWgbA",
        "outputId": "873aa451-d980-441f-f0b5-7c567fc7db93"
      },
      "outputs": [
        {
          "data": {
            "text/html": [
              "<div>\n",
              "<style scoped>\n",
              "    .dataframe tbody tr th:only-of-type {\n",
              "        vertical-align: middle;\n",
              "    }\n",
              "\n",
              "    .dataframe tbody tr th {\n",
              "        vertical-align: top;\n",
              "    }\n",
              "\n",
              "    .dataframe thead th {\n",
              "        text-align: right;\n",
              "    }\n",
              "</style>\n",
              "<table border=\"1\" class=\"dataframe\">\n",
              "  <thead>\n",
              "    <tr style=\"text-align: right;\">\n",
              "      <th></th>\n",
              "      <th>edad</th>\n",
              "      <th>clics_por_hora</th>\n",
              "    </tr>\n",
              "  </thead>\n",
              "  <tbody>\n",
              "    <tr>\n",
              "      <th>2</th>\n",
              "      <td>41.0</td>\n",
              "      <td>210.0</td>\n",
              "    </tr>\n",
              "    <tr>\n",
              "      <th>3</th>\n",
              "      <td>20.0</td>\n",
              "      <td>210.0</td>\n",
              "    </tr>\n",
              "  </tbody>\n",
              "</table>\n",
              "</div>"
            ],
            "text/plain": [
              "   edad  clics_por_hora\n",
              "2  41.0           210.0\n",
              "3  20.0           210.0"
            ]
          },
          "execution_count": 84,
          "metadata": {},
          "output_type": "execute_result"
        }
      ],
      "source": [
        "u2"
      ]
    },
    {
      "cell_type": "code",
      "execution_count": null,
      "metadata": {
        "id": "Q89aZ0DvWgbA",
        "outputId": "0e31bc98-1bf6-4d90-f6fa-92f68a9e4745"
      },
      "outputs": [
        {
          "data": {
            "text/html": [
              "<div>\n",
              "<style scoped>\n",
              "    .dataframe tbody tr th:only-of-type {\n",
              "        vertical-align: middle;\n",
              "    }\n",
              "\n",
              "    .dataframe tbody tr th {\n",
              "        vertical-align: top;\n",
              "    }\n",
              "\n",
              "    .dataframe thead th {\n",
              "        text-align: right;\n",
              "    }\n",
              "</style>\n",
              "<table border=\"1\" class=\"dataframe\">\n",
              "  <thead>\n",
              "    <tr style=\"text-align: right;\">\n",
              "      <th></th>\n",
              "      <th>edad</th>\n",
              "      <th>clics_por_hora</th>\n",
              "    </tr>\n",
              "  </thead>\n",
              "  <tbody>\n",
              "    <tr>\n",
              "      <th>0</th>\n",
              "      <td>NaN</td>\n",
              "      <td>156.0</td>\n",
              "    </tr>\n",
              "    <tr>\n",
              "      <th>1</th>\n",
              "      <td>20.0</td>\n",
              "      <td>NaN</td>\n",
              "    </tr>\n",
              "    <tr>\n",
              "      <th>2</th>\n",
              "      <td>41.0</td>\n",
              "      <td>210.0</td>\n",
              "    </tr>\n",
              "    <tr>\n",
              "      <th>3</th>\n",
              "      <td>20.0</td>\n",
              "      <td>210.0</td>\n",
              "    </tr>\n",
              "  </tbody>\n",
              "</table>\n",
              "</div>"
            ],
            "text/plain": [
              "   edad  clics_por_hora\n",
              "0   NaN           156.0\n",
              "1  20.0             NaN\n",
              "2  41.0           210.0\n",
              "3  20.0           210.0"
            ]
          },
          "execution_count": 85,
          "metadata": {},
          "output_type": "execute_result"
        }
      ],
      "source": [
        "usuarios_df"
      ]
    },
    {
      "cell_type": "code",
      "execution_count": null,
      "metadata": {
        "id": "9XtfLT4AWgbA",
        "outputId": "d6adc2da-614a-46cc-acc4-dd3c7970ceb6"
      },
      "outputs": [
        {
          "data": {
            "text/html": [
              "<div>\n",
              "<style scoped>\n",
              "    .dataframe tbody tr th:only-of-type {\n",
              "        vertical-align: middle;\n",
              "    }\n",
              "\n",
              "    .dataframe tbody tr th {\n",
              "        vertical-align: top;\n",
              "    }\n",
              "\n",
              "    .dataframe thead th {\n",
              "        text-align: right;\n",
              "    }\n",
              "</style>\n",
              "<table border=\"1\" class=\"dataframe\">\n",
              "  <thead>\n",
              "    <tr style=\"text-align: right;\">\n",
              "      <th></th>\n",
              "      <th>edad</th>\n",
              "      <th>clics_por_hora</th>\n",
              "    </tr>\n",
              "  </thead>\n",
              "  <tbody>\n",
              "    <tr>\n",
              "      <th>1</th>\n",
              "      <td>20.0</td>\n",
              "      <td>NaN</td>\n",
              "    </tr>\n",
              "    <tr>\n",
              "      <th>2</th>\n",
              "      <td>41.0</td>\n",
              "      <td>210.0</td>\n",
              "    </tr>\n",
              "    <tr>\n",
              "      <th>3</th>\n",
              "      <td>20.0</td>\n",
              "      <td>210.0</td>\n",
              "    </tr>\n",
              "  </tbody>\n",
              "</table>\n",
              "</div>"
            ],
            "text/plain": [
              "   edad  clics_por_hora\n",
              "1  20.0             NaN\n",
              "2  41.0           210.0\n",
              "3  20.0           210.0"
            ]
          },
          "execution_count": 86,
          "metadata": {},
          "output_type": "execute_result"
        }
      ],
      "source": [
        "usuarios_df.dropna(subset=['edad'])"
      ]
    },
    {
      "cell_type": "code",
      "execution_count": null,
      "metadata": {
        "id": "rxgryg1vWgbB"
      },
      "outputs": [],
      "source": [
        "copia_df = usuarios_df"
      ]
    },
    {
      "cell_type": "code",
      "execution_count": null,
      "metadata": {
        "id": "IcMdAF5dWgbB",
        "outputId": "278bf819-2fdf-43c9-c6ec-45e653c80158"
      },
      "outputs": [
        {
          "data": {
            "text/html": [
              "<div>\n",
              "<style scoped>\n",
              "    .dataframe tbody tr th:only-of-type {\n",
              "        vertical-align: middle;\n",
              "    }\n",
              "\n",
              "    .dataframe tbody tr th {\n",
              "        vertical-align: top;\n",
              "    }\n",
              "\n",
              "    .dataframe thead th {\n",
              "        text-align: right;\n",
              "    }\n",
              "</style>\n",
              "<table border=\"1\" class=\"dataframe\">\n",
              "  <thead>\n",
              "    <tr style=\"text-align: right;\">\n",
              "      <th></th>\n",
              "      <th>edad</th>\n",
              "      <th>clics_por_hora</th>\n",
              "    </tr>\n",
              "  </thead>\n",
              "  <tbody>\n",
              "    <tr>\n",
              "      <th>0</th>\n",
              "      <td>NaN</td>\n",
              "      <td>156.0</td>\n",
              "    </tr>\n",
              "    <tr>\n",
              "      <th>1</th>\n",
              "      <td>20.0</td>\n",
              "      <td>NaN</td>\n",
              "    </tr>\n",
              "    <tr>\n",
              "      <th>2</th>\n",
              "      <td>41.0</td>\n",
              "      <td>210.0</td>\n",
              "    </tr>\n",
              "    <tr>\n",
              "      <th>3</th>\n",
              "      <td>20.0</td>\n",
              "      <td>210.0</td>\n",
              "    </tr>\n",
              "  </tbody>\n",
              "</table>\n",
              "</div>"
            ],
            "text/plain": [
              "   edad  clics_por_hora\n",
              "0   NaN           156.0\n",
              "1  20.0             NaN\n",
              "2  41.0           210.0\n",
              "3  20.0           210.0"
            ]
          },
          "execution_count": 88,
          "metadata": {},
          "output_type": "execute_result"
        }
      ],
      "source": [
        "usuarios_df"
      ]
    },
    {
      "cell_type": "markdown",
      "metadata": {
        "id": "RaZJEiwpWgbC"
      },
      "source": [
        "### Completando valores "
      ]
    },
    {
      "cell_type": "code",
      "execution_count": null,
      "metadata": {
        "id": "7oT2jkyWWgbC",
        "outputId": "1f65cb0f-04ca-49c0-d4d2-7256b9e2040e"
      },
      "outputs": [
        {
          "data": {
            "text/html": [
              "<div>\n",
              "<style scoped>\n",
              "    .dataframe tbody tr th:only-of-type {\n",
              "        vertical-align: middle;\n",
              "    }\n",
              "\n",
              "    .dataframe tbody tr th {\n",
              "        vertical-align: top;\n",
              "    }\n",
              "\n",
              "    .dataframe thead th {\n",
              "        text-align: right;\n",
              "    }\n",
              "</style>\n",
              "<table border=\"1\" class=\"dataframe\">\n",
              "  <thead>\n",
              "    <tr style=\"text-align: right;\">\n",
              "      <th></th>\n",
              "      <th>edad</th>\n",
              "      <th>clics_por_hora</th>\n",
              "      <th>genero</th>\n",
              "    </tr>\n",
              "  </thead>\n",
              "  <tbody>\n",
              "    <tr>\n",
              "      <th>0</th>\n",
              "      <td>NaN</td>\n",
              "      <td>156.0</td>\n",
              "      <td>m</td>\n",
              "    </tr>\n",
              "    <tr>\n",
              "      <th>1</th>\n",
              "      <td>20.0</td>\n",
              "      <td>NaN</td>\n",
              "      <td>f</td>\n",
              "    </tr>\n",
              "    <tr>\n",
              "      <th>2</th>\n",
              "      <td>41.0</td>\n",
              "      <td>210.0</td>\n",
              "      <td>f</td>\n",
              "    </tr>\n",
              "    <tr>\n",
              "      <th>3</th>\n",
              "      <td>20.0</td>\n",
              "      <td>210.0</td>\n",
              "      <td>f</td>\n",
              "    </tr>\n",
              "    <tr>\n",
              "      <th>4</th>\n",
              "      <td>22.0</td>\n",
              "      <td>100.0</td>\n",
              "      <td>m</td>\n",
              "    </tr>\n",
              "    <tr>\n",
              "      <th>5</th>\n",
              "      <td>25.0</td>\n",
              "      <td>NaN</td>\n",
              "      <td>f</td>\n",
              "    </tr>\n",
              "  </tbody>\n",
              "</table>\n",
              "</div>"
            ],
            "text/plain": [
              "   edad  clics_por_hora genero\n",
              "0   NaN           156.0      m\n",
              "1  20.0             NaN      f\n",
              "2  41.0           210.0      f\n",
              "3  20.0           210.0      f\n",
              "4  22.0           100.0      m\n",
              "5  25.0             NaN      f"
            ]
          },
          "execution_count": 89,
          "metadata": {},
          "output_type": "execute_result"
        }
      ],
      "source": [
        "usuarios_df = pd.DataFrame({'edad': [np.nan, 20, 41, 20, 22, 25],\n",
        "                            'clics_por_hora': [156, np.nan, 210, 210, 100, np.nan],\n",
        "                            'genero': ['m','f','f','f','m','f']})\n",
        "usuarios_df"
      ]
    },
    {
      "cell_type": "code",
      "execution_count": null,
      "metadata": {
        "id": "YrQ_ZsQRWgbD"
      },
      "outputs": [],
      "source": [
        "usuarios_df_m = usuarios_df[usuarios_df['genero'] == 'm']"
      ]
    },
    {
      "cell_type": "code",
      "execution_count": null,
      "metadata": {
        "id": "K_lgdUh1WgbD"
      },
      "outputs": [],
      "source": [
        "usuarios_df_f = usuarios_df[usuarios_df['genero'] == 'f']"
      ]
    },
    {
      "cell_type": "code",
      "execution_count": null,
      "metadata": {
        "id": "UAX-mVGmWgbD",
        "outputId": "8d589529-d14f-4a5d-96ce-fb7edf13f19b"
      },
      "outputs": [
        {
          "data": {
            "text/plain": [
              "1    20.0\n",
              "2    41.0\n",
              "3    20.0\n",
              "5    25.0\n",
              "Name: edad, dtype: float64"
            ]
          },
          "execution_count": 92,
          "metadata": {},
          "output_type": "execute_result"
        }
      ],
      "source": [
        "usuarios_df_f['edad'].fillna(usuarios_df_f.edad.mean())"
      ]
    },
    {
      "cell_type": "code",
      "execution_count": null,
      "metadata": {
        "id": "DUBITO7iWgbE",
        "outputId": "b5d30026-ff63-4137-c4a1-6f1b8aefa1ce"
      },
      "outputs": [
        {
          "data": {
            "text/plain": [
              "0    22.0\n",
              "4    22.0\n",
              "Name: edad, dtype: float64"
            ]
          },
          "execution_count": 93,
          "metadata": {},
          "output_type": "execute_result"
        }
      ],
      "source": [
        "usuarios_df_m['edad'].fillna(usuarios_df_m.edad.mean())"
      ]
    },
    {
      "cell_type": "code",
      "execution_count": null,
      "metadata": {
        "id": "CNAlRFyKWgbE",
        "outputId": "3f1dbd9e-27c5-44ba-c1b8-a18d81a1dbf7"
      },
      "outputs": [
        {
          "data": {
            "text/plain": [
              "0    25.6\n",
              "1    20.0\n",
              "2    41.0\n",
              "3    20.0\n",
              "Name: edad, dtype: float64"
            ]
          },
          "execution_count": 94,
          "metadata": {},
          "output_type": "execute_result"
        }
      ],
      "source": [
        "copia_df['edad'].fillna(usuarios_df.edad.mean())"
      ]
    },
    {
      "cell_type": "code",
      "execution_count": null,
      "metadata": {
        "id": "X3iny_PVWgbE",
        "outputId": "b5fbb321-69cc-4fa7-bb29-080c71edfa77"
      },
      "outputs": [
        {
          "data": {
            "text/plain": [
              "0    27.0\n",
              "1    20.0\n",
              "2    41.0\n",
              "3    20.0\n",
              "Name: edad, dtype: float64"
            ]
          },
          "execution_count": 150,
          "metadata": {},
          "output_type": "execute_result"
        }
      ],
      "source": [
        "copia_df['edad'].fillna(usuarios_df.edad.mean())"
      ]
    },
    {
      "cell_type": "code",
      "execution_count": null,
      "metadata": {
        "id": "kUV4r4tzWgbF",
        "outputId": "452f63ff-3029-42fd-c8cb-de40d9f8d358"
      },
      "outputs": [
        {
          "data": {
            "text/html": [
              "<div>\n",
              "<style scoped>\n",
              "    .dataframe tbody tr th:only-of-type {\n",
              "        vertical-align: middle;\n",
              "    }\n",
              "\n",
              "    .dataframe tbody tr th {\n",
              "        vertical-align: top;\n",
              "    }\n",
              "\n",
              "    .dataframe thead th {\n",
              "        text-align: right;\n",
              "    }\n",
              "</style>\n",
              "<table border=\"1\" class=\"dataframe\">\n",
              "  <thead>\n",
              "    <tr style=\"text-align: right;\">\n",
              "      <th></th>\n",
              "      <th>edad</th>\n",
              "      <th>clics_por_hora</th>\n",
              "    </tr>\n",
              "  </thead>\n",
              "  <tbody>\n",
              "    <tr>\n",
              "      <th>0</th>\n",
              "      <td>0.0</td>\n",
              "      <td>156.0</td>\n",
              "    </tr>\n",
              "    <tr>\n",
              "      <th>1</th>\n",
              "      <td>20.0</td>\n",
              "      <td>0.0</td>\n",
              "    </tr>\n",
              "    <tr>\n",
              "      <th>2</th>\n",
              "      <td>41.0</td>\n",
              "      <td>210.0</td>\n",
              "    </tr>\n",
              "    <tr>\n",
              "      <th>3</th>\n",
              "      <td>20.0</td>\n",
              "      <td>210.0</td>\n",
              "    </tr>\n",
              "  </tbody>\n",
              "</table>\n",
              "</div>"
            ],
            "text/plain": [
              "   edad  clics_por_hora\n",
              "0   0.0           156.0\n",
              "1  20.0             0.0\n",
              "2  41.0           210.0\n",
              "3  20.0           210.0"
            ]
          },
          "execution_count": 96,
          "metadata": {},
          "output_type": "execute_result"
        }
      ],
      "source": [
        "copia_df.fillna(0)"
      ]
    },
    {
      "cell_type": "code",
      "execution_count": null,
      "metadata": {
        "id": "bNocXkrlWgbF",
        "outputId": "fdf022ae-42e3-441f-ecb2-dabe983a9322"
      },
      "outputs": [
        {
          "data": {
            "text/html": [
              "<div>\n",
              "<style scoped>\n",
              "    .dataframe tbody tr th:only-of-type {\n",
              "        vertical-align: middle;\n",
              "    }\n",
              "\n",
              "    .dataframe tbody tr th {\n",
              "        vertical-align: top;\n",
              "    }\n",
              "\n",
              "    .dataframe thead th {\n",
              "        text-align: right;\n",
              "    }\n",
              "</style>\n",
              "<table border=\"1\" class=\"dataframe\">\n",
              "  <thead>\n",
              "    <tr style=\"text-align: right;\">\n",
              "      <th></th>\n",
              "      <th>edad</th>\n",
              "      <th>clics_por_hora</th>\n",
              "    </tr>\n",
              "  </thead>\n",
              "  <tbody>\n",
              "    <tr>\n",
              "      <th>0</th>\n",
              "      <td>NaN</td>\n",
              "      <td>156.0</td>\n",
              "    </tr>\n",
              "    <tr>\n",
              "      <th>1</th>\n",
              "      <td>20.0</td>\n",
              "      <td>NaN</td>\n",
              "    </tr>\n",
              "    <tr>\n",
              "      <th>2</th>\n",
              "      <td>41.0</td>\n",
              "      <td>210.0</td>\n",
              "    </tr>\n",
              "    <tr>\n",
              "      <th>3</th>\n",
              "      <td>20.0</td>\n",
              "      <td>210.0</td>\n",
              "    </tr>\n",
              "  </tbody>\n",
              "</table>\n",
              "</div>"
            ],
            "text/plain": [
              "   edad  clics_por_hora\n",
              "0   NaN           156.0\n",
              "1  20.0             NaN\n",
              "2  41.0           210.0\n",
              "3  20.0           210.0"
            ]
          },
          "execution_count": 97,
          "metadata": {},
          "output_type": "execute_result"
        }
      ],
      "source": [
        "copia_df"
      ]
    },
    {
      "cell_type": "code",
      "execution_count": null,
      "metadata": {
        "id": "E6n75sKaWgbG"
      },
      "outputs": [],
      "source": [
        "copia_df1 = copia_df.fillna(usuarios_df.edad.mean()) # Podemos elegir con qué completar los valores faltantes., inplace=True"
      ]
    },
    {
      "cell_type": "code",
      "execution_count": null,
      "metadata": {
        "id": "RI9y83FEWgbG",
        "outputId": "fef7a9a0-d2d4-4fec-d2fd-9a92a2906608"
      },
      "outputs": [
        {
          "data": {
            "text/html": [
              "<div>\n",
              "<style scoped>\n",
              "    .dataframe tbody tr th:only-of-type {\n",
              "        vertical-align: middle;\n",
              "    }\n",
              "\n",
              "    .dataframe tbody tr th {\n",
              "        vertical-align: top;\n",
              "    }\n",
              "\n",
              "    .dataframe thead th {\n",
              "        text-align: right;\n",
              "    }\n",
              "</style>\n",
              "<table border=\"1\" class=\"dataframe\">\n",
              "  <thead>\n",
              "    <tr style=\"text-align: right;\">\n",
              "      <th></th>\n",
              "      <th>edad</th>\n",
              "      <th>clics_por_hora</th>\n",
              "    </tr>\n",
              "  </thead>\n",
              "  <tbody>\n",
              "    <tr>\n",
              "      <th>0</th>\n",
              "      <td>25.6</td>\n",
              "      <td>156.0</td>\n",
              "    </tr>\n",
              "    <tr>\n",
              "      <th>1</th>\n",
              "      <td>20.0</td>\n",
              "      <td>25.6</td>\n",
              "    </tr>\n",
              "    <tr>\n",
              "      <th>2</th>\n",
              "      <td>41.0</td>\n",
              "      <td>210.0</td>\n",
              "    </tr>\n",
              "    <tr>\n",
              "      <th>3</th>\n",
              "      <td>20.0</td>\n",
              "      <td>210.0</td>\n",
              "    </tr>\n",
              "  </tbody>\n",
              "</table>\n",
              "</div>"
            ],
            "text/plain": [
              "   edad  clics_por_hora\n",
              "0  25.6           156.0\n",
              "1  20.0            25.6\n",
              "2  41.0           210.0\n",
              "3  20.0           210.0"
            ]
          },
          "execution_count": 101,
          "metadata": {},
          "output_type": "execute_result"
        }
      ],
      "source": [
        "copia_df1"
      ]
    },
    {
      "cell_type": "code",
      "execution_count": null,
      "metadata": {
        "id": "BobgRgnXWgbH"
      },
      "outputs": [],
      "source": [
        "copia_df.fillna(usuarios_df.edad.mean(), inplace=True) # Podemos elegir con qué completar los valores faltantes."
      ]
    },
    {
      "cell_type": "code",
      "execution_count": null,
      "metadata": {
        "id": "qL3hEr-6WgbH",
        "outputId": "98a9f827-3288-4028-a95b-be72dc578765"
      },
      "outputs": [
        {
          "data": {
            "text/html": [
              "<div>\n",
              "<style scoped>\n",
              "    .dataframe tbody tr th:only-of-type {\n",
              "        vertical-align: middle;\n",
              "    }\n",
              "\n",
              "    .dataframe tbody tr th {\n",
              "        vertical-align: top;\n",
              "    }\n",
              "\n",
              "    .dataframe thead th {\n",
              "        text-align: right;\n",
              "    }\n",
              "</style>\n",
              "<table border=\"1\" class=\"dataframe\">\n",
              "  <thead>\n",
              "    <tr style=\"text-align: right;\">\n",
              "      <th></th>\n",
              "      <th>edad</th>\n",
              "      <th>clics_por_hora</th>\n",
              "    </tr>\n",
              "  </thead>\n",
              "  <tbody>\n",
              "    <tr>\n",
              "      <th>0</th>\n",
              "      <td>25.6</td>\n",
              "      <td>156.0</td>\n",
              "    </tr>\n",
              "    <tr>\n",
              "      <th>1</th>\n",
              "      <td>20.0</td>\n",
              "      <td>25.6</td>\n",
              "    </tr>\n",
              "    <tr>\n",
              "      <th>2</th>\n",
              "      <td>41.0</td>\n",
              "      <td>210.0</td>\n",
              "    </tr>\n",
              "    <tr>\n",
              "      <th>3</th>\n",
              "      <td>20.0</td>\n",
              "      <td>210.0</td>\n",
              "    </tr>\n",
              "  </tbody>\n",
              "</table>\n",
              "</div>"
            ],
            "text/plain": [
              "   edad  clics_por_hora\n",
              "0  25.6           156.0\n",
              "1  20.0            25.6\n",
              "2  41.0           210.0\n",
              "3  20.0           210.0"
            ]
          },
          "execution_count": 103,
          "metadata": {},
          "output_type": "execute_result"
        }
      ],
      "source": [
        "copia_df"
      ]
    },
    {
      "cell_type": "markdown",
      "metadata": {
        "id": "RxCh4523WgbI"
      },
      "source": [
        "### Borrando duplicados"
      ]
    },
    {
      "cell_type": "code",
      "execution_count": null,
      "metadata": {
        "id": "EX0mwLMFWgbI",
        "outputId": "f0d2c4d2-5957-42f8-ece7-07e35b9e40f2"
      },
      "outputs": [
        {
          "data": {
            "text/html": [
              "<div>\n",
              "<style scoped>\n",
              "    .dataframe tbody tr th:only-of-type {\n",
              "        vertical-align: middle;\n",
              "    }\n",
              "\n",
              "    .dataframe tbody tr th {\n",
              "        vertical-align: top;\n",
              "    }\n",
              "\n",
              "    .dataframe thead th {\n",
              "        text-align: right;\n",
              "    }\n",
              "</style>\n",
              "<table border=\"1\" class=\"dataframe\">\n",
              "  <thead>\n",
              "    <tr style=\"text-align: right;\">\n",
              "      <th></th>\n",
              "      <th>edad</th>\n",
              "      <th>clics_por_hora</th>\n",
              "      <th>genero</th>\n",
              "    </tr>\n",
              "  </thead>\n",
              "  <tbody>\n",
              "    <tr>\n",
              "      <th>0</th>\n",
              "      <td>NaN</td>\n",
              "      <td>156.0</td>\n",
              "      <td>m</td>\n",
              "    </tr>\n",
              "    <tr>\n",
              "      <th>1</th>\n",
              "      <td>20.0</td>\n",
              "      <td>NaN</td>\n",
              "      <td>f</td>\n",
              "    </tr>\n",
              "    <tr>\n",
              "      <th>2</th>\n",
              "      <td>41.0</td>\n",
              "      <td>210.0</td>\n",
              "      <td>f</td>\n",
              "    </tr>\n",
              "    <tr>\n",
              "      <th>3</th>\n",
              "      <td>20.0</td>\n",
              "      <td>210.0</td>\n",
              "      <td>f</td>\n",
              "    </tr>\n",
              "    <tr>\n",
              "      <th>4</th>\n",
              "      <td>20.0</td>\n",
              "      <td>100.0</td>\n",
              "      <td>m</td>\n",
              "    </tr>\n",
              "    <tr>\n",
              "      <th>5</th>\n",
              "      <td>41.0</td>\n",
              "      <td>NaN</td>\n",
              "      <td>f</td>\n",
              "    </tr>\n",
              "  </tbody>\n",
              "</table>\n",
              "</div>"
            ],
            "text/plain": [
              "   edad  clics_por_hora genero\n",
              "0   NaN           156.0      m\n",
              "1  20.0             NaN      f\n",
              "2  41.0           210.0      f\n",
              "3  20.0           210.0      f\n",
              "4  20.0           100.0      m\n",
              "5  41.0             NaN      f"
            ]
          },
          "execution_count": 104,
          "metadata": {},
          "output_type": "execute_result"
        }
      ],
      "source": [
        "usuarios_df = pd.DataFrame({'edad': [np.nan, 20, 41, 20, 20, 41],\n",
        "                            'clics_por_hora': [156, np.nan, 210, 210, 100, np.nan],\n",
        "                            'genero': ['m','f','f','f','m','f']})\n",
        "usuarios_df"
      ]
    },
    {
      "cell_type": "code",
      "execution_count": null,
      "metadata": {
        "id": "QUVI0-N8WgbI"
      },
      "outputs": [],
      "source": [
        "usuarios_df.drop_duplicates(subset=['clics_por_hora'], keep='last', inplace=True) # Se puede jugar con el first, last, etc. Y también elegir en qué columnas"
      ]
    },
    {
      "cell_type": "code",
      "execution_count": null,
      "metadata": {
        "id": "9ZFtb8d_WgbJ",
        "outputId": "248bfdb6-6e76-4ceb-cb07-53b62b5e001e"
      },
      "outputs": [
        {
          "data": {
            "text/html": [
              "<div>\n",
              "<style scoped>\n",
              "    .dataframe tbody tr th:only-of-type {\n",
              "        vertical-align: middle;\n",
              "    }\n",
              "\n",
              "    .dataframe tbody tr th {\n",
              "        vertical-align: top;\n",
              "    }\n",
              "\n",
              "    .dataframe thead th {\n",
              "        text-align: right;\n",
              "    }\n",
              "</style>\n",
              "<table border=\"1\" class=\"dataframe\">\n",
              "  <thead>\n",
              "    <tr style=\"text-align: right;\">\n",
              "      <th></th>\n",
              "      <th>edad</th>\n",
              "      <th>clics_por_hora</th>\n",
              "      <th>genero</th>\n",
              "    </tr>\n",
              "  </thead>\n",
              "  <tbody>\n",
              "    <tr>\n",
              "      <th>0</th>\n",
              "      <td>NaN</td>\n",
              "      <td>156.0</td>\n",
              "      <td>m</td>\n",
              "    </tr>\n",
              "    <tr>\n",
              "      <th>3</th>\n",
              "      <td>20.0</td>\n",
              "      <td>210.0</td>\n",
              "      <td>f</td>\n",
              "    </tr>\n",
              "    <tr>\n",
              "      <th>4</th>\n",
              "      <td>20.0</td>\n",
              "      <td>100.0</td>\n",
              "      <td>m</td>\n",
              "    </tr>\n",
              "    <tr>\n",
              "      <th>5</th>\n",
              "      <td>41.0</td>\n",
              "      <td>NaN</td>\n",
              "      <td>f</td>\n",
              "    </tr>\n",
              "  </tbody>\n",
              "</table>\n",
              "</div>"
            ],
            "text/plain": [
              "   edad  clics_por_hora genero\n",
              "0   NaN           156.0      m\n",
              "3  20.0           210.0      f\n",
              "4  20.0           100.0      m\n",
              "5  41.0             NaN      f"
            ]
          },
          "execution_count": 116,
          "metadata": {},
          "output_type": "execute_result"
        }
      ],
      "source": [
        "usuarios_df"
      ]
    },
    {
      "cell_type": "code",
      "execution_count": null,
      "metadata": {
        "id": "_i5k37ZuWgbJ",
        "outputId": "9347e4fa-d510-4be3-873a-331d206c15c0"
      },
      "outputs": [
        {
          "data": {
            "text/html": [
              "<div>\n",
              "<style scoped>\n",
              "    .dataframe tbody tr th:only-of-type {\n",
              "        vertical-align: middle;\n",
              "    }\n",
              "\n",
              "    .dataframe tbody tr th {\n",
              "        vertical-align: top;\n",
              "    }\n",
              "\n",
              "    .dataframe thead th {\n",
              "        text-align: right;\n",
              "    }\n",
              "</style>\n",
              "<table border=\"1\" class=\"dataframe\">\n",
              "  <thead>\n",
              "    <tr style=\"text-align: right;\">\n",
              "      <th></th>\n",
              "      <th>edad</th>\n",
              "      <th>clics_por_hora</th>\n",
              "      <th>genero</th>\n",
              "    </tr>\n",
              "  </thead>\n",
              "  <tbody>\n",
              "    <tr>\n",
              "      <th>0</th>\n",
              "      <td>NaN</td>\n",
              "      <td>156.0</td>\n",
              "      <td>m</td>\n",
              "    </tr>\n",
              "    <tr>\n",
              "      <th>1</th>\n",
              "      <td>20.0</td>\n",
              "      <td>NaN</td>\n",
              "      <td>f</td>\n",
              "    </tr>\n",
              "  </tbody>\n",
              "</table>\n",
              "</div>"
            ],
            "text/plain": [
              "   edad  clics_por_hora genero\n",
              "0   NaN           156.0      m\n",
              "1  20.0             NaN      f"
            ]
          },
          "execution_count": 110,
          "metadata": {},
          "output_type": "execute_result"
        }
      ],
      "source": [
        "usuarios_df.drop_duplicates(subset=['genero']) # Se puede jugar con el first, last, etc. Y también elegir en qué columnas"
      ]
    },
    {
      "cell_type": "code",
      "execution_count": null,
      "metadata": {
        "id": "8RIpmbhoWgbJ",
        "outputId": "b774744c-32cc-44ab-a986-e886752ca78f"
      },
      "outputs": [
        {
          "data": {
            "text/html": [
              "<div>\n",
              "<style scoped>\n",
              "    .dataframe tbody tr th:only-of-type {\n",
              "        vertical-align: middle;\n",
              "    }\n",
              "\n",
              "    .dataframe tbody tr th {\n",
              "        vertical-align: top;\n",
              "    }\n",
              "\n",
              "    .dataframe thead th {\n",
              "        text-align: right;\n",
              "    }\n",
              "</style>\n",
              "<table border=\"1\" class=\"dataframe\">\n",
              "  <thead>\n",
              "    <tr style=\"text-align: right;\">\n",
              "      <th></th>\n",
              "      <th>campo1</th>\n",
              "      <th>campo2</th>\n",
              "    </tr>\n",
              "  </thead>\n",
              "  <tbody>\n",
              "    <tr>\n",
              "      <th>0</th>\n",
              "      <td>NaN</td>\n",
              "      <td>156.0</td>\n",
              "    </tr>\n",
              "    <tr>\n",
              "      <th>1</th>\n",
              "      <td>20.0</td>\n",
              "      <td>NaN</td>\n",
              "    </tr>\n",
              "    <tr>\n",
              "      <th>2</th>\n",
              "      <td>41.0</td>\n",
              "      <td>210.0</td>\n",
              "    </tr>\n",
              "    <tr>\n",
              "      <th>3</th>\n",
              "      <td>20.0</td>\n",
              "      <td>210.0</td>\n",
              "    </tr>\n",
              "  </tbody>\n",
              "</table>\n",
              "</div>"
            ],
            "text/plain": [
              "   campo1  campo2\n",
              "0     NaN   156.0\n",
              "1    20.0     NaN\n",
              "2    41.0   210.0\n",
              "3    20.0   210.0"
            ]
          },
          "execution_count": 111,
          "metadata": {},
          "output_type": "execute_result"
        }
      ],
      "source": [
        "import pandas as pd\n",
        "ejemplo = pd.DataFrame({'campo1': [None, 20, 41, 20], 'campo2': [156, None, 210, 210]})\n",
        "ejemplo"
      ]
    },
    {
      "cell_type": "code",
      "execution_count": null,
      "metadata": {
        "id": "evVRTEW9WgbK",
        "outputId": "8ba2e575-26bf-4d78-e620-49948efdbfd3"
      },
      "outputs": [
        {
          "data": {
            "text/html": [
              "<div>\n",
              "<style scoped>\n",
              "    .dataframe tbody tr th:only-of-type {\n",
              "        vertical-align: middle;\n",
              "    }\n",
              "\n",
              "    .dataframe tbody tr th {\n",
              "        vertical-align: top;\n",
              "    }\n",
              "\n",
              "    .dataframe thead th {\n",
              "        text-align: right;\n",
              "    }\n",
              "</style>\n",
              "<table border=\"1\" class=\"dataframe\">\n",
              "  <thead>\n",
              "    <tr style=\"text-align: right;\">\n",
              "      <th></th>\n",
              "      <th>campo1</th>\n",
              "      <th>campo2</th>\n",
              "    </tr>\n",
              "  </thead>\n",
              "  <tbody>\n",
              "    <tr>\n",
              "      <th>0</th>\n",
              "      <td>192.0</td>\n",
              "      <td>156.0</td>\n",
              "    </tr>\n",
              "    <tr>\n",
              "      <th>1</th>\n",
              "      <td>20.0</td>\n",
              "      <td>192.0</td>\n",
              "    </tr>\n",
              "    <tr>\n",
              "      <th>2</th>\n",
              "      <td>41.0</td>\n",
              "      <td>210.0</td>\n",
              "    </tr>\n",
              "    <tr>\n",
              "      <th>3</th>\n",
              "      <td>20.0</td>\n",
              "      <td>210.0</td>\n",
              "    </tr>\n",
              "  </tbody>\n",
              "</table>\n",
              "</div>"
            ],
            "text/plain": [
              "   campo1  campo2\n",
              "0   192.0   156.0\n",
              "1    20.0   192.0\n",
              "2    41.0   210.0\n",
              "3    20.0   210.0"
            ]
          },
          "execution_count": 119,
          "metadata": {},
          "output_type": "execute_result"
        }
      ],
      "source": [
        "ejemplo.fillna(ejemplo.campo2.mean(), inplace=True)\n",
        "ejemplo.fillna(ejemplo.campo1.mode()) #, inplace=True)\n",
        "ejemplo"
      ]
    },
    {
      "cell_type": "code",
      "execution_count": null,
      "metadata": {
        "id": "6ovp6iAQWgbK"
      },
      "outputs": [],
      "source": []
    }
  ],
  "metadata": {
    "kernelspec": {
      "display_name": "Python 3 (ipykernel)",
      "language": "python",
      "name": "python3"
    },
    "language_info": {
      "codemirror_mode": {
        "name": "ipython",
        "version": 3
      },
      "file_extension": ".py",
      "mimetype": "text/x-python",
      "name": "python",
      "nbconvert_exporter": "python",
      "pygments_lexer": "ipython3",
      "version": "3.9.7"
    },
    "toc": {
      "base_numbering": 1,
      "nav_menu": {},
      "number_sections": false,
      "sideBar": false,
      "skip_h1_title": false,
      "title_cell": "Table of Contents",
      "title_sidebar": "Contents",
      "toc_cell": false,
      "toc_position": {},
      "toc_section_display": false,
      "toc_window_display": false
    },
    "colab": {
      "provenance": [],
      "include_colab_link": true
    }
  },
  "nbformat": 4,
  "nbformat_minor": 0
}