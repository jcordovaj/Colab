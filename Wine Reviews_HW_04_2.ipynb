{
  "cells": [
    {
      "cell_type": "markdown",
      "metadata": {
        "id": "view-in-github",
        "colab_type": "text"
      },
      "source": [
        "<a href=\"https://colab.research.google.com/github/jcordovaj/ColabEjercicios/blob/main/Wine%20Reviews_HW_04_2.ipynb\" target=\"_parent\"><img src=\"https://colab.research.google.com/assets/colab-badge.svg\" alt=\"Open In Colab\"/></a>"
      ]
    },
    {
      "cell_type": "markdown",
      "metadata": {
        "id": "KPpN51lwnJ5p"
      },
      "source": [
        "# Pandas y Valores Faltandes\n",
        "\n",
        "\n"
      ]
    },
    {
      "cell_type": "markdown",
      "metadata": {
        "id": "L2WPDSOCnJ5w"
      },
      "source": [
        "## Wine Reviews dataset\n",
        "\n",
        "Vamos a trabajar con el siguiente dataset, que corresponde a reviews de vinos:\n",
        "\n",
        "https://www.kaggle.com/zynicide/wine-reviews/downloads/wine-reviews.zip/4\n",
        "\n",
        "POor favor leer su descripción y, cuando tengan tiempo, mirar algunos de los \"kernels\" que pueden encontrar en Kaggle.\n",
        "\n",
        "1. Abrir el dataset e imprimir sus primeras instancias."
      ]
    },
    {
      "cell_type": "code",
      "source": [
        "from google.colab import drive\n",
        "drive.mount('/content/drive')"
      ],
      "metadata": {
        "colab": {
          "base_uri": "https://localhost:8080/"
        },
        "id": "w434kRQmlzSR",
        "outputId": "7902bae7-7c57-4132-e115-43ab8f1392d2"
      },
      "execution_count": null,
      "outputs": [
        {
          "output_type": "stream",
          "name": "stdout",
          "text": [
            "Mounted at /content/drive\n"
          ]
        }
      ]
    },
    {
      "cell_type": "code",
      "execution_count": null,
      "metadata": {
        "colab": {
          "base_uri": "https://localhost:8080/"
        },
        "id": "mhag5np8nJ5x",
        "outputId": "a49126dd-dd66-4af1-e5a4-8835c3971bf9"
      },
      "outputs": [
        {
          "output_type": "stream",
          "name": "stdout",
          "text": [
            "Mounted at /content/drive\n"
          ]
        }
      ],
      "source": [
        "import pandas as pd\n",
        "import matplotlib.pyplot as plt\n",
        "from google.colab import drive\n",
        "drive.mount('/content/drive')\n"
      ]
    },
    {
      "cell_type": "code",
      "execution_count": null,
      "metadata": {
        "colab": {
          "base_uri": "https://localhost:8080/",
          "height": 130
        },
        "id": "QTnnc9LEnJ51",
        "outputId": "d988bf7d-3d4c-4669-929f-638c50e0a0b9"
      },
      "outputs": [
        {
          "output_type": "error",
          "ename": "SyntaxError",
          "evalue": "ignored",
          "traceback": [
            "\u001b[0;36m  File \u001b[0;32m\"<ipython-input-4-efe74677a607>\"\u001b[0;36m, line \u001b[0;32m1\u001b[0m\n\u001b[0;31m    url= (https://drive.google.com/file/d/1NSNv_Y5nC_InV7v8QXKbTXm7kHPCb2_q/view?usp=share_link)\u001b[0m\n\u001b[0m               ^\u001b[0m\n\u001b[0;31mSyntaxError\u001b[0m\u001b[0;31m:\u001b[0m invalid syntax\n"
          ]
        }
      ],
      "source": [
        "url= (https://drive.google.com/file/d/1NSNv_Y5nC_InV7v8QXKbTXm7kHPCb2_q/view?usp=share_link)\n",
        "wine_reviews = pd.read_csv(url)\n",
        "wine_reviews.head()"
      ]
    },
    {
      "cell_type": "markdown",
      "metadata": {
        "id": "7AlP_g9mnJ53"
      },
      "source": [
        "2. ¿Cuántas columnas (features) tiene?¿Cuáles son sus nombres?¿Y cuántas filas (instancias)? Luego, descartar la columna `'Unnamed: 0'`."
      ]
    },
    {
      "cell_type": "code",
      "execution_count": null,
      "metadata": {
        "id": "zvRUMl_nnJ54"
      },
      "outputs": [],
      "source": [
        "#print(wine_reviews.shape)\n",
        "# print(wine_reviews.columns)\n",
        "wine_reviews.drop(columns=['Unnamed: 0'], inplace = True)"
      ]
    },
    {
      "cell_type": "markdown",
      "metadata": {
        "id": "fkH_jnLwnJ55"
      },
      "source": [
        "3. ¿Cuántos valores faltantes hay en cada columna?"
      ]
    },
    {
      "cell_type": "code",
      "execution_count": null,
      "metadata": {
        "id": "COJJe9ConJ56",
        "outputId": "e2049671-9e97-4228-d0ef-0d1d7b629895"
      },
      "outputs": [
        {
          "name": "stdout",
          "output_type": "stream",
          "text": [
            "<class 'pandas.core.frame.DataFrame'>\n",
            "RangeIndex: 129971 entries, 0 to 129970\n",
            "Data columns (total 13 columns):\n",
            " #   Column                 Non-Null Count   Dtype  \n",
            "---  ------                 --------------   -----  \n",
            " 0   country                129908 non-null  object \n",
            " 1   description            129971 non-null  object \n",
            " 2   designation            92506 non-null   object \n",
            " 3   points                 129971 non-null  int64  \n",
            " 4   price                  120975 non-null  float64\n",
            " 5   province               129908 non-null  object \n",
            " 6   region_1               108724 non-null  object \n",
            " 7   region_2               50511 non-null   object \n",
            " 8   taster_name            103727 non-null  object \n",
            " 9   taster_twitter_handle  98758 non-null   object \n",
            " 10  title                  129971 non-null  object \n",
            " 11  variety                129970 non-null  object \n",
            " 12  winery                 129971 non-null  object \n",
            "dtypes: float64(1), int64(1), object(11)\n",
            "memory usage: 12.9+ MB\n"
          ]
        }
      ],
      "source": [
        "wine_reviews.info()"
      ]
    },
    {
      "cell_type": "code",
      "execution_count": null,
      "metadata": {
        "colab": {
          "base_uri": "https://localhost:8080/"
        },
        "id": "qagIuDNOnJ58",
        "outputId": "d31c8acc-052f-4786-c010-2aa9434e74f8"
      },
      "outputs": [
        {
          "output_type": "stream",
          "name": "stdout",
          "text": [
            "country                     63\n",
            "description                  0\n",
            "designation              37465\n",
            "points                       0\n",
            "price                     8996\n",
            "province                    63\n",
            "region_1                 21247\n",
            "region_2                 79460\n",
            "taster_name              26244\n",
            "taster_twitter_handle    31213\n",
            "title                        0\n",
            "variety                      1\n",
            "winery                       0\n",
            "dtype: int64\n"
          ]
        }
      ],
      "source": [
        "print(wine_reviews.isna().sum())"
      ]
    },
    {
      "cell_type": "markdown",
      "metadata": {
        "id": "q2N9d8d_nJ59"
      },
      "source": [
        "4. ¿Cuál o cuáles son los vinos con más valores faltantes?"
      ]
    },
    {
      "cell_type": "code",
      "execution_count": null,
      "metadata": {
        "colab": {
          "base_uri": "https://localhost:8080/"
        },
        "id": "b-8g8DqjnJ59",
        "outputId": "6d4bb359-d13e-4a18-b57f-95c4ef2bb3cd"
      },
      "outputs": [
        {
          "output_type": "execute_result",
          "data": {
            "text/plain": [
              "86909"
            ]
          },
          "metadata": {},
          "execution_count": 18
        }
      ],
      "source": [
        "wine_reviews.isna().sum(axis = 1).idxmax()"
      ]
    },
    {
      "cell_type": "code",
      "execution_count": null,
      "metadata": {
        "id": "zke82NBBnJ5-",
        "outputId": "0b639c99-0670-4a41-bf16-5d49beba3ff0"
      },
      "outputs": [
        {
          "data": {
            "text/plain": [
              "country                                                              Chile\n",
              "description              A chalky, dusty mouthfeel nicely balances this...\n",
              "designation                                                            NaN\n",
              "points                                                                  88\n",
              "price                                                                   17\n",
              "province                                                      Maipo Valley\n",
              "region_1                                                               NaN\n",
              "region_2                                                               NaN\n",
              "taster_name                                                            NaN\n",
              "taster_twitter_handle                                                  NaN\n",
              "title                                          Carmen 1999  (Maipo Valley)\n",
              "variety                                                                NaN\n",
              "winery                                                              Carmen\n",
              "Name: 86909, dtype: object"
            ]
          },
          "execution_count": 7,
          "metadata": {},
          "output_type": "execute_result"
        }
      ],
      "source": [
        "wine_reviews.iloc[wine_reviews.isna().sum(axis = 1).idxmax()]"
      ]
    },
    {
      "cell_type": "markdown",
      "metadata": {
        "id": "HwmcnwqbnJ5_"
      },
      "source": [
        "5. Hacerse alguna pregunta acerca del dataset e intentar responderla. Por ejemplo, ¿cuáles son el peor y el mejor vino? Imprimir en pantalla sus características y su descripción. ¿Hay un solo vino que sea el mejor o el peor?"
      ]
    },
    {
      "cell_type": "code",
      "execution_count": null,
      "metadata": {
        "id": "iEL1H1MwnJ5_",
        "outputId": "63469144-4b44-4177-f878-55406df4857f"
      },
      "outputs": [
        {
          "data": {
            "text/plain": [
              "country                                                          Australia\n",
              "description              This wine contains some material over 100 year...\n",
              "designation                                                           Rare\n",
              "points                                                                 100\n",
              "price                                                                  350\n",
              "province                                                          Victoria\n",
              "region_1                                                        Rutherglen\n",
              "region_2                                                               NaN\n",
              "taster_name                                                 Joe Czerwinski\n",
              "taster_twitter_handle                                               @JoeCz\n",
              "title                    Chambers Rosewood Vineyards NV Rare Muscat (Ru...\n",
              "variety                                                             Muscat\n",
              "winery                                         Chambers Rosewood Vineyards\n",
              "Name: 345, dtype: object"
            ]
          },
          "execution_count": 8,
          "metadata": {},
          "output_type": "execute_result"
        }
      ],
      "source": [
        "wine_reviews.loc[wine_reviews.points.idxmax()]"
      ]
    },
    {
      "cell_type": "code",
      "execution_count": null,
      "metadata": {
        "colab": {
          "base_uri": "https://localhost:8080/",
          "height": 70
        },
        "id": "y5zPWyxlnJ6A",
        "outputId": "80afbe70-0bb1-4960-aa60-eef1949ec31a"
      },
      "outputs": [
        {
          "output_type": "execute_result",
          "data": {
            "text/plain": [
              "\"This wine contains some material over 100 years old, but shows no signs of fragility. Instead, it's concentrated through age and should hold in the bottle indefinitely. It's dark coffee-brown in color, with delectable aromas of rancio, dried fig, molasses and black tea, yet despite enormous concentration avoids excessive weight. And it's amazingly complex and fresh on the nearly endless finish.\""
            ],
            "application/vnd.google.colaboratory.intrinsic+json": {
              "type": "string"
            }
          },
          "metadata": {},
          "execution_count": 19
        }
      ],
      "source": [
        "wine_reviews.loc[wine_reviews.points.idxmax()]['description']"
      ]
    },
    {
      "cell_type": "code",
      "execution_count": null,
      "metadata": {
        "id": "A_-xF_REnJ6A",
        "outputId": "a1f7bbd6-f8ec-41f7-fe4e-1ecc3246dfe4"
      },
      "outputs": [
        {
          "data": {
            "text/plain": [
              "country                                                              Chile\n",
              "description              Aromas of pumpkin, squash and corn chips are s...\n",
              "designation                                                   Gran Reserva\n",
              "points                                                                  80\n",
              "price                                                                   19\n",
              "province                                                      Leyda Valley\n",
              "region_1                                                               NaN\n",
              "region_2                                                               NaN\n",
              "taster_name                                              Michael Schachner\n",
              "taster_twitter_handle                                          @wineschach\n",
              "title                    Viña Tarapacá 2015 Gran Reserva Chardonnay (Le...\n",
              "variety                                                         Chardonnay\n",
              "winery                                                       Viña Tarapacá\n",
              "Name: 344, dtype: object"
            ]
          },
          "execution_count": 10,
          "metadata": {},
          "output_type": "execute_result"
        }
      ],
      "source": [
        "wine_reviews.loc[wine_reviews.points.idxmin()]"
      ]
    },
    {
      "cell_type": "code",
      "execution_count": null,
      "metadata": {
        "colab": {
          "base_uri": "https://localhost:8080/",
          "height": 53
        },
        "id": "irXmdciRnJ6B",
        "outputId": "11855062-42bb-4668-acf2-afa8e241441f"
      },
      "outputs": [
        {
          "output_type": "execute_result",
          "data": {
            "text/plain": [
              "\"Aromas of pumpkin, squash and corn chips are stale and not inviting. There's an acceptable mouthfeel to this weird, unbalanced Chardonnay along with flavors of spiced squash, mealy apple and sautéed root vegetables.\""
            ],
            "application/vnd.google.colaboratory.intrinsic+json": {
              "type": "string"
            }
          },
          "metadata": {},
          "execution_count": 20
        }
      ],
      "source": [
        "wine_reviews.loc[wine_reviews.points.idxmin()]['description']"
      ]
    },
    {
      "cell_type": "markdown",
      "metadata": {
        "id": "D96Dm1AxnJ6B"
      },
      "source": [
        "## Trabajando con datos faltantes\n",
        "\n",
        "Antes de realizar cada una de las siguientes consignas, recordá copiar el dataset en una nueva variable, así mantemos el dataset original sin modificar.\n",
        "\n",
        "1. Descartar aquellas filas que tengan algún valor faltante. ¿Cuántas instancias quedan en el dataset?"
      ]
    },
    {
      "cell_type": "code",
      "execution_count": null,
      "metadata": {
        "id": "WhoIjSSPnJ6D"
      },
      "outputs": [],
      "source": [
        "wine_reviews_copia = wine_reviews.copy()"
      ]
    },
    {
      "cell_type": "code",
      "execution_count": null,
      "metadata": {
        "colab": {
          "base_uri": "https://localhost:8080/"
        },
        "id": "eJwlE_bFnJ6E",
        "outputId": "99e3e1f7-452c-4b9d-aee8-e455ed58304e"
      },
      "outputs": [
        {
          "output_type": "execute_result",
          "data": {
            "text/plain": [
              "(22387, 13)"
            ]
          },
          "metadata": {},
          "execution_count": 23
        }
      ],
      "source": [
        "wine_reviews_copia.dropna(inplace = True)\n",
        "wine_reviews_copia.shape"
      ]
    },
    {
      "cell_type": "markdown",
      "metadata": {
        "id": "CeXvX0K4nJ6F"
      },
      "source": [
        "2. Descartar aquellas columnas que tengan algún valor faltante. ¿Cuántos y cuáles atributos quedaron?"
      ]
    },
    {
      "cell_type": "code",
      "execution_count": null,
      "metadata": {
        "id": "6zZ6u3SxnJ6F"
      },
      "outputs": [],
      "source": [
        "wine_reviews_copia = wine_reviews.copy()"
      ]
    },
    {
      "cell_type": "code",
      "execution_count": null,
      "metadata": {
        "id": "TIhMM6-TnJ6F",
        "outputId": "f1dc5d69-8771-4ea2-dd89-a6340f8b96df"
      },
      "outputs": [
        {
          "data": {
            "text/plain": [
              "(129971, 4)"
            ]
          },
          "execution_count": 15,
          "metadata": {},
          "output_type": "execute_result"
        }
      ],
      "source": [
        "wine_reviews_copia.dropna(axis = 1, inplace = True)\n",
        "wine_reviews_copia.shape"
      ]
    },
    {
      "cell_type": "code",
      "execution_count": null,
      "metadata": {
        "id": "Zhmce77VnJ6G",
        "outputId": "a555949a-123a-4163-b3f0-9606ccb1852a"
      },
      "outputs": [
        {
          "data": {
            "text/html": [
              "<div>\n",
              "<style scoped>\n",
              "    .dataframe tbody tr th:only-of-type {\n",
              "        vertical-align: middle;\n",
              "    }\n",
              "\n",
              "    .dataframe tbody tr th {\n",
              "        vertical-align: top;\n",
              "    }\n",
              "\n",
              "    .dataframe thead th {\n",
              "        text-align: right;\n",
              "    }\n",
              "</style>\n",
              "<table border=\"1\" class=\"dataframe\">\n",
              "  <thead>\n",
              "    <tr style=\"text-align: right;\">\n",
              "      <th></th>\n",
              "      <th>description</th>\n",
              "      <th>points</th>\n",
              "      <th>title</th>\n",
              "      <th>winery</th>\n",
              "    </tr>\n",
              "  </thead>\n",
              "  <tbody>\n",
              "    <tr>\n",
              "      <th>0</th>\n",
              "      <td>Aromas include tropical fruit, broom, brimston...</td>\n",
              "      <td>87</td>\n",
              "      <td>Nicosia 2013 Vulkà Bianco  (Etna)</td>\n",
              "      <td>Nicosia</td>\n",
              "    </tr>\n",
              "    <tr>\n",
              "      <th>1</th>\n",
              "      <td>This is ripe and fruity, a wine that is smooth...</td>\n",
              "      <td>87</td>\n",
              "      <td>Quinta dos Avidagos 2011 Avidagos Red (Douro)</td>\n",
              "      <td>Quinta dos Avidagos</td>\n",
              "    </tr>\n",
              "    <tr>\n",
              "      <th>2</th>\n",
              "      <td>Tart and snappy, the flavors of lime flesh and...</td>\n",
              "      <td>87</td>\n",
              "      <td>Rainstorm 2013 Pinot Gris (Willamette Valley)</td>\n",
              "      <td>Rainstorm</td>\n",
              "    </tr>\n",
              "    <tr>\n",
              "      <th>3</th>\n",
              "      <td>Pineapple rind, lemon pith and orange blossom ...</td>\n",
              "      <td>87</td>\n",
              "      <td>St. Julian 2013 Reserve Late Harvest Riesling ...</td>\n",
              "      <td>St. Julian</td>\n",
              "    </tr>\n",
              "    <tr>\n",
              "      <th>4</th>\n",
              "      <td>Much like the regular bottling from 2012, this...</td>\n",
              "      <td>87</td>\n",
              "      <td>Sweet Cheeks 2012 Vintner's Reserve Wild Child...</td>\n",
              "      <td>Sweet Cheeks</td>\n",
              "    </tr>\n",
              "  </tbody>\n",
              "</table>\n",
              "</div>"
            ],
            "text/plain": [
              "                                         description  points  \\\n",
              "0  Aromas include tropical fruit, broom, brimston...      87   \n",
              "1  This is ripe and fruity, a wine that is smooth...      87   \n",
              "2  Tart and snappy, the flavors of lime flesh and...      87   \n",
              "3  Pineapple rind, lemon pith and orange blossom ...      87   \n",
              "4  Much like the regular bottling from 2012, this...      87   \n",
              "\n",
              "                                               title               winery  \n",
              "0                  Nicosia 2013 Vulkà Bianco  (Etna)              Nicosia  \n",
              "1      Quinta dos Avidagos 2011 Avidagos Red (Douro)  Quinta dos Avidagos  \n",
              "2      Rainstorm 2013 Pinot Gris (Willamette Valley)            Rainstorm  \n",
              "3  St. Julian 2013 Reserve Late Harvest Riesling ...           St. Julian  \n",
              "4  Sweet Cheeks 2012 Vintner's Reserve Wild Child...         Sweet Cheeks  "
            ]
          },
          "execution_count": 16,
          "metadata": {},
          "output_type": "execute_result"
        }
      ],
      "source": [
        "wine_reviews_copia.head()"
      ]
    },
    {
      "cell_type": "markdown",
      "metadata": {
        "id": "yJ0eq6J0nJ6G"
      },
      "source": [
        "Pueden observar que descartar sin ningún criterio puede hacer que perdamos muchos datos.\n",
        "\n",
        "Tratemos de mejorar un poco los criterios con los que descartamos."
      ]
    },
    {
      "cell_type": "markdown",
      "metadata": {
        "id": "7_xEN-ZhnJ6G"
      },
      "source": [
        "3. Descartar aquellas filas que tengan más de tres valores faltantes. ¿Cuántas instancias quedaron?"
      ]
    },
    {
      "cell_type": "code",
      "execution_count": null,
      "metadata": {
        "id": "_CV4lNEbnJ6H"
      },
      "outputs": [],
      "source": [
        "wine_reviews_copia = wine_reviews.copy()"
      ]
    },
    {
      "cell_type": "code",
      "execution_count": null,
      "metadata": {
        "id": "Np-G-GGEnJ6H",
        "outputId": "e9bac86b-291a-4f7b-ac24-f78233d46f71"
      },
      "outputs": [
        {
          "data": {
            "text/plain": [
              "(129971, 13)"
            ]
          },
          "execution_count": 18,
          "metadata": {},
          "output_type": "execute_result"
        }
      ],
      "source": [
        "wine_reviews_copia.dropna(inplace = True, thresh=3)\n",
        "wine_reviews_copia.shape"
      ]
    },
    {
      "cell_type": "markdown",
      "metadata": {
        "id": "7o7uUNxJnJ6H"
      },
      "source": [
        "4. Descartar aquellas columnas que tengan más del 50% de valores faltantes. ¿Cuántos y cuáles atributos quedaron? Luego, descartar las instancias que tengan algún valor faltante."
      ]
    },
    {
      "cell_type": "code",
      "execution_count": null,
      "metadata": {
        "id": "wcipFPY1nJ6H"
      },
      "outputs": [],
      "source": [
        "wine_reviews_copia = wine_reviews.copy()"
      ]
    },
    {
      "cell_type": "code",
      "execution_count": null,
      "metadata": {
        "id": "tDcV7ESknJ6I",
        "outputId": "64d8cfcb-43fc-464e-bd39-e13cc5f92629"
      },
      "outputs": [
        {
          "data": {
            "text/plain": [
              "(129971, 12)"
            ]
          },
          "execution_count": 20,
          "metadata": {},
          "output_type": "execute_result"
        }
      ],
      "source": [
        "wine_reviews_copia.dropna(axis = 1, inplace = True, thresh=wine_reviews_copia.shape[0]*0.5)\n",
        "wine_reviews_copia.shape"
      ]
    },
    {
      "cell_type": "code",
      "execution_count": null,
      "metadata": {
        "id": "OKrA5yGPnJ6I",
        "outputId": "9cf0b42d-e214-45dd-9af4-bd0b0e69c4c8"
      },
      "outputs": [
        {
          "data": {
            "text/plain": [
              "(52106, 12)"
            ]
          },
          "execution_count": 21,
          "metadata": {},
          "output_type": "execute_result"
        }
      ],
      "source": [
        "wine_reviews_copia.dropna(inplace = True)\n",
        "wine_reviews_copia.shape"
      ]
    },
    {
      "cell_type": "code",
      "execution_count": null,
      "metadata": {
        "colab": {
          "base_uri": "https://localhost:8080/",
          "height": 793
        },
        "id": "PZ3SGw5vnJ6I",
        "outputId": "53e4bf0c-e6ba-4283-d7d9-c12cf68e3f74"
      },
      "outputs": [
        {
          "output_type": "execute_result",
          "data": {
            "text/plain": [
              "   country                                        description  \\\n",
              "4       US  Much like the regular bottling from 2012, this...   \n",
              "10      US  Soft, supple plum envelopes an oaky structure ...   \n",
              "23      US  This wine from the Geneseo district offers aro...   \n",
              "25      US  Oak and earth intermingle around robust aromas...   \n",
              "35      US  As with many of the Erath 2010 vineyard design...   \n",
              "\n",
              "                           designation  points  price    province  \\\n",
              "4   Vintner's Reserve Wild Child Block      87   65.0      Oregon   \n",
              "10                      Mountain Cuvée      87   19.0  California   \n",
              "23                 Signature Selection      87   22.0  California   \n",
              "25                 King Ridge Vineyard      87   69.0  California   \n",
              "35                              Hyland      86   50.0      Oregon   \n",
              "\n",
              "             region_1           region_2     taster_name  \\\n",
              "4   Willamette Valley  Willamette Valley    Paul Gregutt   \n",
              "10        Napa Valley               Napa  Virginie Boone   \n",
              "23        Paso Robles      Central Coast   Matt Kettmann   \n",
              "25       Sonoma Coast             Sonoma  Virginie Boone   \n",
              "35        McMinnville  Willamette Valley    Paul Gregutt   \n",
              "\n",
              "   taster_twitter_handle                                              title  \\\n",
              "4            @paulgwine   Sweet Cheeks 2012 Vintner's Reserve Wild Child...   \n",
              "10               @vboone  Kirkland Signature 2011 Mountain Cuvée Caberne...   \n",
              "23         @mattkettmann  Bianchi 2011 Signature Selection Merlot (Paso ...   \n",
              "25               @vboone  Castello di Amorosa 2011 King Ridge Vineyard P...   \n",
              "35           @paulgwine          Erath 2010 Hyland Pinot Noir (McMinnville)   \n",
              "\n",
              "               variety               winery  \n",
              "4           Pinot Noir         Sweet Cheeks  \n",
              "10  Cabernet Sauvignon   Kirkland Signature  \n",
              "23              Merlot              Bianchi  \n",
              "25          Pinot Noir  Castello di Amorosa  \n",
              "35          Pinot Noir                Erath  "
            ],
            "text/html": [
              "\n",
              "  <div id=\"df-05e2419e-ff1f-4831-a6db-b099ca75c736\">\n",
              "    <div class=\"colab-df-container\">\n",
              "      <div>\n",
              "<style scoped>\n",
              "    .dataframe tbody tr th:only-of-type {\n",
              "        vertical-align: middle;\n",
              "    }\n",
              "\n",
              "    .dataframe tbody tr th {\n",
              "        vertical-align: top;\n",
              "    }\n",
              "\n",
              "    .dataframe thead th {\n",
              "        text-align: right;\n",
              "    }\n",
              "</style>\n",
              "<table border=\"1\" class=\"dataframe\">\n",
              "  <thead>\n",
              "    <tr style=\"text-align: right;\">\n",
              "      <th></th>\n",
              "      <th>country</th>\n",
              "      <th>description</th>\n",
              "      <th>designation</th>\n",
              "      <th>points</th>\n",
              "      <th>price</th>\n",
              "      <th>province</th>\n",
              "      <th>region_1</th>\n",
              "      <th>region_2</th>\n",
              "      <th>taster_name</th>\n",
              "      <th>taster_twitter_handle</th>\n",
              "      <th>title</th>\n",
              "      <th>variety</th>\n",
              "      <th>winery</th>\n",
              "    </tr>\n",
              "  </thead>\n",
              "  <tbody>\n",
              "    <tr>\n",
              "      <th>4</th>\n",
              "      <td>US</td>\n",
              "      <td>Much like the regular bottling from 2012, this...</td>\n",
              "      <td>Vintner's Reserve Wild Child Block</td>\n",
              "      <td>87</td>\n",
              "      <td>65.0</td>\n",
              "      <td>Oregon</td>\n",
              "      <td>Willamette Valley</td>\n",
              "      <td>Willamette Valley</td>\n",
              "      <td>Paul Gregutt</td>\n",
              "      <td>@paulgwine</td>\n",
              "      <td>Sweet Cheeks 2012 Vintner's Reserve Wild Child...</td>\n",
              "      <td>Pinot Noir</td>\n",
              "      <td>Sweet Cheeks</td>\n",
              "    </tr>\n",
              "    <tr>\n",
              "      <th>10</th>\n",
              "      <td>US</td>\n",
              "      <td>Soft, supple plum envelopes an oaky structure ...</td>\n",
              "      <td>Mountain Cuvée</td>\n",
              "      <td>87</td>\n",
              "      <td>19.0</td>\n",
              "      <td>California</td>\n",
              "      <td>Napa Valley</td>\n",
              "      <td>Napa</td>\n",
              "      <td>Virginie Boone</td>\n",
              "      <td>@vboone</td>\n",
              "      <td>Kirkland Signature 2011 Mountain Cuvée Caberne...</td>\n",
              "      <td>Cabernet Sauvignon</td>\n",
              "      <td>Kirkland Signature</td>\n",
              "    </tr>\n",
              "    <tr>\n",
              "      <th>23</th>\n",
              "      <td>US</td>\n",
              "      <td>This wine from the Geneseo district offers aro...</td>\n",
              "      <td>Signature Selection</td>\n",
              "      <td>87</td>\n",
              "      <td>22.0</td>\n",
              "      <td>California</td>\n",
              "      <td>Paso Robles</td>\n",
              "      <td>Central Coast</td>\n",
              "      <td>Matt Kettmann</td>\n",
              "      <td>@mattkettmann</td>\n",
              "      <td>Bianchi 2011 Signature Selection Merlot (Paso ...</td>\n",
              "      <td>Merlot</td>\n",
              "      <td>Bianchi</td>\n",
              "    </tr>\n",
              "    <tr>\n",
              "      <th>25</th>\n",
              "      <td>US</td>\n",
              "      <td>Oak and earth intermingle around robust aromas...</td>\n",
              "      <td>King Ridge Vineyard</td>\n",
              "      <td>87</td>\n",
              "      <td>69.0</td>\n",
              "      <td>California</td>\n",
              "      <td>Sonoma Coast</td>\n",
              "      <td>Sonoma</td>\n",
              "      <td>Virginie Boone</td>\n",
              "      <td>@vboone</td>\n",
              "      <td>Castello di Amorosa 2011 King Ridge Vineyard P...</td>\n",
              "      <td>Pinot Noir</td>\n",
              "      <td>Castello di Amorosa</td>\n",
              "    </tr>\n",
              "    <tr>\n",
              "      <th>35</th>\n",
              "      <td>US</td>\n",
              "      <td>As with many of the Erath 2010 vineyard design...</td>\n",
              "      <td>Hyland</td>\n",
              "      <td>86</td>\n",
              "      <td>50.0</td>\n",
              "      <td>Oregon</td>\n",
              "      <td>McMinnville</td>\n",
              "      <td>Willamette Valley</td>\n",
              "      <td>Paul Gregutt</td>\n",
              "      <td>@paulgwine</td>\n",
              "      <td>Erath 2010 Hyland Pinot Noir (McMinnville)</td>\n",
              "      <td>Pinot Noir</td>\n",
              "      <td>Erath</td>\n",
              "    </tr>\n",
              "  </tbody>\n",
              "</table>\n",
              "</div>\n",
              "      <button class=\"colab-df-convert\" onclick=\"convertToInteractive('df-05e2419e-ff1f-4831-a6db-b099ca75c736')\"\n",
              "              title=\"Convert this dataframe to an interactive table.\"\n",
              "              style=\"display:none;\">\n",
              "        \n",
              "  <svg xmlns=\"http://www.w3.org/2000/svg\" height=\"24px\"viewBox=\"0 0 24 24\"\n",
              "       width=\"24px\">\n",
              "    <path d=\"M0 0h24v24H0V0z\" fill=\"none\"/>\n",
              "    <path d=\"M18.56 5.44l.94 2.06.94-2.06 2.06-.94-2.06-.94-.94-2.06-.94 2.06-2.06.94zm-11 1L8.5 8.5l.94-2.06 2.06-.94-2.06-.94L8.5 2.5l-.94 2.06-2.06.94zm10 10l.94 2.06.94-2.06 2.06-.94-2.06-.94-.94-2.06-.94 2.06-2.06.94z\"/><path d=\"M17.41 7.96l-1.37-1.37c-.4-.4-.92-.59-1.43-.59-.52 0-1.04.2-1.43.59L10.3 9.45l-7.72 7.72c-.78.78-.78 2.05 0 2.83L4 21.41c.39.39.9.59 1.41.59.51 0 1.02-.2 1.41-.59l7.78-7.78 2.81-2.81c.8-.78.8-2.07 0-2.86zM5.41 20L4 18.59l7.72-7.72 1.47 1.35L5.41 20z\"/>\n",
              "  </svg>\n",
              "      </button>\n",
              "      \n",
              "  <style>\n",
              "    .colab-df-container {\n",
              "      display:flex;\n",
              "      flex-wrap:wrap;\n",
              "      gap: 12px;\n",
              "    }\n",
              "\n",
              "    .colab-df-convert {\n",
              "      background-color: #E8F0FE;\n",
              "      border: none;\n",
              "      border-radius: 50%;\n",
              "      cursor: pointer;\n",
              "      display: none;\n",
              "      fill: #1967D2;\n",
              "      height: 32px;\n",
              "      padding: 0 0 0 0;\n",
              "      width: 32px;\n",
              "    }\n",
              "\n",
              "    .colab-df-convert:hover {\n",
              "      background-color: #E2EBFA;\n",
              "      box-shadow: 0px 1px 2px rgba(60, 64, 67, 0.3), 0px 1px 3px 1px rgba(60, 64, 67, 0.15);\n",
              "      fill: #174EA6;\n",
              "    }\n",
              "\n",
              "    [theme=dark] .colab-df-convert {\n",
              "      background-color: #3B4455;\n",
              "      fill: #D2E3FC;\n",
              "    }\n",
              "\n",
              "    [theme=dark] .colab-df-convert:hover {\n",
              "      background-color: #434B5C;\n",
              "      box-shadow: 0px 1px 3px 1px rgba(0, 0, 0, 0.15);\n",
              "      filter: drop-shadow(0px 1px 2px rgba(0, 0, 0, 0.3));\n",
              "      fill: #FFFFFF;\n",
              "    }\n",
              "  </style>\n",
              "\n",
              "      <script>\n",
              "        const buttonEl =\n",
              "          document.querySelector('#df-05e2419e-ff1f-4831-a6db-b099ca75c736 button.colab-df-convert');\n",
              "        buttonEl.style.display =\n",
              "          google.colab.kernel.accessAllowed ? 'block' : 'none';\n",
              "\n",
              "        async function convertToInteractive(key) {\n",
              "          const element = document.querySelector('#df-05e2419e-ff1f-4831-a6db-b099ca75c736');\n",
              "          const dataTable =\n",
              "            await google.colab.kernel.invokeFunction('convertToInteractive',\n",
              "                                                     [key], {});\n",
              "          if (!dataTable) return;\n",
              "\n",
              "          const docLinkHtml = 'Like what you see? Visit the ' +\n",
              "            '<a target=\"_blank\" href=https://colab.research.google.com/notebooks/data_table.ipynb>data table notebook</a>'\n",
              "            + ' to learn more about interactive tables.';\n",
              "          element.innerHTML = '';\n",
              "          dataTable['output_type'] = 'display_data';\n",
              "          await google.colab.output.renderOutput(dataTable, element);\n",
              "          const docLink = document.createElement('div');\n",
              "          docLink.innerHTML = docLinkHtml;\n",
              "          element.appendChild(docLink);\n",
              "        }\n",
              "      </script>\n",
              "    </div>\n",
              "  </div>\n",
              "  "
            ]
          },
          "metadata": {},
          "execution_count": 24
        }
      ],
      "source": [
        "wine_reviews_copia.head()"
      ]
    },
    {
      "cell_type": "markdown",
      "metadata": {
        "id": "xL10lJfBnJ6I"
      },
      "source": [
        "**Moraleja**: el orden importa. Primero, podemos descartar aquellas columnas con muchos valores faltantes y después descartar aquellas instancias con valores faltantes.\n",
        "\n",
        "**Para pensar:** ¿de qué tipo son las variables del dataset?¿Es lo mismo un valor faltante en `price` que en `variety`?\n",
        "\n",
        "**Ejercicio**\n",
        "\n",
        "Hasta ahora, estamos descartando columnas y/o instancias sin prestar mucha atención qué representa cada columna. Elegir alguno de los siguientes objetivos y hacer un manejo de valores faltantes que consideren apropiado para ese objetivo:\n",
        "\n",
        "* Predecir el precio de un vino. \n",
        "* Predecir la variedad de un vino.\n",
        "\n",
        "Prestar atención a si no hay información redundante en las columnas.\n"
      ]
    },
    {
      "cell_type": "code",
      "execution_count": null,
      "metadata": {
        "id": "H5WXKQ1ynJ6J"
      },
      "outputs": [],
      "source": [
        "# COMPLETAR"
      ]
    },
    {
      "cell_type": "markdown",
      "metadata": {
        "id": "a2nw-Pv9nJ6J"
      },
      "source": [
        "## Imputación de Valores Faltantes\n",
        "\n",
        "La columna `price` tiene alrededor de 9 mil valores faltantes, pero no queremos descartarla ni descartar instancias por el simple hecho de que no sepamos su precio. Esto se debe a que el precio tiene mucha información y, eventualmente, puede ser la columna que querramos predecir. Además, no son tantos valores faltantes si consideramos la cantidad de instancias que tiene el dataset. Entonces:\n",
        "\n",
        "\n",
        "1. Calcular el valor medio, moda, mediana y la desviación estándar de la columna `price`."
      ]
    },
    {
      "cell_type": "code",
      "execution_count": null,
      "metadata": {
        "id": "Y7cGoMp1nJ6J",
        "outputId": "95b359ba-ec7f-40d5-ec6f-407dcc9de96e"
      },
      "outputs": [
        {
          "name": "stdout",
          "output_type": "stream",
          "text": [
            "35.363389129985535\n",
            "20.0\n",
            "25.0\n",
            "41.02221766808723\n"
          ]
        }
      ],
      "source": [
        "print(wine_reviews.price.mean())\n",
        "print(wine_reviews.price.mode()[0])\n",
        "print(wine_reviews.price.median())\n",
        "print(wine_reviews.price.std())"
      ]
    },
    {
      "cell_type": "markdown",
      "metadata": {
        "id": "VCNkiPXqnJ6J"
      },
      "source": [
        "2. Imputar los valores faltantes en la columna `price` usando su valor medio."
      ]
    },
    {
      "cell_type": "code",
      "execution_count": null,
      "metadata": {
        "id": "RtQhtT6DnJ6K"
      },
      "outputs": [],
      "source": [
        "wine_reviews_copia = wine_reviews.copy()\n",
        "wine_reviews_copia.fillna(wine_reviews.price.mean(), inplace = True)"
      ]
    },
    {
      "cell_type": "markdown",
      "metadata": {
        "id": "5Kz9PTDlnJ6K"
      },
      "source": [
        "3. ¿Cambió el valor medio de la columna?¿Y su desviación estándar?¿Y los otros estadísticos que calculamos?¿Por qué?"
      ]
    },
    {
      "cell_type": "code",
      "execution_count": null,
      "metadata": {
        "id": "LRe4vXXpnJ6K",
        "outputId": "4556c1a5-293c-41eb-bfa2-3f6a39af5e29"
      },
      "outputs": [
        {
          "name": "stdout",
          "output_type": "stream",
          "text": [
            "35.363389129985535\n",
            "35.363389129985535\n",
            "28.0\n",
            "39.577066045021446\n"
          ]
        }
      ],
      "source": [
        "print(wine_reviews_copia.price.mean())\n",
        "print(wine_reviews_copia.price.mode()[0])\n",
        "print(wine_reviews_copia.price.median())\n",
        "print(wine_reviews_copia.price.std())"
      ]
    },
    {
      "cell_type": "markdown",
      "metadata": {
        "id": "iD-esFPHnJ6K"
      },
      "source": [
        "4. Volver a correr las celdas anteriores, pero completando los valores faltantes con la mediana y luego la moda."
      ]
    },
    {
      "cell_type": "markdown",
      "metadata": {
        "id": "euTyFVvznJ6K"
      },
      "source": [
        "5. Trabajar con un dataset sin visualizar es muy aburrido y, diríamos, casi frustrante. Mientras tanto, intenten hacer un histograma de los puntajes asignados y, luego, de los precios."
      ]
    },
    {
      "cell_type": "code",
      "execution_count": null,
      "metadata": {
        "colab": {
          "base_uri": "https://localhost:8080/",
          "height": 279
        },
        "id": "J5hEwCconJ6L",
        "outputId": "6047312b-e0a8-4d31-afc4-7c806b1e032e"
      },
      "outputs": [
        {
          "output_type": "display_data",
          "data": {
            "text/plain": [
              "<Figure size 432x288 with 1 Axes>"
            ],
            "image/png": "[encoded data removed]"
          },
          "metadata": {
            "needs_background": "light"
          }
        }
      ],
      "source": [
        "plt.hist(wine_reviews_copia.points, bins= 20)\n",
        "plt.xlabel('Puntaje')\n",
        "plt.ylabel('Qtty Vinos')\n",
        "plt.grid()\n",
        "plt.show()          #Para mostrar el gráfico en una celda, siempre debe ir este comando"
      ]
    },
    {
      "cell_type": "code",
      "execution_count": null,
      "metadata": {
        "colab": {
          "base_uri": "https://localhost:8080/",
          "height": 279
        },
        "id": "ckX-bl0cnJ6L",
        "outputId": "71a71bd0-e378-4156-abb2-d3df5d411970"
      },
      "outputs": [
        {
          "output_type": "display_data",
          "data": {
            "text/plain": [
              "<Figure size 432x288 with 1 Axes>"
            ],
            "image/png": "[encoded data removed]"
          },
          "metadata": {
            "needs_background": "light"
          }
        }
      ],
      "source": [
        "plt.hist(wine_reviews_copia.price, bins= 10)#, log = True)\n",
        "plt.xlabel('Precio')\n",
        "plt.ylabel('Qtty Vinos')\n",
        "plt.grid()\n",
        "plt.show()"
      ]
    },
    {
      "cell_type": "markdown",
      "metadata": {
        "id": "SCGGK9v9nJ6L"
      },
      "source": [
        "Respecto al segundo gráfico, ¿les gusta cómo queda?¿Qué es una escala logarítmica?"
      ]
    }
  ],
  "metadata": {
    "kernelspec": {
      "display_name": "Python 3",
      "language": "python",
      "name": "python3"
    },
    "language_info": {
      "codemirror_mode": {
        "name": "ipython",
        "version": 3
      },
      "file_extension": ".py",
      "mimetype": "text/x-python",
      "name": "python",
      "nbconvert_exporter": "python",
      "pygments_lexer": "ipython3",
      "version": "3.11.0"
    },
    "vscode": {
      "interpreter": {
        "hash": "c261aea317cc0286b3b3261fbba9abdec21eaa57589985bb7a274bf54d6cc0a7"
      }
    },
    "colab": {
      "provenance": [],
      "include_colab_link": true
    }
  },
  "nbformat": 4,
  "nbformat_minor": 0
}